{
 "cells": [
  {
   "cell_type": "markdown",
   "id": "f661670d",
   "metadata": {},
   "source": [
    "# КТ-2"
   ]
  },
  {
   "cell_type": "markdown",
   "id": "bff0f822",
   "metadata": {},
   "source": [
    "Томашук Анна Э-2109"
   ]
  },
  {
   "cell_type": "code",
   "execution_count": 242,
   "id": "fa92f45d",
   "metadata": {},
   "outputs": [],
   "source": [
    "import pandas as pd\n",
    "import numpy as np\n",
    "import matplotlib.pyplot as plt\n",
    "import seaborn as sns\n",
    "from scipy import stats as st\n",
    "\n",
    "from sklearn.linear_model import LinearRegression\n",
    "from sklearn.model_selection import train_test_split\n",
    "from sklearn.metrics import r2_score, mean_squared_error"
   ]
  },
  {
   "cell_type": "code",
   "execution_count": 189,
   "id": "291c40d7",
   "metadata": {},
   "outputs": [],
   "source": [
    "# загружаем данные\n",
    "df = pd.read_csv('laptop_price.csv', encoding='latin1') # была проблема с кодировкой, поставила другую"
   ]
  },
  {
   "cell_type": "code",
   "execution_count": 190,
   "id": "b7bbd508",
   "metadata": {},
   "outputs": [
    {
     "data": {
      "text/html": [
       "<div>\n",
       "<style scoped>\n",
       "    .dataframe tbody tr th:only-of-type {\n",
       "        vertical-align: middle;\n",
       "    }\n",
       "\n",
       "    .dataframe tbody tr th {\n",
       "        vertical-align: top;\n",
       "    }\n",
       "\n",
       "    .dataframe thead th {\n",
       "        text-align: right;\n",
       "    }\n",
       "</style>\n",
       "<table border=\"1\" class=\"dataframe\">\n",
       "  <thead>\n",
       "    <tr style=\"text-align: right;\">\n",
       "      <th></th>\n",
       "      <th>laptop_ID</th>\n",
       "      <th>Company</th>\n",
       "      <th>Product</th>\n",
       "      <th>TypeName</th>\n",
       "      <th>Inches</th>\n",
       "      <th>ScreenResolution</th>\n",
       "      <th>Cpu</th>\n",
       "      <th>Ram</th>\n",
       "      <th>Memory</th>\n",
       "      <th>Gpu</th>\n",
       "      <th>OpSys</th>\n",
       "      <th>Weight</th>\n",
       "      <th>Price_euros</th>\n",
       "    </tr>\n",
       "  </thead>\n",
       "  <tbody>\n",
       "    <tr>\n",
       "      <th>0</th>\n",
       "      <td>1</td>\n",
       "      <td>Apple</td>\n",
       "      <td>MacBook Pro</td>\n",
       "      <td>Ultrabook</td>\n",
       "      <td>13.3</td>\n",
       "      <td>IPS Panel Retina Display 2560x1600</td>\n",
       "      <td>Intel Core i5 2.3GHz</td>\n",
       "      <td>8GB</td>\n",
       "      <td>128GB SSD</td>\n",
       "      <td>Intel Iris Plus Graphics 640</td>\n",
       "      <td>macOS</td>\n",
       "      <td>1.37kg</td>\n",
       "      <td>1339.69</td>\n",
       "    </tr>\n",
       "    <tr>\n",
       "      <th>1</th>\n",
       "      <td>2</td>\n",
       "      <td>Apple</td>\n",
       "      <td>Macbook Air</td>\n",
       "      <td>Ultrabook</td>\n",
       "      <td>13.3</td>\n",
       "      <td>1440x900</td>\n",
       "      <td>Intel Core i5 1.8GHz</td>\n",
       "      <td>8GB</td>\n",
       "      <td>128GB Flash Storage</td>\n",
       "      <td>Intel HD Graphics 6000</td>\n",
       "      <td>macOS</td>\n",
       "      <td>1.34kg</td>\n",
       "      <td>898.94</td>\n",
       "    </tr>\n",
       "    <tr>\n",
       "      <th>2</th>\n",
       "      <td>3</td>\n",
       "      <td>HP</td>\n",
       "      <td>250 G6</td>\n",
       "      <td>Notebook</td>\n",
       "      <td>15.6</td>\n",
       "      <td>Full HD 1920x1080</td>\n",
       "      <td>Intel Core i5 7200U 2.5GHz</td>\n",
       "      <td>8GB</td>\n",
       "      <td>256GB SSD</td>\n",
       "      <td>Intel HD Graphics 620</td>\n",
       "      <td>No OS</td>\n",
       "      <td>1.86kg</td>\n",
       "      <td>575.00</td>\n",
       "    </tr>\n",
       "    <tr>\n",
       "      <th>3</th>\n",
       "      <td>4</td>\n",
       "      <td>Apple</td>\n",
       "      <td>MacBook Pro</td>\n",
       "      <td>Ultrabook</td>\n",
       "      <td>15.4</td>\n",
       "      <td>IPS Panel Retina Display 2880x1800</td>\n",
       "      <td>Intel Core i7 2.7GHz</td>\n",
       "      <td>16GB</td>\n",
       "      <td>512GB SSD</td>\n",
       "      <td>AMD Radeon Pro 455</td>\n",
       "      <td>macOS</td>\n",
       "      <td>1.83kg</td>\n",
       "      <td>2537.45</td>\n",
       "    </tr>\n",
       "    <tr>\n",
       "      <th>4</th>\n",
       "      <td>5</td>\n",
       "      <td>Apple</td>\n",
       "      <td>MacBook Pro</td>\n",
       "      <td>Ultrabook</td>\n",
       "      <td>13.3</td>\n",
       "      <td>IPS Panel Retina Display 2560x1600</td>\n",
       "      <td>Intel Core i5 3.1GHz</td>\n",
       "      <td>8GB</td>\n",
       "      <td>256GB SSD</td>\n",
       "      <td>Intel Iris Plus Graphics 650</td>\n",
       "      <td>macOS</td>\n",
       "      <td>1.37kg</td>\n",
       "      <td>1803.60</td>\n",
       "    </tr>\n",
       "  </tbody>\n",
       "</table>\n",
       "</div>"
      ],
      "text/plain": [
       "   laptop_ID Company      Product   TypeName  Inches  \\\n",
       "0          1   Apple  MacBook Pro  Ultrabook    13.3   \n",
       "1          2   Apple  Macbook Air  Ultrabook    13.3   \n",
       "2          3      HP       250 G6   Notebook    15.6   \n",
       "3          4   Apple  MacBook Pro  Ultrabook    15.4   \n",
       "4          5   Apple  MacBook Pro  Ultrabook    13.3   \n",
       "\n",
       "                     ScreenResolution                         Cpu   Ram  \\\n",
       "0  IPS Panel Retina Display 2560x1600        Intel Core i5 2.3GHz   8GB   \n",
       "1                            1440x900        Intel Core i5 1.8GHz   8GB   \n",
       "2                   Full HD 1920x1080  Intel Core i5 7200U 2.5GHz   8GB   \n",
       "3  IPS Panel Retina Display 2880x1800        Intel Core i7 2.7GHz  16GB   \n",
       "4  IPS Panel Retina Display 2560x1600        Intel Core i5 3.1GHz   8GB   \n",
       "\n",
       "                Memory                           Gpu  OpSys  Weight  \\\n",
       "0            128GB SSD  Intel Iris Plus Graphics 640  macOS  1.37kg   \n",
       "1  128GB Flash Storage        Intel HD Graphics 6000  macOS  1.34kg   \n",
       "2            256GB SSD         Intel HD Graphics 620  No OS  1.86kg   \n",
       "3            512GB SSD            AMD Radeon Pro 455  macOS  1.83kg   \n",
       "4            256GB SSD  Intel Iris Plus Graphics 650  macOS  1.37kg   \n",
       "\n",
       "   Price_euros  \n",
       "0      1339.69  \n",
       "1       898.94  \n",
       "2       575.00  \n",
       "3      2537.45  \n",
       "4      1803.60  "
      ]
     },
     "execution_count": 190,
     "metadata": {},
     "output_type": "execute_result"
    }
   ],
   "source": [
    "# познакомимся с данными\n",
    "df.head(5)"
   ]
  },
  {
   "cell_type": "markdown",
   "id": "ee9b8f1e",
   "metadata": {},
   "source": [
    "Целевая переменная в этом случае - Price_euros, остальные столбцы (исключая laptop_ID - факторы)"
   ]
  },
  {
   "cell_type": "markdown",
   "id": "2d30bc70",
   "metadata": {},
   "source": [
    "### Предобработка данных "
   ]
  },
  {
   "cell_type": "code",
   "execution_count": 191,
   "id": "b3375030",
   "metadata": {},
   "outputs": [
    {
     "data": {
      "text/plain": [
       "0"
      ]
     },
     "execution_count": 191,
     "metadata": {},
     "output_type": "execute_result"
    }
   ],
   "source": [
    "# проверими наличие дубликатов\n",
    "df.duplicated().sum()"
   ]
  },
  {
   "cell_type": "code",
   "execution_count": 192,
   "id": "64cc308a",
   "metadata": {},
   "outputs": [
    {
     "data": {
      "text/plain": [
       "laptop_ID           0\n",
       "Company             0\n",
       "Product             0\n",
       "TypeName            0\n",
       "Inches              0\n",
       "ScreenResolution    0\n",
       "Cpu                 0\n",
       "Ram                 0\n",
       "Memory              0\n",
       "Gpu                 0\n",
       "OpSys               0\n",
       "Weight              0\n",
       "Price_euros         0\n",
       "dtype: int64"
      ]
     },
     "execution_count": 192,
     "metadata": {},
     "output_type": "execute_result"
    }
   ],
   "source": [
    "# посмотрим на пропущенные значения\n",
    "df.isna().sum()"
   ]
  },
  {
   "cell_type": "markdown",
   "id": "6f81120f",
   "metadata": {},
   "source": [
    "В наших данных нет дубликатов и пропущенных значений, можно продолжать работу."
   ]
  },
  {
   "cell_type": "markdown",
   "id": "46899021",
   "metadata": {},
   "source": [
    "## Обработка данных "
   ]
  },
  {
   "cell_type": "markdown",
   "id": "da1a83fc",
   "metadata": {},
   "source": [
    "Для дальнейшей работы выясним, какие переменные у нас количественные, а какие - категориальные."
   ]
  },
  {
   "cell_type": "code",
   "execution_count": 193,
   "id": "42201926",
   "metadata": {},
   "outputs": [
    {
     "data": {
      "text/plain": [
       "laptop_ID             int64\n",
       "Company              object\n",
       "Product              object\n",
       "TypeName             object\n",
       "Inches              float64\n",
       "ScreenResolution     object\n",
       "Cpu                  object\n",
       "Ram                  object\n",
       "Memory               object\n",
       "Gpu                  object\n",
       "OpSys                object\n",
       "Weight               object\n",
       "Price_euros         float64\n",
       "dtype: object"
      ]
     },
     "execution_count": 193,
     "metadata": {},
     "output_type": "execute_result"
    }
   ],
   "source": [
    "# посмотрим на тип данных в столбцах датасета\n",
    "df.dtypes"
   ]
  },
  {
   "cell_type": "markdown",
   "id": "08889d24",
   "metadata": {},
   "source": [
    "Столбец Inches - количественный, изучим остальные."
   ]
  },
  {
   "cell_type": "markdown",
   "id": "a089c3f5",
   "metadata": {},
   "source": [
    "Кажется, будто бы столбцы Ram, Weight, Memory  тоже должны содержать числовые данные, так как память и вес ноутбука - это число. Для прочтения столбцов Ram, Weight как числовых \"мешают\" единицы измерения.\n",
    "<br>\n",
    "Не спешим их удалять, проверим, что все данные в столбцах имеют одну единицу измерения."
   ]
  },
  {
   "cell_type": "markdown",
   "id": "11c6c10a",
   "metadata": {},
   "source": [
    "### Обработка столбцов  Ram и Weight"
   ]
  },
  {
   "cell_type": "code",
   "execution_count": 194,
   "id": "1b3e40be",
   "metadata": {},
   "outputs": [
    {
     "data": {
      "text/plain": [
       "array(['8GB', '16GB', '4GB', '2GB', '12GB', '6GB', '32GB', '24GB', '64GB'],\n",
       "      dtype=object)"
      ]
     },
     "execution_count": 194,
     "metadata": {},
     "output_type": "execute_result"
    }
   ],
   "source": [
    "df['Ram'].unique()"
   ]
  },
  {
   "cell_type": "code",
   "execution_count": 195,
   "id": "1861b4e6",
   "metadata": {},
   "outputs": [
    {
     "data": {
      "text/plain": [
       "array(['1.37kg', '1.34kg', '1.86kg', '1.83kg', '2.1kg', '2.04kg', '1.3kg',\n",
       "       '1.6kg', '2.2kg', '0.92kg', '1.22kg', '0.98kg', '2.5kg', '1.62kg',\n",
       "       '1.91kg', '2.3kg', '1.35kg', '1.88kg', '1.89kg', '1.65kg',\n",
       "       '2.71kg', '1.2kg', '1.44kg', '2.8kg', '2kg', '2.65kg', '2.77kg',\n",
       "       '3.2kg', '0.69kg', '1.49kg', '2.4kg', '2.13kg', '2.43kg', '1.7kg',\n",
       "       '1.4kg', '1.8kg', '1.9kg', '3kg', '1.252kg', '2.7kg', '2.02kg',\n",
       "       '1.63kg', '1.96kg', '1.21kg', '2.45kg', '1.25kg', '1.5kg',\n",
       "       '2.62kg', '1.38kg', '1.58kg', '1.85kg', '1.23kg', '1.26kg',\n",
       "       '2.16kg', '2.36kg', '2.05kg', '1.32kg', '1.75kg', '0.97kg',\n",
       "       '2.9kg', '2.56kg', '1.48kg', '1.74kg', '1.1kg', '1.56kg', '2.03kg',\n",
       "       '1.05kg', '4.4kg', '1.90kg', '1.29kg', '2.0kg', '1.95kg', '2.06kg',\n",
       "       '1.12kg', '1.42kg', '3.49kg', '3.35kg', '2.23kg', '4.42kg',\n",
       "       '2.69kg', '2.37kg', '4.7kg', '3.6kg', '2.08kg', '4.3kg', '1.68kg',\n",
       "       '1.41kg', '4.14kg', '2.18kg', '2.24kg', '2.67kg', '2.14kg',\n",
       "       '1.36kg', '2.25kg', '2.15kg', '2.19kg', '2.54kg', '3.42kg',\n",
       "       '1.28kg', '2.33kg', '1.45kg', '2.79kg', '1.84kg', '2.6kg',\n",
       "       '2.26kg', '3.25kg', '1.59kg', '1.13kg', '1.78kg', '1.10kg',\n",
       "       '1.15kg', '1.27kg', '1.43kg', '2.31kg', '1.16kg', '1.64kg',\n",
       "       '2.17kg', '1.47kg', '3.78kg', '1.79kg', '0.91kg', '1.99kg',\n",
       "       '4.33kg', '1.93kg', '1.87kg', '2.63kg', '3.4kg', '3.14kg',\n",
       "       '1.94kg', '1.24kg', '4.6kg', '4.5kg', '2.73kg', '1.39kg', '2.29kg',\n",
       "       '2.59kg', '2.94kg', '1.14kg', '3.8kg', '3.31kg', '1.09kg',\n",
       "       '3.21kg', '1.19kg', '1.98kg', '1.17kg', '4.36kg', '1.71kg',\n",
       "       '2.32kg', '4.2kg', '1.55kg', '0.81kg', '1.18kg', '2.72kg',\n",
       "       '1.31kg', '0.920kg', '3.74kg', '1.76kg', '1.54kg', '2.83kg',\n",
       "       '2.07kg', '2.38kg', '3.58kg', '1.08kg', '2.20kg', '2.75kg',\n",
       "       '1.70kg', '2.99kg', '1.11kg', '2.09kg', '4kg', '3.0kg', '0.99kg',\n",
       "       '3.52kg', '2.591kg', '2.21kg', '3.3kg', '2.191kg', '2.34kg',\n",
       "       '4.0kg'], dtype=object)"
      ]
     },
     "execution_count": 195,
     "metadata": {},
     "output_type": "execute_result"
    }
   ],
   "source": [
    "df['Weight'].unique()"
   ]
  },
  {
   "cell_type": "code",
   "execution_count": 196,
   "id": "277ce3fe",
   "metadata": {},
   "outputs": [
    {
     "data": {
      "text/plain": [
       "array(['128GB SSD', '128GB Flash Storage', '256GB SSD', '512GB SSD',\n",
       "       '500GB HDD', '256GB Flash Storage', '1TB HDD',\n",
       "       '32GB Flash Storage', '128GB SSD +  1TB HDD',\n",
       "       '256GB SSD +  256GB SSD', '64GB Flash Storage',\n",
       "       '256GB SSD +  1TB HDD', '256GB SSD +  2TB HDD', '32GB SSD',\n",
       "       '2TB HDD', '64GB SSD', '1.0TB Hybrid', '512GB SSD +  1TB HDD',\n",
       "       '1TB SSD', '256GB SSD +  500GB HDD', '128GB SSD +  2TB HDD',\n",
       "       '512GB SSD +  512GB SSD', '16GB SSD', '16GB Flash Storage',\n",
       "       '512GB SSD +  256GB SSD', '512GB SSD +  2TB HDD',\n",
       "       '64GB Flash Storage +  1TB HDD', '180GB SSD', '1TB HDD +  1TB HDD',\n",
       "       '32GB HDD', '1TB SSD +  1TB HDD', '512GB Flash Storage',\n",
       "       '128GB HDD', '240GB SSD', '8GB SSD', '508GB Hybrid', '1.0TB HDD',\n",
       "       '512GB SSD +  1.0TB Hybrid', '256GB SSD +  1.0TB Hybrid'],\n",
       "      dtype=object)"
      ]
     },
     "execution_count": 196,
     "metadata": {},
     "output_type": "execute_result"
    }
   ],
   "source": [
    "df['Memory'].unique()"
   ]
  },
  {
   "cell_type": "markdown",
   "id": "74ccf68d",
   "metadata": {},
   "source": [
    "В столбце Ram единицы измерения - 'GB', а в столбце Weight - 'kg'. Уберем единицы измерения, чтобы сделать столбцы количественными.\n",
    "<br>\n",
    "Со столбцом 'Memory' ситуация иная, разберем позже"
   ]
  },
  {
   "cell_type": "code",
   "execution_count": 197,
   "id": "d918d25a",
   "metadata": {},
   "outputs": [],
   "source": [
    "df['Ram'] = pd.to_numeric(df['Ram'].str.split('GB', expand= True )[0]) # не забудем изменить тип данных, т.к. до этого - строка"
   ]
  },
  {
   "cell_type": "code",
   "execution_count": 198,
   "id": "e5042526",
   "metadata": {},
   "outputs": [],
   "source": [
    "df['Weight'] = pd.to_numeric(df['Weight'].str.split('kg', expand= True )[0])"
   ]
  },
  {
   "cell_type": "code",
   "execution_count": 199,
   "id": "a937d1de",
   "metadata": {},
   "outputs": [
    {
     "data": {
      "text/plain": [
       "laptop_ID             int64\n",
       "Company              object\n",
       "Product              object\n",
       "TypeName             object\n",
       "Inches              float64\n",
       "ScreenResolution     object\n",
       "Cpu                  object\n",
       "Ram                   int64\n",
       "Memory               object\n",
       "Gpu                  object\n",
       "OpSys                object\n",
       "Weight              float64\n",
       "Price_euros         float64\n",
       "dtype: object"
      ]
     },
     "execution_count": 199,
     "metadata": {},
     "output_type": "execute_result"
    }
   ],
   "source": [
    "# посмотрим всё ли получилось\n",
    "df.dtypes"
   ]
  },
  {
   "cell_type": "markdown",
   "id": "595d54de",
   "metadata": {},
   "source": [
    "### Обработка столбца  Memory"
   ]
  },
  {
   "cell_type": "markdown",
   "id": "753a5106",
   "metadata": {},
   "source": [
    "Разберемся со столбцом 'Memory'. В Интернете было найдено, что SSD, Flash Storage,HDD и др - это тип накопителя. Всё, что стоит до пробела - это как раз таки память компьютера. Разделим столбец по разделителю - проблем и создадим 2 столбца: первый - 'Memory', второй - 'Storage Device'"
   ]
  },
  {
   "cell_type": "code",
   "execution_count": 200,
   "id": "28b49028",
   "metadata": {},
   "outputs": [],
   "source": [
    "df[['Memory', 'Storage Device']] = df['Memory'].str.split(' ', 1,  expand= True)"
   ]
  },
  {
   "cell_type": "markdown",
   "id": "8b099fbc",
   "metadata": {},
   "source": [
    "Также изучим единицы измерения в столбце 'Memory'"
   ]
  },
  {
   "cell_type": "code",
   "execution_count": 201,
   "id": "91908644",
   "metadata": {},
   "outputs": [
    {
     "data": {
      "text/plain": [
       "array(['128GB', '256GB', '512GB', '500GB', '1TB', '32GB', '64GB', '2TB',\n",
       "       '1.0TB', '16GB', '180GB', '240GB', '8GB', '508GB'], dtype=object)"
      ]
     },
     "execution_count": 201,
     "metadata": {},
     "output_type": "execute_result"
    }
   ],
   "source": [
    "df['Memory'].unique()"
   ]
  },
  {
   "cell_type": "markdown",
   "id": "c6d908f3",
   "metadata": {},
   "source": [
    "Есть значения '1TB' и '2TB', необходимо перевести в GB для единства измерения (1ТВ = 1024 GB)"
   ]
  },
  {
   "cell_type": "code",
   "execution_count": 202,
   "id": "6ef31113",
   "metadata": {},
   "outputs": [],
   "source": [
    "# произведем замену значений\n",
    "replace_memory = {'1TB':'1000GB', '1.0TB': '1024GB', '2TB': '2048GB'}\n",
    "df['Memory'] = df['Memory'].replace(replace_memory, regex=True)"
   ]
  },
  {
   "cell_type": "code",
   "execution_count": 203,
   "id": "ad868ed6",
   "metadata": {},
   "outputs": [
    {
     "data": {
      "text/plain": [
       "array(['128GB', '256GB', '512GB', '500GB', '1000GB', '32GB', '64GB',\n",
       "       '2048GB', '1024GB', '16GB', '180GB', '240GB', '8GB', '508GB'],\n",
       "      dtype=object)"
      ]
     },
     "execution_count": 203,
     "metadata": {},
     "output_type": "execute_result"
    }
   ],
   "source": [
    "# проверим, все ли правильно получилось\n",
    "df['Memory'].unique()"
   ]
  },
  {
   "cell_type": "code",
   "execution_count": 204,
   "id": "db18cc2a",
   "metadata": {},
   "outputs": [],
   "source": [
    "# как и раньше уберем единицы измерения из столбца, чтобы привести данные в нем к количественному типу\n",
    "df['Memory'] = pd.to_numeric(df['Memory'].str.split('GB', expand= True )[0])"
   ]
  },
  {
   "cell_type": "code",
   "execution_count": 205,
   "id": "cdc22356",
   "metadata": {},
   "outputs": [
    {
     "data": {
      "text/plain": [
       "dtype('int64')"
      ]
     },
     "execution_count": 205,
     "metadata": {},
     "output_type": "execute_result"
    }
   ],
   "source": [
    "# посмотрим всё ли получилось\n",
    "df['Memory'].dtypes"
   ]
  },
  {
   "cell_type": "markdown",
   "id": "a9f261b9",
   "metadata": {},
   "source": [
    "В процессе изучения данных были обнаружены еще 3 столбцы, откуда можно найти количественные данные: 'Cpu', 'Gpu', 'ScreenResolution'. Проведем обработку этих столбцов по отдельности."
   ]
  },
  {
   "cell_type": "markdown",
   "id": "ae75e78a",
   "metadata": {},
   "source": [
    "### Обработка столбца  Cpu"
   ]
  },
  {
   "cell_type": "markdown",
   "id": "4de33088",
   "metadata": {},
   "source": [
    "Перед обработкой познакомимся с данными. CPU, central processing unit — «центральное обрабатывающее устройство»  или процессор ноутбука. То есть в исследуемом столбце содержится информация о процессоре ноутбука."
   ]
  },
  {
   "cell_type": "code",
   "execution_count": 206,
   "id": "9d523233",
   "metadata": {},
   "outputs": [
    {
     "data": {
      "text/plain": [
       "Intel Core i5 7200U 2.5GHz       190\n",
       "Intel Core i7 7700HQ 2.8GHz      146\n",
       "Intel Core i7 7500U 2.7GHz       134\n",
       "Intel Core i7 8550U 1.8GHz        73\n",
       "Intel Core i5 8250U 1.6GHz        72\n",
       "                                ... \n",
       "Intel Core M M3-6Y30 0.9GHz        1\n",
       "AMD A9-Series 9420 2.9GHz          1\n",
       "Intel Core i3 6006U 2.2GHz         1\n",
       "AMD A6-Series 7310 2GHz            1\n",
       "Intel Xeon E3-1535M v6 3.1GHz      1\n",
       "Name: Cpu, Length: 118, dtype: int64"
      ]
     },
     "execution_count": 206,
     "metadata": {},
     "output_type": "execute_result"
    }
   ],
   "source": [
    "df['Cpu'].value_counts()"
   ]
  },
  {
   "cell_type": "markdown",
   "id": "cf7e93d4",
   "metadata": {},
   "source": [
    "Процессор в нашем случае имеет две характеритики: тип и татовую частоту. Что касается типа процессора, то есть разные его разновидности. В наших данных Intel Core i5 7200U и Intel Core i7 7700HQ - два разных типа. Для построение регрессии сделаем общий тип процессора, для рассматриваемого случая это будет просто Intel Core i7. Тактовая частота (clock rate) - мера того, как быстро центральный процессор (CPU) компьютера может выполнять инструкции. Измеряется в гигагерцах.\n",
    "<br>\n",
    "Попробуем реализовать задумку в коде."
   ]
  },
  {
   "cell_type": "code",
   "execution_count": 207,
   "id": "0604dbe2",
   "metadata": {},
   "outputs": [],
   "source": [
    "# разъединим столбец Cpu на тип процессора и частоту\n",
    "df['Cpu_type'] = df['Cpu'].str.rsplit(' ', 1, expand=True)[0]\n",
    "df['Clock_rate'] = df['Cpu'].str.rsplit(' ', 1, expand=True)[1]"
   ]
  },
  {
   "cell_type": "code",
   "execution_count": 208,
   "id": "bb6d7d8e",
   "metadata": {},
   "outputs": [],
   "source": [
    "# для тактовой частоты уберем единицы измерения, как делали это ранее\n",
    "df['Clock_rate'] = pd.to_numeric(df['Clock_rate'].str.split('GHz', expand= True )[0])"
   ]
  },
  {
   "cell_type": "code",
   "execution_count": 209,
   "id": "35808caf",
   "metadata": {},
   "outputs": [
    {
     "data": {
      "text/plain": [
       "2.50    293\n",
       "2.70    166\n",
       "2.80    165\n",
       "1.60    134\n",
       "2.30     86\n",
       "2.00     86\n",
       "1.80     78\n",
       "2.60     76\n",
       "1.10     53\n",
       "2.40     52\n",
       "2.90     21\n",
       "3.00     19\n",
       "1.20     15\n",
       "1.44     12\n",
       "2.20     11\n",
       "1.50     10\n",
       "1.30      6\n",
       "3.60      5\n",
       "0.90      4\n",
       "3.10      3\n",
       "2.10      3\n",
       "1.90      2\n",
       "3.20      1\n",
       "1.00      1\n",
       "1.92      1\n",
       "Name: Clock_rate, dtype: int64"
      ]
     },
     "execution_count": 209,
     "metadata": {},
     "output_type": "execute_result"
    }
   ],
   "source": [
    "# убедимся, что всё получилось\n",
    "df['Clock_rate'].value_counts()"
   ]
  },
  {
   "cell_type": "code",
   "execution_count": 210,
   "id": "f0db00a2",
   "metadata": {},
   "outputs": [
    {
     "data": {
      "text/plain": [
       "array(['Intel Core i5', 'Intel Core i5 7200U', 'Intel Core i7',\n",
       "       'AMD A9-Series 9420', 'Intel Core i7 8550U', 'Intel Core i5 8250U',\n",
       "       'Intel Core i3 6006U', 'Intel Core M m3', 'Intel Core i7 7500U',\n",
       "       'Intel Core i3 7100U', 'Intel Atom x5-Z8350',\n",
       "       'Intel Core i5 7300HQ', 'AMD E-Series E2-9000e',\n",
       "       'Intel Core i7 8650U', 'Intel Atom x5-Z8300',\n",
       "       'AMD E-Series E2-6110', 'AMD A6-Series 9220',\n",
       "       'Intel Celeron Dual Core N3350', 'Intel Core i3 7130U',\n",
       "       'Intel Core i7 7700HQ', 'AMD Ryzen 1700',\n",
       "       'Intel Pentium Quad Core N4200', 'Intel Atom x5-Z8550',\n",
       "       'Intel Celeron Dual Core N3060', 'AMD FX 9830P',\n",
       "       'Intel Core i7 7560U', 'AMD E-Series 6110', 'Intel Core i5 6200U',\n",
       "       'Intel Core M 6Y75', 'Intel Core i5 7500U', 'Intel Core i7 6920HQ',\n",
       "       'Intel Core i5 7Y54', 'Intel Core i7 7820HK',\n",
       "       'Intel Xeon E3-1505M V6', 'Intel Core i7 6500U',\n",
       "       'AMD E-Series 9000e', 'AMD A10-Series A10-9620P',\n",
       "       'AMD A6-Series A6-9220', 'Intel Core i7 6600U',\n",
       "       'Intel Celeron Dual Core 3205U', 'Intel Core i7 7820HQ',\n",
       "       'AMD A10-Series 9600P', 'Intel Core i7 7600U',\n",
       "       'AMD A8-Series 7410', 'Intel Celeron Dual Core 3855U',\n",
       "       'Intel Pentium Quad Core N3710', 'AMD A12-Series 9720P',\n",
       "       'Intel Core i5 7300U', 'Intel Celeron Quad Core N3450',\n",
       "       'Intel Core i5 6440HQ', 'Intel Core i7 6820HQ', 'AMD Ryzen 1600',\n",
       "       'Intel Core i7 7Y75', 'Intel Core i5 7440HQ',\n",
       "       'Intel Core i7 7660U', 'Intel Core M m3-7Y30',\n",
       "       'Intel Core i5 7Y57', 'Intel Core i7 6700HQ',\n",
       "       'Intel Core i3 6100U', 'AMD A10-Series 9620P', 'AMD E-Series 7110',\n",
       "       'AMD A9-Series A9-9420', 'Intel Core i7 6820HK',\n",
       "       'Intel Core M 7Y30', 'Intel Xeon E3-1535M v6',\n",
       "       'Intel Celeron Quad Core N3160', 'Intel Core i5 6300U',\n",
       "       'AMD E-Series E2-9000', 'Intel Celeron Dual Core N3050',\n",
       "       'Intel Core M M3-6Y30', 'Intel Core i5 6300HQ',\n",
       "       'AMD A6-Series 7310', 'Intel Atom Z8350', 'Intel Xeon E3-1535M v5',\n",
       "       'Intel Core i5 6260U', 'Intel Pentium Dual Core N4200',\n",
       "       'Intel Celeron Quad Core N3710', 'Intel Core M',\n",
       "       'AMD A12-Series 9700P', 'Intel Pentium Dual Core 4405U',\n",
       "       'AMD A4-Series 7210', 'Intel Core i7 6560U',\n",
       "       'Intel Core M m7-6Y75', 'AMD FX 8800P', 'Intel Core M M7-6Y75',\n",
       "       'Intel Atom X5-Z8350', 'Intel Pentium Dual Core 4405Y',\n",
       "       'Intel Pentium Quad Core N3700', 'Intel Core M 6Y54',\n",
       "       'Samsung Cortex A72&A53', 'AMD E-Series 9000', 'Intel Core M 6Y30',\n",
       "       'AMD A9-Series 9410'], dtype=object)"
      ]
     },
     "execution_count": 210,
     "metadata": {},
     "output_type": "execute_result"
    }
   ],
   "source": [
    "# продолжим работу с типом процессора\n",
    "df['Cpu_type'].unique()"
   ]
  },
  {
   "cell_type": "markdown",
   "id": "e9001939",
   "metadata": {},
   "source": [
    "Будто бы нам \"мешается\" то, что стоит после последнего пробела, удалим это"
   ]
  },
  {
   "cell_type": "code",
   "execution_count": 211,
   "id": "e04c8044",
   "metadata": {},
   "outputs": [],
   "source": [
    "df['Cpu_type'] = df['Cpu_type'].str.rsplit(' ', 1 , expand= True )[0]"
   ]
  },
  {
   "cell_type": "code",
   "execution_count": 212,
   "id": "aac74d88",
   "metadata": {},
   "outputs": [
    {
     "data": {
      "text/plain": [
       "Intel Core i7              523\n",
       "Intel Core i5              411\n",
       "Intel Core i3              136\n",
       "Intel Celeron Dual Core     80\n",
       "Intel Pentium Quad Core     27\n",
       "Intel Core                  20\n",
       "AMD A9-Series               17\n",
       "Intel Core M                15\n",
       "Intel Atom                  13\n",
       "AMD A6-Series               11\n",
       "AMD E-Series                 9\n",
       "AMD A12-Series               8\n",
       "Intel Celeron Quad Core      8\n",
       "AMD A10-Series               6\n",
       "AMD Ryzen                    4\n",
       "AMD A8-Series                4\n",
       "Intel Pentium Dual Core      3\n",
       "AMD FX                       2\n",
       "Intel Xeon E3-1505M          2\n",
       "Intel Xeon E3-1535M          2\n",
       "AMD A4-Series                1\n",
       "Samsung Cortex               1\n",
       "Name: Cpu_type, dtype: int64"
      ]
     },
     "execution_count": 212,
     "metadata": {},
     "output_type": "execute_result"
    }
   ],
   "source": [
    "df['Cpu_type'].value_counts()"
   ]
  },
  {
   "cell_type": "code",
   "execution_count": 213,
   "id": "9c50c3e7",
   "metadata": {},
   "outputs": [
    {
     "data": {
      "text/plain": [
       "0"
      ]
     },
     "execution_count": 213,
     "metadata": {},
     "output_type": "execute_result"
    }
   ],
   "source": [
    "df['Cpu_type'].isna().sum()"
   ]
  },
  {
   "cell_type": "markdown",
   "id": "e9cfeec2",
   "metadata": {},
   "source": [
    "Так, мы сократили количество уникальных значений в столбце с типом процессора и не допустили появление пропущенных значений. \n",
    "<br>\n",
    "Столбец обработан успешно."
   ]
  },
  {
   "cell_type": "markdown",
   "id": "6c8d16e0",
   "metadata": {},
   "source": [
    "### Обработка столбца  Gpu"
   ]
  },
  {
   "cell_type": "markdown",
   "id": "7484a876",
   "metadata": {},
   "source": [
    "Столбец Gpu содержит информацию про графический процессор компьютера. На данную характеритику обращают чаще всего внимания люди, покупающие ноутбук для игровых целей."
   ]
  },
  {
   "cell_type": "code",
   "execution_count": 214,
   "id": "487e6ef6",
   "metadata": {},
   "outputs": [
    {
     "data": {
      "text/plain": [
       "array(['Intel Iris Plus Graphics 640', 'Intel HD Graphics 6000',\n",
       "       'Intel HD Graphics 620', 'AMD Radeon Pro 455',\n",
       "       'Intel Iris Plus Graphics 650', 'AMD Radeon R5',\n",
       "       'Intel Iris Pro Graphics', 'Nvidia GeForce MX150',\n",
       "       'Intel UHD Graphics 620', 'Intel HD Graphics 520',\n",
       "       'AMD Radeon Pro 555', 'AMD Radeon R5 M430',\n",
       "       'Intel HD Graphics 615', 'AMD Radeon Pro 560',\n",
       "       'Nvidia GeForce 940MX', 'Intel HD Graphics 400',\n",
       "       'Nvidia GeForce GTX 1050', 'AMD Radeon R2', 'AMD Radeon 530',\n",
       "       'Nvidia GeForce 930MX', 'Intel HD Graphics',\n",
       "       'Intel HD Graphics 500', 'Nvidia GeForce 930MX ',\n",
       "       'Nvidia GeForce GTX 1060', 'Nvidia GeForce 150MX',\n",
       "       'Intel Iris Graphics 540', 'AMD Radeon RX 580',\n",
       "       'Nvidia GeForce 920MX', 'AMD Radeon R4 Graphics', 'AMD Radeon 520',\n",
       "       'Nvidia GeForce GTX 1070', 'Nvidia GeForce GTX 1050 Ti',\n",
       "       'Nvidia GeForce MX130', 'AMD R4 Graphics',\n",
       "       'Nvidia GeForce GTX 940MX', 'AMD Radeon RX 560',\n",
       "       'Nvidia GeForce 920M', 'AMD Radeon R7 M445', 'AMD Radeon RX 550',\n",
       "       'Nvidia GeForce GTX 1050M', 'Intel HD Graphics 515',\n",
       "       'AMD Radeon R5 M420', 'Intel HD Graphics 505',\n",
       "       'Nvidia GTX 980 SLI', 'AMD R17M-M1-70', 'Nvidia GeForce GTX 1080',\n",
       "       'Nvidia Quadro M1200', 'Nvidia GeForce 920MX ',\n",
       "       'Nvidia GeForce GTX 950M', 'AMD FirePro W4190M ',\n",
       "       'Nvidia GeForce GTX 980M', 'Intel Iris Graphics 550',\n",
       "       'Nvidia GeForce 930M', 'Intel HD Graphics 630',\n",
       "       'AMD Radeon R5 430', 'Nvidia GeForce GTX 940M',\n",
       "       'Intel HD Graphics 510', 'Intel HD Graphics 405',\n",
       "       'AMD Radeon RX 540', 'Nvidia GeForce GT 940MX',\n",
       "       'AMD FirePro W5130M', 'Nvidia Quadro M2200M', 'AMD Radeon R4',\n",
       "       'Nvidia Quadro M620', 'AMD Radeon R7 M460',\n",
       "       'Intel HD Graphics 530', 'Nvidia GeForce GTX 965M',\n",
       "       'Nvidia GeForce GTX1080', 'Nvidia GeForce GTX1050 Ti',\n",
       "       'Nvidia GeForce GTX 960M', 'AMD Radeon R2 Graphics',\n",
       "       'Nvidia Quadro M620M', 'Nvidia GeForce GTX 970M',\n",
       "       'Nvidia GeForce GTX 960<U+039C>', 'Intel Graphics 620',\n",
       "       'Nvidia GeForce GTX 960', 'AMD Radeon R5 520',\n",
       "       'AMD Radeon R7 M440', 'AMD Radeon R7', 'Nvidia Quadro M520M',\n",
       "       'Nvidia Quadro M2200', 'Nvidia Quadro M2000M',\n",
       "       'Intel HD Graphics 540', 'Nvidia Quadro M1000M', 'AMD Radeon 540',\n",
       "       'Nvidia GeForce GTX 1070M', 'Nvidia GeForce GTX1060',\n",
       "       'Intel HD Graphics 5300', 'AMD Radeon R5 M420X',\n",
       "       'AMD Radeon R7 Graphics', 'Nvidia GeForce 920',\n",
       "       'Nvidia GeForce 940M', 'Nvidia GeForce GTX 930MX',\n",
       "       'AMD Radeon R7 M465', 'AMD Radeon R3', 'Nvidia GeForce GTX 1050Ti',\n",
       "       'AMD Radeon R7 M365X', 'AMD Radeon R9 M385',\n",
       "       'Intel HD Graphics 620 ', 'Nvidia Quadro 3000M',\n",
       "       'Nvidia GeForce GTX 980 ', 'AMD Radeon R5 M330',\n",
       "       'AMD FirePro W4190M', 'AMD FirePro W6150M', 'AMD Radeon R5 M315',\n",
       "       'Nvidia Quadro M500M', 'AMD Radeon R7 M360',\n",
       "       'Nvidia Quadro M3000M', 'Nvidia GeForce 960M', 'ARM Mali T860 MP4'],\n",
       "      dtype=object)"
      ]
     },
     "execution_count": 214,
     "metadata": {},
     "output_type": "execute_result"
    }
   ],
   "source": [
    "#познакомимся со столбцом\n",
    "df['Gpu'].unique()"
   ]
  },
  {
   "cell_type": "markdown",
   "id": "0e206281",
   "metadata": {},
   "source": [
    "Изучив информацию о графических процессоров, мною было решено оставить только тип процессора, так как графические процессоры одной фирмы дороже, чем другой. Другие их характеритики не так сильно влияют на цену."
   ]
  },
  {
   "cell_type": "code",
   "execution_count": 215,
   "id": "320194ad",
   "metadata": {},
   "outputs": [],
   "source": [
    "df['Gpu'] = df['Gpu'].apply(lambda x: ' '.join(x.split(' ')[0:2]))"
   ]
  },
  {
   "cell_type": "code",
   "execution_count": 216,
   "id": "6de4c296",
   "metadata": {},
   "outputs": [
    {
     "data": {
      "text/plain": [
       "Intel HD          639\n",
       "Nvidia GeForce    368\n",
       "AMD Radeon        173\n",
       "Intel UHD          68\n",
       "Nvidia Quadro      31\n",
       "Intel Iris         14\n",
       "AMD FirePro         5\n",
       "AMD R4              1\n",
       "Nvidia GTX          1\n",
       "AMD R17M-M1-70      1\n",
       "Intel Graphics      1\n",
       "ARM Mali            1\n",
       "Name: Gpu, dtype: int64"
      ]
     },
     "execution_count": 216,
     "metadata": {},
     "output_type": "execute_result"
    }
   ],
   "source": [
    "df['Gpu'].value_counts()"
   ]
  },
  {
   "cell_type": "markdown",
   "id": "d3d95660",
   "metadata": {},
   "source": [
    "### Обработка столбца  ScreenResolution "
   ]
  },
  {
   "cell_type": "markdown",
   "id": "ca1768d4",
   "metadata": {},
   "source": [
    "Познакомимся с данными, которые описывают экран ноутбука"
   ]
  },
  {
   "cell_type": "code",
   "execution_count": 217,
   "id": "17cb3b59",
   "metadata": {},
   "outputs": [
    {
     "data": {
      "text/plain": [
       "0               IPS Panel Retina Display 2560x1600\n",
       "1                                         1440x900\n",
       "2                                Full HD 1920x1080\n",
       "3               IPS Panel Retina Display 2880x1800\n",
       "4               IPS Panel Retina Display 2560x1600\n",
       "                           ...                    \n",
       "1298     IPS Panel Full HD / Touchscreen 1920x1080\n",
       "1299    IPS Panel Quad HD+ / Touchscreen 3200x1800\n",
       "1300                                      1366x768\n",
       "1301                                      1366x768\n",
       "1302                                      1366x768\n",
       "Name: ScreenResolution, Length: 1303, dtype: object"
      ]
     },
     "execution_count": 217,
     "metadata": {},
     "output_type": "execute_result"
    }
   ],
   "source": [
    "df['ScreenResolution']"
   ]
  },
  {
   "cell_type": "markdown",
   "id": "19f275a4",
   "metadata": {},
   "source": [
    "Есть информация о типе монитора, о том сенсорный он или нет, о длине и ширине. Разобьем данные характеристики на 4 независимые"
   ]
  },
  {
   "cell_type": "markdown",
   "id": "dfc4200d",
   "metadata": {},
   "source": [
    "Создадим 2 признака экрана: длина и ширина"
   ]
  },
  {
   "cell_type": "code",
   "execution_count": 218,
   "id": "1b01820f",
   "metadata": {},
   "outputs": [],
   "source": [
    "# создадим вспомогательный столбец, в который запишем размер экрана через lambda функцию\n",
    "df['Screen_size'] = df['ScreenResolution'].apply(lambda x: x.rsplit(' ')[-1]\n",
    "                                                 if len(x) > 8  \n",
    "                                                 else x)"
   ]
  },
  {
   "cell_type": "code",
   "execution_count": 219,
   "id": "c1c12eb2",
   "metadata": {},
   "outputs": [],
   "source": [
    "# разделим столбец на длину и ширину\n",
    "df['Screen_width'] = df['Screen_size'].str.split('x', 1, expand=True)[0]\n",
    "df['Screen_height'] = df['Screen_size'].str.split('x', 1, expand=True)[1] "
   ]
  },
  {
   "cell_type": "code",
   "execution_count": 220,
   "id": "a7b35fbe",
   "metadata": {},
   "outputs": [],
   "source": [
    "# удалим вспомогательный столбец\n",
    "df = df.drop(columns = 'Screen_size')"
   ]
  },
  {
   "cell_type": "code",
   "execution_count": 221,
   "id": "5ea75feb",
   "metadata": {
    "scrolled": true
   },
   "outputs": [
    {
     "data": {
      "text/html": [
       "<div>\n",
       "<style scoped>\n",
       "    .dataframe tbody tr th:only-of-type {\n",
       "        vertical-align: middle;\n",
       "    }\n",
       "\n",
       "    .dataframe tbody tr th {\n",
       "        vertical-align: top;\n",
       "    }\n",
       "\n",
       "    .dataframe thead th {\n",
       "        text-align: right;\n",
       "    }\n",
       "</style>\n",
       "<table border=\"1\" class=\"dataframe\">\n",
       "  <thead>\n",
       "    <tr style=\"text-align: right;\">\n",
       "      <th></th>\n",
       "      <th>laptop_ID</th>\n",
       "      <th>Company</th>\n",
       "      <th>Product</th>\n",
       "      <th>TypeName</th>\n",
       "      <th>Inches</th>\n",
       "      <th>ScreenResolution</th>\n",
       "      <th>Cpu</th>\n",
       "      <th>Ram</th>\n",
       "      <th>Memory</th>\n",
       "      <th>Gpu</th>\n",
       "      <th>OpSys</th>\n",
       "      <th>Weight</th>\n",
       "      <th>Price_euros</th>\n",
       "      <th>Storage Device</th>\n",
       "      <th>Cpu_type</th>\n",
       "      <th>Clock_rate</th>\n",
       "      <th>Screen_width</th>\n",
       "      <th>Screen_height</th>\n",
       "    </tr>\n",
       "  </thead>\n",
       "  <tbody>\n",
       "    <tr>\n",
       "      <th>0</th>\n",
       "      <td>1</td>\n",
       "      <td>Apple</td>\n",
       "      <td>MacBook Pro</td>\n",
       "      <td>Ultrabook</td>\n",
       "      <td>13.3</td>\n",
       "      <td>IPS Panel Retina Display 2560x1600</td>\n",
       "      <td>Intel Core i5 2.3GHz</td>\n",
       "      <td>8</td>\n",
       "      <td>128</td>\n",
       "      <td>Intel Iris</td>\n",
       "      <td>macOS</td>\n",
       "      <td>1.37</td>\n",
       "      <td>1339.69</td>\n",
       "      <td>SSD</td>\n",
       "      <td>Intel Core</td>\n",
       "      <td>2.3</td>\n",
       "      <td>2560</td>\n",
       "      <td>1600</td>\n",
       "    </tr>\n",
       "    <tr>\n",
       "      <th>1</th>\n",
       "      <td>2</td>\n",
       "      <td>Apple</td>\n",
       "      <td>Macbook Air</td>\n",
       "      <td>Ultrabook</td>\n",
       "      <td>13.3</td>\n",
       "      <td>1440x900</td>\n",
       "      <td>Intel Core i5 1.8GHz</td>\n",
       "      <td>8</td>\n",
       "      <td>128</td>\n",
       "      <td>Intel HD</td>\n",
       "      <td>macOS</td>\n",
       "      <td>1.34</td>\n",
       "      <td>898.94</td>\n",
       "      <td>Flash Storage</td>\n",
       "      <td>Intel Core</td>\n",
       "      <td>1.8</td>\n",
       "      <td>1440</td>\n",
       "      <td>900</td>\n",
       "    </tr>\n",
       "    <tr>\n",
       "      <th>2</th>\n",
       "      <td>3</td>\n",
       "      <td>HP</td>\n",
       "      <td>250 G6</td>\n",
       "      <td>Notebook</td>\n",
       "      <td>15.6</td>\n",
       "      <td>Full HD 1920x1080</td>\n",
       "      <td>Intel Core i5 7200U 2.5GHz</td>\n",
       "      <td>8</td>\n",
       "      <td>256</td>\n",
       "      <td>Intel HD</td>\n",
       "      <td>No OS</td>\n",
       "      <td>1.86</td>\n",
       "      <td>575.00</td>\n",
       "      <td>SSD</td>\n",
       "      <td>Intel Core i5</td>\n",
       "      <td>2.5</td>\n",
       "      <td>1920</td>\n",
       "      <td>1080</td>\n",
       "    </tr>\n",
       "    <tr>\n",
       "      <th>3</th>\n",
       "      <td>4</td>\n",
       "      <td>Apple</td>\n",
       "      <td>MacBook Pro</td>\n",
       "      <td>Ultrabook</td>\n",
       "      <td>15.4</td>\n",
       "      <td>IPS Panel Retina Display 2880x1800</td>\n",
       "      <td>Intel Core i7 2.7GHz</td>\n",
       "      <td>16</td>\n",
       "      <td>512</td>\n",
       "      <td>AMD Radeon</td>\n",
       "      <td>macOS</td>\n",
       "      <td>1.83</td>\n",
       "      <td>2537.45</td>\n",
       "      <td>SSD</td>\n",
       "      <td>Intel Core</td>\n",
       "      <td>2.7</td>\n",
       "      <td>2880</td>\n",
       "      <td>1800</td>\n",
       "    </tr>\n",
       "    <tr>\n",
       "      <th>4</th>\n",
       "      <td>5</td>\n",
       "      <td>Apple</td>\n",
       "      <td>MacBook Pro</td>\n",
       "      <td>Ultrabook</td>\n",
       "      <td>13.3</td>\n",
       "      <td>IPS Panel Retina Display 2560x1600</td>\n",
       "      <td>Intel Core i5 3.1GHz</td>\n",
       "      <td>8</td>\n",
       "      <td>256</td>\n",
       "      <td>Intel Iris</td>\n",
       "      <td>macOS</td>\n",
       "      <td>1.37</td>\n",
       "      <td>1803.60</td>\n",
       "      <td>SSD</td>\n",
       "      <td>Intel Core</td>\n",
       "      <td>3.1</td>\n",
       "      <td>2560</td>\n",
       "      <td>1600</td>\n",
       "    </tr>\n",
       "  </tbody>\n",
       "</table>\n",
       "</div>"
      ],
      "text/plain": [
       "   laptop_ID Company      Product   TypeName  Inches  \\\n",
       "0          1   Apple  MacBook Pro  Ultrabook    13.3   \n",
       "1          2   Apple  Macbook Air  Ultrabook    13.3   \n",
       "2          3      HP       250 G6   Notebook    15.6   \n",
       "3          4   Apple  MacBook Pro  Ultrabook    15.4   \n",
       "4          5   Apple  MacBook Pro  Ultrabook    13.3   \n",
       "\n",
       "                     ScreenResolution                         Cpu  Ram  \\\n",
       "0  IPS Panel Retina Display 2560x1600        Intel Core i5 2.3GHz    8   \n",
       "1                            1440x900        Intel Core i5 1.8GHz    8   \n",
       "2                   Full HD 1920x1080  Intel Core i5 7200U 2.5GHz    8   \n",
       "3  IPS Panel Retina Display 2880x1800        Intel Core i7 2.7GHz   16   \n",
       "4  IPS Panel Retina Display 2560x1600        Intel Core i5 3.1GHz    8   \n",
       "\n",
       "   Memory         Gpu  OpSys  Weight  Price_euros Storage Device  \\\n",
       "0     128  Intel Iris  macOS    1.37      1339.69            SSD   \n",
       "1     128    Intel HD  macOS    1.34       898.94  Flash Storage   \n",
       "2     256    Intel HD  No OS    1.86       575.00            SSD   \n",
       "3     512  AMD Radeon  macOS    1.83      2537.45            SSD   \n",
       "4     256  Intel Iris  macOS    1.37      1803.60            SSD   \n",
       "\n",
       "        Cpu_type  Clock_rate Screen_width Screen_height  \n",
       "0     Intel Core         2.3         2560          1600  \n",
       "1     Intel Core         1.8         1440           900  \n",
       "2  Intel Core i5         2.5         1920          1080  \n",
       "3     Intel Core         2.7         2880          1800  \n",
       "4     Intel Core         3.1         2560          1600  "
      ]
     },
     "execution_count": 221,
     "metadata": {},
     "output_type": "execute_result"
    }
   ],
   "source": [
    "df.head()"
   ]
  },
  {
   "cell_type": "markdown",
   "id": "e622d294",
   "metadata": {},
   "source": [
    "Признак экрана, говорящий сенсорный он или нет, можно включить как фиктивную переменную, где 1 - экран сенсорный, 0 - экран не сенсорный"
   ]
  },
  {
   "cell_type": "code",
   "execution_count": 222,
   "id": "66618566",
   "metadata": {},
   "outputs": [],
   "source": [
    "import re"
   ]
  },
  {
   "cell_type": "code",
   "execution_count": 223,
   "id": "8c621545",
   "metadata": {},
   "outputs": [],
   "source": [
    "df['Touchscreen'] = df['ScreenResolution'].apply(lambda x: 1 \n",
    "                                                 if re.search('Touchscreen', x) # ищет вхождение в названии\n",
    "                                                 else 0)"
   ]
  },
  {
   "cell_type": "markdown",
   "id": "59b82827",
   "metadata": {},
   "source": [
    "Перейдем к извлечению типа монитора"
   ]
  },
  {
   "cell_type": "code",
   "execution_count": 224,
   "id": "7433c726",
   "metadata": {},
   "outputs": [
    {
     "data": {
      "text/plain": [
       "0               IPS Panel Retina Display 2560x1600\n",
       "1                                         1440x900\n",
       "2                                Full HD 1920x1080\n",
       "3               IPS Panel Retina Display 2880x1800\n",
       "4               IPS Panel Retina Display 2560x1600\n",
       "                           ...                    \n",
       "1298     IPS Panel Full HD / Touchscreen 1920x1080\n",
       "1299    IPS Panel Quad HD+ / Touchscreen 3200x1800\n",
       "1300                                      1366x768\n",
       "1301                                      1366x768\n",
       "1302                                      1366x768\n",
       "Name: ScreenResolution, Length: 1303, dtype: object"
      ]
     },
     "execution_count": 224,
     "metadata": {},
     "output_type": "execute_result"
    }
   ],
   "source": [
    "# Познакомимся еще раз с данными, чтобы понять, что относится к типу, а что уже использовано и не нужно\n",
    "df['ScreenResolution']"
   ]
  },
  {
   "cell_type": "code",
   "execution_count": 225,
   "id": "7d741b0b",
   "metadata": {},
   "outputs": [],
   "source": [
    "# как было сделано раньше уберем размер монитора\n",
    "# НО есть наблюдения, в характеристике экрана которых присутствует информация только о размере экрана, который уже учтен в др. признаке\n",
    "# создадим группу 'others', куда будем записывать наблюдения, у которых не указана информация о типе экрана\n",
    "df['Screen_type'] = df['ScreenResolution'].apply(lambda x: ' '.join(x.split(' ')[:-1])\n",
    "                                                 if len(x) > 10  \n",
    "                                                 else 'Others')"
   ]
  },
  {
   "cell_type": "code",
   "execution_count": 226,
   "id": "81c1ba9f",
   "metadata": {},
   "outputs": [
    {
     "data": {
      "text/plain": [
       "Full HD                                507\n",
       "Others                                 314\n",
       "IPS Panel Full HD                      235\n",
       "IPS Panel Full HD / Touchscreen         53\n",
       "Full HD / Touchscreen                   47\n",
       "Touchscreen                             32\n",
       "IPS Panel Retina Display                17\n",
       "Quad HD+ / Touchscreen                  15\n",
       "IPS Panel Touchscreen                   13\n",
       "IPS Panel 4K Ultra HD                   12\n",
       "IPS Panel 4K Ultra HD / Touchscreen     11\n",
       "IPS Panel                               11\n",
       "4K Ultra HD / Touchscreen               10\n",
       "4K Ultra HD                              7\n",
       "IPS Panel Quad HD+ / Touchscreen         6\n",
       "IPS Panel Quad HD+                       5\n",
       "Quad HD+                                 3\n",
       "IPS Panel Touchscreen / 4K Ultra HD      2\n",
       "Touchscreen / Quad HD+                   1\n",
       "Touchscreen / Full HD                    1\n",
       "Touchscreen / 4K Ultra HD                1\n",
       "Name: Screen_type, dtype: int64"
      ]
     },
     "execution_count": 226,
     "metadata": {},
     "output_type": "execute_result"
    }
   ],
   "source": [
    "df['Screen_type'].value_counts()"
   ]
  },
  {
   "cell_type": "code",
   "execution_count": 227,
   "id": "2845cebd",
   "metadata": {},
   "outputs": [],
   "source": [
    "# есть наблюдения со слэшами - хороший ключ, чтобы разделить строку и взять то, что нам нужно\n",
    "df['Screen_type'] = df['Screen_type'].apply(lambda x: x.split('/')[0]\n",
    "                                                    if re.search('/', x)\n",
    "                                                    else x)"
   ]
  },
  {
   "cell_type": "code",
   "execution_count": 228,
   "id": "127195a8",
   "metadata": {},
   "outputs": [
    {
     "data": {
      "text/plain": [
       "Full HD                     507\n",
       "Others                      314\n",
       "IPS Panel Full HD           235\n",
       "IPS Panel Full HD            53\n",
       "Full HD                      47\n",
       "Touchscreen                  32\n",
       "IPS Panel Retina Display     17\n",
       "Quad HD+                     15\n",
       "IPS Panel Touchscreen        13\n",
       "IPS Panel 4K Ultra HD        12\n",
       "IPS Panel                    11\n",
       "IPS Panel 4K Ultra HD        11\n",
       "4K Ultra HD                  10\n",
       "4K Ultra HD                   7\n",
       "IPS Panel Quad HD+            6\n",
       "IPS Panel Quad HD+            5\n",
       "Touchscreen                   3\n",
       "Quad HD+                      3\n",
       "IPS Panel Touchscreen         2\n",
       "Name: Screen_type, dtype: int64"
      ]
     },
     "execution_count": 228,
     "metadata": {},
     "output_type": "execute_result"
    }
   ],
   "source": [
    "df['Screen_type'].value_counts()"
   ]
  },
  {
   "cell_type": "code",
   "execution_count": 229,
   "id": "3f875c68",
   "metadata": {},
   "outputs": [],
   "source": [
    "# подобно случаю ранее убираем уже учтенный признак 'Touchscreen'\n",
    "# есть ситуация, где остался только признак есть сенсор или нет => записываем в 'others'\n",
    "df['Screen_type'] = df['Screen_type'].apply(lambda x: 'Others'\n",
    "                                                    if re.search('Touchscreen', x)\n",
    "                                                    else x)"
   ]
  },
  {
   "cell_type": "code",
   "execution_count": 230,
   "id": "1902cabd",
   "metadata": {},
   "outputs": [
    {
     "data": {
      "text/plain": [
       "Full HD                     507\n",
       "Others                      364\n",
       "IPS Panel Full HD           235\n",
       "IPS Panel Full HD            53\n",
       "Full HD                      47\n",
       "IPS Panel Retina Display     17\n",
       "Quad HD+                     15\n",
       "IPS Panel 4K Ultra HD        12\n",
       "IPS Panel                    11\n",
       "IPS Panel 4K Ultra HD        11\n",
       "4K Ultra HD                  10\n",
       "4K Ultra HD                   7\n",
       "IPS Panel Quad HD+            6\n",
       "IPS Panel Quad HD+            5\n",
       "Quad HD+                      3\n",
       "Name: Screen_type, dtype: int64"
      ]
     },
     "execution_count": 230,
     "metadata": {},
     "output_type": "execute_result"
    }
   ],
   "source": [
    "df['Screen_type'].value_counts()"
   ]
  },
  {
   "cell_type": "code",
   "execution_count": 231,
   "id": "7afb5e71",
   "metadata": {},
   "outputs": [],
   "source": [
    "# преобразования породили такую ситуацию, когда сохранились ненужные пробелы, удалим их\n",
    "df['Screen_type'] = df['Screen_type'].str.strip()"
   ]
  },
  {
   "cell_type": "code",
   "execution_count": 232,
   "id": "69bb918f",
   "metadata": {},
   "outputs": [
    {
     "data": {
      "text/plain": [
       "Full HD                     554\n",
       "Others                      364\n",
       "IPS Panel Full HD           288\n",
       "IPS Panel 4K Ultra HD        23\n",
       "Quad HD+                     18\n",
       "IPS Panel Retina Display     17\n",
       "4K Ultra HD                  17\n",
       "IPS Panel                    11\n",
       "IPS Panel Quad HD+           11\n",
       "Name: Screen_type, dtype: int64"
      ]
     },
     "execution_count": 232,
     "metadata": {},
     "output_type": "execute_result"
    }
   ],
   "source": [
    "df['Screen_type'].value_counts()"
   ]
  },
  {
   "cell_type": "markdown",
   "id": "23dd2c3c",
   "metadata": {},
   "source": [
    "Все необходимые столбцы обработаны. Удалим в датасета столбцы, которые не нужны при построении модели, так как не влияют на цену."
   ]
  },
  {
   "cell_type": "code",
   "execution_count": 233,
   "id": "6a9b47de",
   "metadata": {},
   "outputs": [
    {
     "data": {
      "text/html": [
       "<div>\n",
       "<style scoped>\n",
       "    .dataframe tbody tr th:only-of-type {\n",
       "        vertical-align: middle;\n",
       "    }\n",
       "\n",
       "    .dataframe tbody tr th {\n",
       "        vertical-align: top;\n",
       "    }\n",
       "\n",
       "    .dataframe thead th {\n",
       "        text-align: right;\n",
       "    }\n",
       "</style>\n",
       "<table border=\"1\" class=\"dataframe\">\n",
       "  <thead>\n",
       "    <tr style=\"text-align: right;\">\n",
       "      <th></th>\n",
       "      <th>Company</th>\n",
       "      <th>TypeName</th>\n",
       "      <th>Inches</th>\n",
       "      <th>Ram</th>\n",
       "      <th>Memory</th>\n",
       "      <th>Gpu</th>\n",
       "      <th>OpSys</th>\n",
       "      <th>Weight</th>\n",
       "      <th>Price_euros</th>\n",
       "      <th>Storage Device</th>\n",
       "      <th>Cpu_type</th>\n",
       "      <th>Clock_rate</th>\n",
       "      <th>Screen_width</th>\n",
       "      <th>Screen_height</th>\n",
       "      <th>Touchscreen</th>\n",
       "      <th>Screen_type</th>\n",
       "    </tr>\n",
       "  </thead>\n",
       "  <tbody>\n",
       "    <tr>\n",
       "      <th>0</th>\n",
       "      <td>Apple</td>\n",
       "      <td>Ultrabook</td>\n",
       "      <td>13.3</td>\n",
       "      <td>8</td>\n",
       "      <td>128</td>\n",
       "      <td>Intel Iris</td>\n",
       "      <td>macOS</td>\n",
       "      <td>1.37</td>\n",
       "      <td>1339.69</td>\n",
       "      <td>SSD</td>\n",
       "      <td>Intel Core</td>\n",
       "      <td>2.3</td>\n",
       "      <td>2560</td>\n",
       "      <td>1600</td>\n",
       "      <td>0</td>\n",
       "      <td>IPS Panel Retina Display</td>\n",
       "    </tr>\n",
       "    <tr>\n",
       "      <th>1</th>\n",
       "      <td>Apple</td>\n",
       "      <td>Ultrabook</td>\n",
       "      <td>13.3</td>\n",
       "      <td>8</td>\n",
       "      <td>128</td>\n",
       "      <td>Intel HD</td>\n",
       "      <td>macOS</td>\n",
       "      <td>1.34</td>\n",
       "      <td>898.94</td>\n",
       "      <td>Flash Storage</td>\n",
       "      <td>Intel Core</td>\n",
       "      <td>1.8</td>\n",
       "      <td>1440</td>\n",
       "      <td>900</td>\n",
       "      <td>0</td>\n",
       "      <td>Others</td>\n",
       "    </tr>\n",
       "    <tr>\n",
       "      <th>2</th>\n",
       "      <td>HP</td>\n",
       "      <td>Notebook</td>\n",
       "      <td>15.6</td>\n",
       "      <td>8</td>\n",
       "      <td>256</td>\n",
       "      <td>Intel HD</td>\n",
       "      <td>No OS</td>\n",
       "      <td>1.86</td>\n",
       "      <td>575.00</td>\n",
       "      <td>SSD</td>\n",
       "      <td>Intel Core i5</td>\n",
       "      <td>2.5</td>\n",
       "      <td>1920</td>\n",
       "      <td>1080</td>\n",
       "      <td>0</td>\n",
       "      <td>Full HD</td>\n",
       "    </tr>\n",
       "    <tr>\n",
       "      <th>3</th>\n",
       "      <td>Apple</td>\n",
       "      <td>Ultrabook</td>\n",
       "      <td>15.4</td>\n",
       "      <td>16</td>\n",
       "      <td>512</td>\n",
       "      <td>AMD Radeon</td>\n",
       "      <td>macOS</td>\n",
       "      <td>1.83</td>\n",
       "      <td>2537.45</td>\n",
       "      <td>SSD</td>\n",
       "      <td>Intel Core</td>\n",
       "      <td>2.7</td>\n",
       "      <td>2880</td>\n",
       "      <td>1800</td>\n",
       "      <td>0</td>\n",
       "      <td>IPS Panel Retina Display</td>\n",
       "    </tr>\n",
       "    <tr>\n",
       "      <th>4</th>\n",
       "      <td>Apple</td>\n",
       "      <td>Ultrabook</td>\n",
       "      <td>13.3</td>\n",
       "      <td>8</td>\n",
       "      <td>256</td>\n",
       "      <td>Intel Iris</td>\n",
       "      <td>macOS</td>\n",
       "      <td>1.37</td>\n",
       "      <td>1803.60</td>\n",
       "      <td>SSD</td>\n",
       "      <td>Intel Core</td>\n",
       "      <td>3.1</td>\n",
       "      <td>2560</td>\n",
       "      <td>1600</td>\n",
       "      <td>0</td>\n",
       "      <td>IPS Panel Retina Display</td>\n",
       "    </tr>\n",
       "  </tbody>\n",
       "</table>\n",
       "</div>"
      ],
      "text/plain": [
       "  Company   TypeName  Inches  Ram  Memory         Gpu  OpSys  Weight  \\\n",
       "0   Apple  Ultrabook    13.3    8     128  Intel Iris  macOS    1.37   \n",
       "1   Apple  Ultrabook    13.3    8     128    Intel HD  macOS    1.34   \n",
       "2      HP   Notebook    15.6    8     256    Intel HD  No OS    1.86   \n",
       "3   Apple  Ultrabook    15.4   16     512  AMD Radeon  macOS    1.83   \n",
       "4   Apple  Ultrabook    13.3    8     256  Intel Iris  macOS    1.37   \n",
       "\n",
       "   Price_euros Storage Device       Cpu_type  Clock_rate Screen_width  \\\n",
       "0      1339.69            SSD     Intel Core         2.3         2560   \n",
       "1       898.94  Flash Storage     Intel Core         1.8         1440   \n",
       "2       575.00            SSD  Intel Core i5         2.5         1920   \n",
       "3      2537.45            SSD     Intel Core         2.7         2880   \n",
       "4      1803.60            SSD     Intel Core         3.1         2560   \n",
       "\n",
       "  Screen_height  Touchscreen               Screen_type  \n",
       "0          1600            0  IPS Panel Retina Display  \n",
       "1           900            0                    Others  \n",
       "2          1080            0                   Full HD  \n",
       "3          1800            0  IPS Panel Retina Display  \n",
       "4          1600            0  IPS Panel Retina Display  "
      ]
     },
     "execution_count": 233,
     "metadata": {},
     "output_type": "execute_result"
    }
   ],
   "source": [
    "df_clean = df.copy()\n",
    "df_clean.drop(['laptop_ID', 'Product', 'ScreenResolution', 'Cpu'], axis = 1, inplace = True)\n",
    "\n",
    "df_clean.head()"
   ]
  },
  {
   "cell_type": "markdown",
   "id": "7dce740c",
   "metadata": {},
   "source": [
    "Ранее количество уникальных значений в столбцах с категориальными данными было сокращено до минимума, на данном этапе закодируем категориальные переменные."
   ]
  },
  {
   "cell_type": "code",
   "execution_count": 234,
   "id": "c45c05d7",
   "metadata": {},
   "outputs": [
    {
     "data": {
      "text/html": [
       "<div>\n",
       "<style scoped>\n",
       "    .dataframe tbody tr th:only-of-type {\n",
       "        vertical-align: middle;\n",
       "    }\n",
       "\n",
       "    .dataframe tbody tr th {\n",
       "        vertical-align: top;\n",
       "    }\n",
       "\n",
       "    .dataframe thead th {\n",
       "        text-align: right;\n",
       "    }\n",
       "</style>\n",
       "<table border=\"1\" class=\"dataframe\">\n",
       "  <thead>\n",
       "    <tr style=\"text-align: right;\">\n",
       "      <th></th>\n",
       "      <th>Inches</th>\n",
       "      <th>Ram</th>\n",
       "      <th>Memory</th>\n",
       "      <th>Weight</th>\n",
       "      <th>Price_euros</th>\n",
       "      <th>Clock_rate</th>\n",
       "      <th>Touchscreen</th>\n",
       "      <th>Company_Acer</th>\n",
       "      <th>Company_Apple</th>\n",
       "      <th>Company_Asus</th>\n",
       "      <th>...</th>\n",
       "      <th>Screen_height_900</th>\n",
       "      <th>Screen_type_4K Ultra HD</th>\n",
       "      <th>Screen_type_Full HD</th>\n",
       "      <th>Screen_type_IPS Panel</th>\n",
       "      <th>Screen_type_IPS Panel 4K Ultra HD</th>\n",
       "      <th>Screen_type_IPS Panel Full HD</th>\n",
       "      <th>Screen_type_IPS Panel Quad HD+</th>\n",
       "      <th>Screen_type_IPS Panel Retina Display</th>\n",
       "      <th>Screen_type_Others</th>\n",
       "      <th>Screen_type_Quad HD+</th>\n",
       "    </tr>\n",
       "  </thead>\n",
       "  <tbody>\n",
       "    <tr>\n",
       "      <th>0</th>\n",
       "      <td>13.3</td>\n",
       "      <td>8</td>\n",
       "      <td>128</td>\n",
       "      <td>1.37</td>\n",
       "      <td>1339.69</td>\n",
       "      <td>2.3</td>\n",
       "      <td>0</td>\n",
       "      <td>0</td>\n",
       "      <td>1</td>\n",
       "      <td>0</td>\n",
       "      <td>...</td>\n",
       "      <td>0</td>\n",
       "      <td>0</td>\n",
       "      <td>0</td>\n",
       "      <td>0</td>\n",
       "      <td>0</td>\n",
       "      <td>0</td>\n",
       "      <td>0</td>\n",
       "      <td>1</td>\n",
       "      <td>0</td>\n",
       "      <td>0</td>\n",
       "    </tr>\n",
       "    <tr>\n",
       "      <th>1</th>\n",
       "      <td>13.3</td>\n",
       "      <td>8</td>\n",
       "      <td>128</td>\n",
       "      <td>1.34</td>\n",
       "      <td>898.94</td>\n",
       "      <td>1.8</td>\n",
       "      <td>0</td>\n",
       "      <td>0</td>\n",
       "      <td>1</td>\n",
       "      <td>0</td>\n",
       "      <td>...</td>\n",
       "      <td>1</td>\n",
       "      <td>0</td>\n",
       "      <td>0</td>\n",
       "      <td>0</td>\n",
       "      <td>0</td>\n",
       "      <td>0</td>\n",
       "      <td>0</td>\n",
       "      <td>0</td>\n",
       "      <td>1</td>\n",
       "      <td>0</td>\n",
       "    </tr>\n",
       "    <tr>\n",
       "      <th>2</th>\n",
       "      <td>15.6</td>\n",
       "      <td>8</td>\n",
       "      <td>256</td>\n",
       "      <td>1.86</td>\n",
       "      <td>575.00</td>\n",
       "      <td>2.5</td>\n",
       "      <td>0</td>\n",
       "      <td>0</td>\n",
       "      <td>0</td>\n",
       "      <td>0</td>\n",
       "      <td>...</td>\n",
       "      <td>0</td>\n",
       "      <td>0</td>\n",
       "      <td>1</td>\n",
       "      <td>0</td>\n",
       "      <td>0</td>\n",
       "      <td>0</td>\n",
       "      <td>0</td>\n",
       "      <td>0</td>\n",
       "      <td>0</td>\n",
       "      <td>0</td>\n",
       "    </tr>\n",
       "    <tr>\n",
       "      <th>3</th>\n",
       "      <td>15.4</td>\n",
       "      <td>16</td>\n",
       "      <td>512</td>\n",
       "      <td>1.83</td>\n",
       "      <td>2537.45</td>\n",
       "      <td>2.7</td>\n",
       "      <td>0</td>\n",
       "      <td>0</td>\n",
       "      <td>1</td>\n",
       "      <td>0</td>\n",
       "      <td>...</td>\n",
       "      <td>0</td>\n",
       "      <td>0</td>\n",
       "      <td>0</td>\n",
       "      <td>0</td>\n",
       "      <td>0</td>\n",
       "      <td>0</td>\n",
       "      <td>0</td>\n",
       "      <td>1</td>\n",
       "      <td>0</td>\n",
       "      <td>0</td>\n",
       "    </tr>\n",
       "    <tr>\n",
       "      <th>4</th>\n",
       "      <td>13.3</td>\n",
       "      <td>8</td>\n",
       "      <td>256</td>\n",
       "      <td>1.37</td>\n",
       "      <td>1803.60</td>\n",
       "      <td>3.1</td>\n",
       "      <td>0</td>\n",
       "      <td>0</td>\n",
       "      <td>1</td>\n",
       "      <td>0</td>\n",
       "      <td>...</td>\n",
       "      <td>0</td>\n",
       "      <td>0</td>\n",
       "      <td>0</td>\n",
       "      <td>0</td>\n",
       "      <td>0</td>\n",
       "      <td>0</td>\n",
       "      <td>0</td>\n",
       "      <td>1</td>\n",
       "      <td>0</td>\n",
       "      <td>0</td>\n",
       "    </tr>\n",
       "  </tbody>\n",
       "</table>\n",
       "<p>5 rows × 119 columns</p>\n",
       "</div>"
      ],
      "text/plain": [
       "   Inches  Ram  Memory  Weight  Price_euros  Clock_rate  Touchscreen  \\\n",
       "0    13.3    8     128    1.37      1339.69         2.3            0   \n",
       "1    13.3    8     128    1.34       898.94         1.8            0   \n",
       "2    15.6    8     256    1.86       575.00         2.5            0   \n",
       "3    15.4   16     512    1.83      2537.45         2.7            0   \n",
       "4    13.3    8     256    1.37      1803.60         3.1            0   \n",
       "\n",
       "   Company_Acer  Company_Apple  Company_Asus  ...  Screen_height_900  \\\n",
       "0             0              1             0  ...                  0   \n",
       "1             0              1             0  ...                  1   \n",
       "2             0              0             0  ...                  0   \n",
       "3             0              1             0  ...                  0   \n",
       "4             0              1             0  ...                  0   \n",
       "\n",
       "   Screen_type_4K Ultra HD  Screen_type_Full HD  Screen_type_IPS Panel  \\\n",
       "0                        0                    0                      0   \n",
       "1                        0                    0                      0   \n",
       "2                        0                    1                      0   \n",
       "3                        0                    0                      0   \n",
       "4                        0                    0                      0   \n",
       "\n",
       "   Screen_type_IPS Panel 4K Ultra HD  Screen_type_IPS Panel Full HD  \\\n",
       "0                                  0                              0   \n",
       "1                                  0                              0   \n",
       "2                                  0                              0   \n",
       "3                                  0                              0   \n",
       "4                                  0                              0   \n",
       "\n",
       "   Screen_type_IPS Panel Quad HD+  Screen_type_IPS Panel Retina Display  \\\n",
       "0                               0                                     1   \n",
       "1                               0                                     0   \n",
       "2                               0                                     0   \n",
       "3                               0                                     1   \n",
       "4                               0                                     1   \n",
       "\n",
       "   Screen_type_Others  Screen_type_Quad HD+  \n",
       "0                   0                     0  \n",
       "1                   1                     0  \n",
       "2                   0                     0  \n",
       "3                   0                     0  \n",
       "4                   0                     0  \n",
       "\n",
       "[5 rows x 119 columns]"
      ]
     },
     "execution_count": 234,
     "metadata": {},
     "output_type": "execute_result"
    }
   ],
   "source": [
    "df_clean = pd.get_dummies(df_clean)\n",
    "df_clean.head()"
   ]
  },
  {
   "cell_type": "markdown",
   "id": "e48a76ea",
   "metadata": {},
   "source": [
    "# Построение модели "
   ]
  },
  {
   "cell_type": "markdown",
   "id": "fea38ddd",
   "metadata": {},
   "source": [
    "Следующий шаг - разделение данных на признаки-факторы и признак-результат"
   ]
  },
  {
   "cell_type": "code",
   "execution_count": 237,
   "id": "c98ceabf",
   "metadata": {},
   "outputs": [],
   "source": [
    "X = df_clean.drop(['Price_euros'], axis=1)\n",
    "y = df_clean[['Price_euros']]\n",
    "\n",
    "train_X, test_X, train_y, test_y = train_test_split(X, y, test_size=0.33, random_state=42)"
   ]
  },
  {
   "cell_type": "code",
   "execution_count": 238,
   "id": "d309004b",
   "metadata": {},
   "outputs": [
    {
     "name": "stdout",
     "output_type": "stream",
     "text": [
      "R2: 0.8025303098371858\n",
      "MSE: 105730.04880460276\n"
     ]
    }
   ],
   "source": [
    "# создадим модель линейной регрессии\n",
    "model = LinearRegression()\n",
    "\n",
    "# обучим нашу модель\n",
    "model.fit(train_X, train_y)\n",
    "\n",
    "# делаем прогнозы\n",
    "predictions = model.predict(test_X)\n",
    "\n",
    "print(f'R2: {r2_score(test_y, predictions)}')\n",
    "print(f'MSE: {mean_squared_error(test_y, predictions)}')"
   ]
  },
  {
   "cell_type": "markdown",
   "id": "d5b8d0d4",
   "metadata": {},
   "source": [
    "Без каких-либо преобразований при построении модели линейной регрессии получился высокий коэф-т детерминации, однако средняя квадратическая ошибка также очень большая. Попробуем улучшить данные показатели.\n",
    "<br>\n",
    "Первым шагом попробуем удалить выбросы"
   ]
  },
  {
   "cell_type": "code",
   "execution_count": 244,
   "id": "e827d2c1",
   "metadata": {},
   "outputs": [
    {
     "data": {
      "image/png": "[encoded data removed]",
      "text/plain": [
       "<Figure size 600x600 with 1 Axes>"
      ]
     },
     "metadata": {},
     "output_type": "display_data"
    }
   ],
   "source": [
    "plt.figure(figsize=(6, 6))\n",
    "df_clean['Price_euros'].plot(kind='box', title='Box plot (price)')\n",
    "plt.show()"
   ]
  },
  {
   "cell_type": "code",
   "execution_count": 247,
   "id": "f90adcb6",
   "metadata": {},
   "outputs": [
    {
     "name": "stdout",
     "output_type": "stream",
     "text": [
      "Количество выбросов 12\n"
     ]
    }
   ],
   "source": [
    "z_scores = st.zscore(df_clean['Price_euros'])\n",
    "\n",
    "outliers = (df_clean['Price_euros'][(z_scores > 3) | (z_scores < -3)]).count()\n",
    "print('Количество выбросов', outliers)"
   ]
  },
  {
   "cell_type": "markdown",
   "id": "d3818a5e",
   "metadata": {},
   "source": [
    "По z-оценке количество выбросов очень маленькое, поэтому имеем право удалить их и перезаписать датасет"
   ]
  },
  {
   "cell_type": "code",
   "execution_count": 248,
   "id": "c684c66b",
   "metadata": {},
   "outputs": [],
   "source": [
    "#перезапишем датасет без выбросов\n",
    "df_no_outliers = df_clean[(z_scores < 3) & (z_scores > -3)]"
   ]
  },
  {
   "cell_type": "markdown",
   "id": "5e739df6",
   "metadata": {},
   "source": [
    "Построим новую модель"
   ]
  },
  {
   "cell_type": "code",
   "execution_count": 333,
   "id": "d4f8b4c7",
   "metadata": {},
   "outputs": [],
   "source": [
    "X = df_no_outliers.drop(['Price_euros'], axis=1)\n",
    "y = df_no_outliers[['Price_euros']]\n",
    "\n",
    "train_X, test_X, train_y, test_y = train_test_split(X, y, test_size=0.33, random_state=42)"
   ]
  },
  {
   "cell_type": "code",
   "execution_count": 334,
   "id": "977064d1",
   "metadata": {},
   "outputs": [
    {
     "name": "stdout",
     "output_type": "stream",
     "text": [
      "R2: 0.7649359287603167\n",
      "MSE: 95777.31049336623\n"
     ]
    }
   ],
   "source": [
    "# создадим модель линейной регрессии\n",
    "model = LinearRegression()\n",
    "\n",
    "# обучим нашу модель\n",
    "model.fit(train_X, train_y)\n",
    "\n",
    "# делаем прогнозы\n",
    "predictions = model.predict(test_X)\n",
    "\n",
    "print(f'R2: {r2_score(test_y, predictions)}')\n",
    "print(f'MSE: {mean_squared_error(test_y, predictions)}')"
   ]
  },
  {
   "cell_type": "markdown",
   "id": "5c2022c2",
   "metadata": {},
   "source": [
    "Коэффициент детерминации немного уменьшился, но уменьшилась и средняя квадратическая ошибка, продолжим преобразования."
   ]
  },
  {
   "cell_type": "code",
   "execution_count": 335,
   "id": "5b4cc1f5",
   "metadata": {},
   "outputs": [],
   "source": [
    "# создадим полиномиальные признаки 2-ого порядка\n",
    "from sklearn.preprocessing import PolynomialFeatures\n",
    "poly = PolynomialFeatures(2)\n",
    "poly.fit_transform(X)\n",
    "\n",
    "train_X_pf = pd.DataFrame(poly.fit_transform(train_X), columns=poly.get_feature_names_out())\n",
    "test_X_pf = pd.DataFrame(poly.fit_transform(test_X), columns=poly.get_feature_names_out())"
   ]
  },
  {
   "cell_type": "code",
   "execution_count": 336,
   "id": "f94adea3",
   "metadata": {},
   "outputs": [],
   "source": [
    "# нормируем данные\n",
    "from sklearn.preprocessing import StandardScaler\n",
    "\n",
    "scaler = StandardScaler()\n",
    "train_X_st = scaler.fit_transform(train_X_pf)\n",
    "test_X_st = scaler.fit_transform(test_X_pf)"
   ]
  },
  {
   "cell_type": "code",
   "execution_count": 321,
   "id": "e7432d1e",
   "metadata": {},
   "outputs": [
    {
     "data": {
      "text/plain": [
       "(864, 7140)"
      ]
     },
     "execution_count": 321,
     "metadata": {},
     "output_type": "execute_result"
    }
   ],
   "source": [
    "train_X_st.shape"
   ]
  },
  {
   "cell_type": "markdown",
   "id": "e68c2537",
   "metadata": {},
   "source": [
    "7140 признаков будто бы многовато, отберем 50 наиболее важных с помощью F-теста"
   ]
  },
  {
   "cell_type": "code",
   "execution_count": 337,
   "id": "af8e0a84",
   "metadata": {},
   "outputs": [
    {
     "name": "stderr",
     "output_type": "stream",
     "text": [
      "C:\\Users\\An_to\\anaconda3\\lib\\site-packages\\sklearn\\utils\\validation.py:1300: DataConversionWarning: A column-vector y was passed when a 1d array was expected. Please change the shape of y to (n_samples, ), for example using ravel().\n",
      "  y = column_or_1d(y, warn=True)\n"
     ]
    }
   ],
   "source": [
    "from sklearn.feature_selection import f_regression, SelectKBest\n",
    "\n",
    "f_statistic, p_values = f_regression(train_X_st, train_y)"
   ]
  },
  {
   "cell_type": "code",
   "execution_count": 338,
   "id": "52d3209b",
   "metadata": {},
   "outputs": [
    {
     "name": "stderr",
     "output_type": "stream",
     "text": [
      "C:\\Users\\An_to\\anaconda3\\lib\\site-packages\\sklearn\\utils\\validation.py:1300: DataConversionWarning: A column-vector y was passed when a 1d array was expected. Please change the shape of y to (n_samples, ), for example using ravel().\n",
      "  y = column_or_1d(y, warn=True)\n"
     ]
    }
   ],
   "source": [
    "selector = SelectKBest(f_regression, k=50)\n",
    "\n",
    "train_X = pd.DataFrame(selector.fit_transform(train_X_st, train_y), columns = selector.get_feature_names_out())\n",
    "test_X = pd.DataFrame(selector.transform(test_X_st), columns = selector.get_feature_names_out())"
   ]
  },
  {
   "cell_type": "code",
   "execution_count": 339,
   "id": "256829ba",
   "metadata": {},
   "outputs": [
    {
     "name": "stdout",
     "output_type": "stream",
     "text": [
      "R2: 0.7136527582521404\n",
      "MSE: 116672.7375101031\n"
     ]
    }
   ],
   "source": [
    "# создадим модель линейной регрессии\n",
    "model = LinearRegression()\n",
    "\n",
    "# обучим нашу модель\n",
    "model.fit(train_X, train_y)\n",
    "\n",
    "# делаем прогнозы\n",
    "predictions = model.predict(test_X)\n",
    "\n",
    "print(f'R2: {r2_score(test_y, predictions)}')\n",
    "print(f'MSE: {mean_squared_error(test_y, predictions)}')"
   ]
  },
  {
   "cell_type": "markdown",
   "id": "b2ec4ab3",
   "metadata": {},
   "source": [
    "Получили более худший результат как по коэф-ту детерминации, так и по средней квадратической ошибке."
   ]
  },
  {
   "cell_type": "markdown",
   "id": "52494d30",
   "metadata": {},
   "source": [
    "Попробуем использовать метод главных компонент"
   ]
  },
  {
   "cell_type": "code",
   "execution_count": 340,
   "id": "0fff84fc",
   "metadata": {},
   "outputs": [],
   "source": [
    "from sklearn.decomposition import PCA\n",
    "\n",
    "pca = PCA(n_components=30, whiten=True)\n",
    "pca = pca.fit(train_X)\n",
    "\n",
    "X_train = pca.transform(train_X)\n",
    "X_test = pca.transform(test_X)"
   ]
  },
  {
   "cell_type": "code",
   "execution_count": 341,
   "id": "2a4d00ff",
   "metadata": {},
   "outputs": [
    {
     "name": "stdout",
     "output_type": "stream",
     "text": [
      "R2: 0.7215735961657179\n",
      "MSE: 113445.37678153478\n"
     ]
    }
   ],
   "source": [
    "# создадим модель линейной регрессии\n",
    "model = LinearRegression()\n",
    "\n",
    "# обучим нашу модель\n",
    "model.fit(X_train, train_y)\n",
    "\n",
    "# делаем прогнозы\n",
    "predictions = model.predict(X_test)\n",
    "\n",
    "print(f'R2: {r2_score(test_y, predictions)}')\n",
    "print(f'MSE: {mean_squared_error(test_y, predictions)}')"
   ]
  },
  {
   "cell_type": "markdown",
   "id": "a8d46437",
   "metadata": {},
   "source": [
    "Результат улучшился, но не так, как хотелось бы. Попробуем использовать метод РСА для данных, которые были только отчищены от выбросов."
   ]
  },
  {
   "cell_type": "code",
   "execution_count": 346,
   "id": "77834926",
   "metadata": {},
   "outputs": [],
   "source": [
    "X = df_no_outliers.drop(['Price_euros'], axis=1)\n",
    "y = df_no_outliers[['Price_euros']]\n",
    "\n",
    "train_X, test_X, train_y, test_y = train_test_split(X, y, test_size=0.33, random_state=42)"
   ]
  },
  {
   "cell_type": "code",
   "execution_count": 353,
   "id": "6c0fdc19",
   "metadata": {},
   "outputs": [],
   "source": [
    "from sklearn.decomposition import PCA\n",
    "\n",
    "pca = PCA(n_components=50, whiten=True)\n",
    "pca = pca.fit(train_X)\n",
    "\n",
    "X_train = pca.transform(train_X)\n",
    "X_test = pca.transform(test_X)"
   ]
  },
  {
   "cell_type": "code",
   "execution_count": 354,
   "id": "3c7d2bc3",
   "metadata": {},
   "outputs": [
    {
     "name": "stdout",
     "output_type": "stream",
     "text": [
      "R2: 0.773993647782325\n",
      "MSE: 92086.7253581841\n"
     ]
    }
   ],
   "source": [
    "# создадим модель линейной регрессии\n",
    "model = LinearRegression()\n",
    "\n",
    "# обучим нашу модель\n",
    "model.fit(X_train, train_y)\n",
    "\n",
    "# делаем прогнозы\n",
    "predictions = model.predict(X_test)\n",
    "\n",
    "print(f'R2: {r2_score(test_y, predictions)}')\n",
    "print(f'MSE: {mean_squared_error(test_y, predictions)}')"
   ]
  },
  {
   "cell_type": "markdown",
   "id": "7ddf1e04",
   "metadata": {},
   "source": [
    "Результат на данный момент является самым лучшим. Попробуем еще четыре способа."
   ]
  },
  {
   "cell_type": "markdown",
   "id": "bfc69f53",
   "metadata": {},
   "source": [
    "# Lasso"
   ]
  },
  {
   "cell_type": "markdown",
   "id": "269fe8a9",
   "metadata": {},
   "source": [
    "L1 «зануляет» веса при всех сильно скоррелированных признаках, кроме одного. Таким образом, в алгоритм встроен механизм отбора признаков (feature selection) — его применяют, когда нужно снизить размерность и избавиться от дублирующих признаков."
   ]
  },
  {
   "cell_type": "code",
   "execution_count": 358,
   "id": "fd79b4eb",
   "metadata": {},
   "outputs": [],
   "source": [
    "X = df_no_outliers.drop(['Price_euros'], axis=1)\n",
    "y = df_no_outliers[['Price_euros']]\n",
    "\n",
    "train_X, test_X, train_y, test_y = train_test_split(X, y, test_size=0.33, random_state=42)"
   ]
  },
  {
   "cell_type": "code",
   "execution_count": 359,
   "id": "18c8fb58",
   "metadata": {},
   "outputs": [],
   "source": [
    "from sklearn.linear_model import LinearRegression, Lasso, Ridge"
   ]
  },
  {
   "cell_type": "code",
   "execution_count": 360,
   "id": "5212c46b",
   "metadata": {},
   "outputs": [
    {
     "name": "stdout",
     "output_type": "stream",
     "text": [
      "R2: 0.7754812603329759\n",
      "MSE: 91480.5947470443\n"
     ]
    }
   ],
   "source": [
    "# создадим модель линейной регрессии\n",
    "model = Lasso()\n",
    "\n",
    "# обучим нашу модель\n",
    "model.fit(train_X, train_y)\n",
    "\n",
    "# делаем прогнозы\n",
    "predictions = model.predict(test_X)\n",
    "\n",
    "print(f'R2: {r2_score(test_y, predictions)}')\n",
    "print(f'MSE: {mean_squared_error(test_y, predictions)}')"
   ]
  },
  {
   "cell_type": "markdown",
   "id": "a6ac29f8",
   "metadata": {},
   "source": [
    "Средняя квадратическая ошибка уменьшилась, коэф-т детерминации не изменился. Lasso-регрессия лучше справилась с предсказанием, чем обычная линейная."
   ]
  },
  {
   "cell_type": "markdown",
   "id": "8dd1b019",
   "metadata": {},
   "source": [
    "# Ridge"
   ]
  },
  {
   "cell_type": "markdown",
   "id": "9a1a25a3",
   "metadata": {},
   "source": [
    "В случае с L2-регуляризацией веса между скоррелированными признаками будут распределены равномерно."
   ]
  },
  {
   "cell_type": "code",
   "execution_count": 361,
   "id": "406be272",
   "metadata": {},
   "outputs": [
    {
     "name": "stdout",
     "output_type": "stream",
     "text": [
      "R2: 0.7769570279237529\n",
      "MSE: 90879.29038771596\n"
     ]
    }
   ],
   "source": [
    "# создадим модель линейной регрессии\n",
    "model = Ridge()\n",
    "\n",
    "# обучим нашу модель\n",
    "model.fit(train_X, train_y)\n",
    "\n",
    "\n",
    "# делаем прогнозы\n",
    "predictions = model.predict(test_X)\n",
    "\n",
    "print(f'R2: {r2_score(test_y, predictions)}')\n",
    "print(f'MSE: {mean_squared_error(test_y, predictions)}')"
   ]
  },
  {
   "cell_type": "markdown",
   "id": "15ee7465",
   "metadata": {},
   "source": [
    "Ridge показал лучше результаты, чем Lasso."
   ]
  },
  {
   "cell_type": "markdown",
   "id": "1e0be4cd",
   "metadata": {},
   "source": [
    "# Дерево решений"
   ]
  },
  {
   "cell_type": "code",
   "execution_count": 362,
   "id": "afb2690f",
   "metadata": {},
   "outputs": [],
   "source": [
    "# испортируем библиотеку\n",
    "from sklearn.tree import DecisionTreeRegressor"
   ]
  },
  {
   "cell_type": "code",
   "execution_count": 363,
   "id": "e27fc60c",
   "metadata": {},
   "outputs": [],
   "source": [
    "dtree = DecisionTreeRegressor(random_state=101)"
   ]
  },
  {
   "cell_type": "code",
   "execution_count": 364,
   "id": "6094dc0f",
   "metadata": {},
   "outputs": [],
   "source": [
    "# обучаем\n",
    "dtree = dtree.fit(train_X,train_y)"
   ]
  },
  {
   "cell_type": "code",
   "execution_count": 366,
   "id": "d649fb39",
   "metadata": {},
   "outputs": [
    {
     "name": "stdout",
     "output_type": "stream",
     "text": [
      "R2: 0.6761193176270401\n",
      "MSE: 131965.81049091206\n"
     ]
    }
   ],
   "source": [
    "predictions = dtree.predict(test_X)\n",
    "\n",
    "print(f'R2: {r2_score(test_y, predictions)}')\n",
    "print(f'MSE: {mean_squared_error(test_y, predictions)}')"
   ]
  },
  {
   "cell_type": "markdown",
   "id": "70d4c81d",
   "metadata": {},
   "source": [
    "Дерево решений худще справилось в предсказанием, чем линейная регрессия, регресии Lasso и Ridge. Следующим шагом попробую воспользоваться более сильным методом - методом случайного дерева"
   ]
  },
  {
   "cell_type": "markdown",
   "id": "5c1f6487",
   "metadata": {},
   "source": [
    "# Метод случайного дерева"
   ]
  },
  {
   "cell_type": "code",
   "execution_count": 367,
   "id": "30c81fc6",
   "metadata": {},
   "outputs": [],
   "source": [
    "# испортируем библиотеки\n",
    "from sklearn.ensemble import RandomForestRegressor\n",
    "from sklearn.model_selection import GridSearchCV"
   ]
  },
  {
   "cell_type": "code",
   "execution_count": 368,
   "id": "bb85cbd3",
   "metadata": {},
   "outputs": [],
   "source": [
    "clf_rf = RandomForestRegressor()\n",
    "parameters = {'n_estimators': [10, 20, 30], 'max_depth': [2, 5, 7, 10]}"
   ]
  },
  {
   "cell_type": "code",
   "execution_count": 369,
   "id": "1ba891b5",
   "metadata": {},
   "outputs": [],
   "source": [
    "grid_search_cv_clf = GridSearchCV(clf_rf, parameters, cv=5)"
   ]
  },
  {
   "cell_type": "code",
   "execution_count": 370,
   "id": "7682d36c",
   "metadata": {},
   "outputs": [
    {
     "name": "stderr",
     "output_type": "stream",
     "text": [
      "C:\\Users\\An_to\\anaconda3\\lib\\site-packages\\sklearn\\base.py:1474: DataConversionWarning: A column-vector y was passed when a 1d array was expected. Please change the shape of y to (n_samples,), for example using ravel().\n",
      "  return fit_method(estimator, *args, **kwargs)\n",
      "C:\\Users\\An_to\\anaconda3\\lib\\site-packages\\sklearn\\base.py:1474: DataConversionWarning: A column-vector y was passed when a 1d array was expected. Please change the shape of y to (n_samples,), for example using ravel().\n",
      "  return fit_method(estimator, *args, **kwargs)\n",
      "C:\\Users\\An_to\\anaconda3\\lib\\site-packages\\sklearn\\base.py:1474: DataConversionWarning: A column-vector y was passed when a 1d array was expected. Please change the shape of y to (n_samples,), for example using ravel().\n",
      "  return fit_method(estimator, *args, **kwargs)\n",
      "C:\\Users\\An_to\\anaconda3\\lib\\site-packages\\sklearn\\base.py:1474: DataConversionWarning: A column-vector y was passed when a 1d array was expected. Please change the shape of y to (n_samples,), for example using ravel().\n",
      "  return fit_method(estimator, *args, **kwargs)\n",
      "C:\\Users\\An_to\\anaconda3\\lib\\site-packages\\sklearn\\base.py:1474: DataConversionWarning: A column-vector y was passed when a 1d array was expected. Please change the shape of y to (n_samples,), for example using ravel().\n",
      "  return fit_method(estimator, *args, **kwargs)\n",
      "C:\\Users\\An_to\\anaconda3\\lib\\site-packages\\sklearn\\base.py:1474: DataConversionWarning: A column-vector y was passed when a 1d array was expected. Please change the shape of y to (n_samples,), for example using ravel().\n",
      "  return fit_method(estimator, *args, **kwargs)\n",
      "C:\\Users\\An_to\\anaconda3\\lib\\site-packages\\sklearn\\base.py:1474: DataConversionWarning: A column-vector y was passed when a 1d array was expected. Please change the shape of y to (n_samples,), for example using ravel().\n",
      "  return fit_method(estimator, *args, **kwargs)\n",
      "C:\\Users\\An_to\\anaconda3\\lib\\site-packages\\sklearn\\base.py:1474: DataConversionWarning: A column-vector y was passed when a 1d array was expected. Please change the shape of y to (n_samples,), for example using ravel().\n",
      "  return fit_method(estimator, *args, **kwargs)\n",
      "C:\\Users\\An_to\\anaconda3\\lib\\site-packages\\sklearn\\base.py:1474: DataConversionWarning: A column-vector y was passed when a 1d array was expected. Please change the shape of y to (n_samples,), for example using ravel().\n",
      "  return fit_method(estimator, *args, **kwargs)\n",
      "C:\\Users\\An_to\\anaconda3\\lib\\site-packages\\sklearn\\base.py:1474: DataConversionWarning: A column-vector y was passed when a 1d array was expected. Please change the shape of y to (n_samples,), for example using ravel().\n",
      "  return fit_method(estimator, *args, **kwargs)\n",
      "C:\\Users\\An_to\\anaconda3\\lib\\site-packages\\sklearn\\base.py:1474: DataConversionWarning: A column-vector y was passed when a 1d array was expected. Please change the shape of y to (n_samples,), for example using ravel().\n",
      "  return fit_method(estimator, *args, **kwargs)\n",
      "C:\\Users\\An_to\\anaconda3\\lib\\site-packages\\sklearn\\base.py:1474: DataConversionWarning: A column-vector y was passed when a 1d array was expected. Please change the shape of y to (n_samples,), for example using ravel().\n",
      "  return fit_method(estimator, *args, **kwargs)\n",
      "C:\\Users\\An_to\\anaconda3\\lib\\site-packages\\sklearn\\base.py:1474: DataConversionWarning: A column-vector y was passed when a 1d array was expected. Please change the shape of y to (n_samples,), for example using ravel().\n",
      "  return fit_method(estimator, *args, **kwargs)\n",
      "C:\\Users\\An_to\\anaconda3\\lib\\site-packages\\sklearn\\base.py:1474: DataConversionWarning: A column-vector y was passed when a 1d array was expected. Please change the shape of y to (n_samples,), for example using ravel().\n",
      "  return fit_method(estimator, *args, **kwargs)\n",
      "C:\\Users\\An_to\\anaconda3\\lib\\site-packages\\sklearn\\base.py:1474: DataConversionWarning: A column-vector y was passed when a 1d array was expected. Please change the shape of y to (n_samples,), for example using ravel().\n",
      "  return fit_method(estimator, *args, **kwargs)\n",
      "C:\\Users\\An_to\\anaconda3\\lib\\site-packages\\sklearn\\base.py:1474: DataConversionWarning: A column-vector y was passed when a 1d array was expected. Please change the shape of y to (n_samples,), for example using ravel().\n",
      "  return fit_method(estimator, *args, **kwargs)\n",
      "C:\\Users\\An_to\\anaconda3\\lib\\site-packages\\sklearn\\base.py:1474: DataConversionWarning: A column-vector y was passed when a 1d array was expected. Please change the shape of y to (n_samples,), for example using ravel().\n",
      "  return fit_method(estimator, *args, **kwargs)\n",
      "C:\\Users\\An_to\\anaconda3\\lib\\site-packages\\sklearn\\base.py:1474: DataConversionWarning: A column-vector y was passed when a 1d array was expected. Please change the shape of y to (n_samples,), for example using ravel().\n",
      "  return fit_method(estimator, *args, **kwargs)\n",
      "C:\\Users\\An_to\\anaconda3\\lib\\site-packages\\sklearn\\base.py:1474: DataConversionWarning: A column-vector y was passed when a 1d array was expected. Please change the shape of y to (n_samples,), for example using ravel().\n",
      "  return fit_method(estimator, *args, **kwargs)\n",
      "C:\\Users\\An_to\\anaconda3\\lib\\site-packages\\sklearn\\base.py:1474: DataConversionWarning: A column-vector y was passed when a 1d array was expected. Please change the shape of y to (n_samples,), for example using ravel().\n",
      "  return fit_method(estimator, *args, **kwargs)\n",
      "C:\\Users\\An_to\\anaconda3\\lib\\site-packages\\sklearn\\base.py:1474: DataConversionWarning: A column-vector y was passed when a 1d array was expected. Please change the shape of y to (n_samples,), for example using ravel().\n",
      "  return fit_method(estimator, *args, **kwargs)\n",
      "C:\\Users\\An_to\\anaconda3\\lib\\site-packages\\sklearn\\base.py:1474: DataConversionWarning: A column-vector y was passed when a 1d array was expected. Please change the shape of y to (n_samples,), for example using ravel().\n",
      "  return fit_method(estimator, *args, **kwargs)\n",
      "C:\\Users\\An_to\\anaconda3\\lib\\site-packages\\sklearn\\base.py:1474: DataConversionWarning: A column-vector y was passed when a 1d array was expected. Please change the shape of y to (n_samples,), for example using ravel().\n",
      "  return fit_method(estimator, *args, **kwargs)\n",
      "C:\\Users\\An_to\\anaconda3\\lib\\site-packages\\sklearn\\base.py:1474: DataConversionWarning: A column-vector y was passed when a 1d array was expected. Please change the shape of y to (n_samples,), for example using ravel().\n",
      "  return fit_method(estimator, *args, **kwargs)\n",
      "C:\\Users\\An_to\\anaconda3\\lib\\site-packages\\sklearn\\base.py:1474: DataConversionWarning: A column-vector y was passed when a 1d array was expected. Please change the shape of y to (n_samples,), for example using ravel().\n",
      "  return fit_method(estimator, *args, **kwargs)\n",
      "C:\\Users\\An_to\\anaconda3\\lib\\site-packages\\sklearn\\base.py:1474: DataConversionWarning: A column-vector y was passed when a 1d array was expected. Please change the shape of y to (n_samples,), for example using ravel().\n",
      "  return fit_method(estimator, *args, **kwargs)\n",
      "C:\\Users\\An_to\\anaconda3\\lib\\site-packages\\sklearn\\base.py:1474: DataConversionWarning: A column-vector y was passed when a 1d array was expected. Please change the shape of y to (n_samples,), for example using ravel().\n",
      "  return fit_method(estimator, *args, **kwargs)\n",
      "C:\\Users\\An_to\\anaconda3\\lib\\site-packages\\sklearn\\base.py:1474: DataConversionWarning: A column-vector y was passed when a 1d array was expected. Please change the shape of y to (n_samples,), for example using ravel().\n",
      "  return fit_method(estimator, *args, **kwargs)\n",
      "C:\\Users\\An_to\\anaconda3\\lib\\site-packages\\sklearn\\base.py:1474: DataConversionWarning: A column-vector y was passed when a 1d array was expected. Please change the shape of y to (n_samples,), for example using ravel().\n",
      "  return fit_method(estimator, *args, **kwargs)\n",
      "C:\\Users\\An_to\\anaconda3\\lib\\site-packages\\sklearn\\base.py:1474: DataConversionWarning: A column-vector y was passed when a 1d array was expected. Please change the shape of y to (n_samples,), for example using ravel().\n",
      "  return fit_method(estimator, *args, **kwargs)\n",
      "C:\\Users\\An_to\\anaconda3\\lib\\site-packages\\sklearn\\base.py:1474: DataConversionWarning: A column-vector y was passed when a 1d array was expected. Please change the shape of y to (n_samples,), for example using ravel().\n",
      "  return fit_method(estimator, *args, **kwargs)\n",
      "C:\\Users\\An_to\\anaconda3\\lib\\site-packages\\sklearn\\base.py:1474: DataConversionWarning: A column-vector y was passed when a 1d array was expected. Please change the shape of y to (n_samples,), for example using ravel().\n",
      "  return fit_method(estimator, *args, **kwargs)\n",
      "C:\\Users\\An_to\\anaconda3\\lib\\site-packages\\sklearn\\base.py:1474: DataConversionWarning: A column-vector y was passed when a 1d array was expected. Please change the shape of y to (n_samples,), for example using ravel().\n",
      "  return fit_method(estimator, *args, **kwargs)\n",
      "C:\\Users\\An_to\\anaconda3\\lib\\site-packages\\sklearn\\base.py:1474: DataConversionWarning: A column-vector y was passed when a 1d array was expected. Please change the shape of y to (n_samples,), for example using ravel().\n",
      "  return fit_method(estimator, *args, **kwargs)\n",
      "C:\\Users\\An_to\\anaconda3\\lib\\site-packages\\sklearn\\base.py:1474: DataConversionWarning: A column-vector y was passed when a 1d array was expected. Please change the shape of y to (n_samples,), for example using ravel().\n",
      "  return fit_method(estimator, *args, **kwargs)\n",
      "C:\\Users\\An_to\\anaconda3\\lib\\site-packages\\sklearn\\base.py:1474: DataConversionWarning: A column-vector y was passed when a 1d array was expected. Please change the shape of y to (n_samples,), for example using ravel().\n",
      "  return fit_method(estimator, *args, **kwargs)\n",
      "C:\\Users\\An_to\\anaconda3\\lib\\site-packages\\sklearn\\base.py:1474: DataConversionWarning: A column-vector y was passed when a 1d array was expected. Please change the shape of y to (n_samples,), for example using ravel().\n",
      "  return fit_method(estimator, *args, **kwargs)\n",
      "C:\\Users\\An_to\\anaconda3\\lib\\site-packages\\sklearn\\base.py:1474: DataConversionWarning: A column-vector y was passed when a 1d array was expected. Please change the shape of y to (n_samples,), for example using ravel().\n",
      "  return fit_method(estimator, *args, **kwargs)\n",
      "C:\\Users\\An_to\\anaconda3\\lib\\site-packages\\sklearn\\base.py:1474: DataConversionWarning: A column-vector y was passed when a 1d array was expected. Please change the shape of y to (n_samples,), for example using ravel().\n",
      "  return fit_method(estimator, *args, **kwargs)\n",
      "C:\\Users\\An_to\\anaconda3\\lib\\site-packages\\sklearn\\base.py:1474: DataConversionWarning: A column-vector y was passed when a 1d array was expected. Please change the shape of y to (n_samples,), for example using ravel().\n",
      "  return fit_method(estimator, *args, **kwargs)\n",
      "C:\\Users\\An_to\\anaconda3\\lib\\site-packages\\sklearn\\base.py:1474: DataConversionWarning: A column-vector y was passed when a 1d array was expected. Please change the shape of y to (n_samples,), for example using ravel().\n",
      "  return fit_method(estimator, *args, **kwargs)\n",
      "C:\\Users\\An_to\\anaconda3\\lib\\site-packages\\sklearn\\base.py:1474: DataConversionWarning: A column-vector y was passed when a 1d array was expected. Please change the shape of y to (n_samples,), for example using ravel().\n",
      "  return fit_method(estimator, *args, **kwargs)\n",
      "C:\\Users\\An_to\\anaconda3\\lib\\site-packages\\sklearn\\base.py:1474: DataConversionWarning: A column-vector y was passed when a 1d array was expected. Please change the shape of y to (n_samples,), for example using ravel().\n",
      "  return fit_method(estimator, *args, **kwargs)\n",
      "C:\\Users\\An_to\\anaconda3\\lib\\site-packages\\sklearn\\base.py:1474: DataConversionWarning: A column-vector y was passed when a 1d array was expected. Please change the shape of y to (n_samples,), for example using ravel().\n",
      "  return fit_method(estimator, *args, **kwargs)\n",
      "C:\\Users\\An_to\\anaconda3\\lib\\site-packages\\sklearn\\base.py:1474: DataConversionWarning: A column-vector y was passed when a 1d array was expected. Please change the shape of y to (n_samples,), for example using ravel().\n",
      "  return fit_method(estimator, *args, **kwargs)\n",
      "C:\\Users\\An_to\\anaconda3\\lib\\site-packages\\sklearn\\base.py:1474: DataConversionWarning: A column-vector y was passed when a 1d array was expected. Please change the shape of y to (n_samples,), for example using ravel().\n",
      "  return fit_method(estimator, *args, **kwargs)\n",
      "C:\\Users\\An_to\\anaconda3\\lib\\site-packages\\sklearn\\base.py:1474: DataConversionWarning: A column-vector y was passed when a 1d array was expected. Please change the shape of y to (n_samples,), for example using ravel().\n",
      "  return fit_method(estimator, *args, **kwargs)\n",
      "C:\\Users\\An_to\\anaconda3\\lib\\site-packages\\sklearn\\base.py:1474: DataConversionWarning: A column-vector y was passed when a 1d array was expected. Please change the shape of y to (n_samples,), for example using ravel().\n",
      "  return fit_method(estimator, *args, **kwargs)\n",
      "C:\\Users\\An_to\\anaconda3\\lib\\site-packages\\sklearn\\base.py:1474: DataConversionWarning: A column-vector y was passed when a 1d array was expected. Please change the shape of y to (n_samples,), for example using ravel().\n",
      "  return fit_method(estimator, *args, **kwargs)\n",
      "C:\\Users\\An_to\\anaconda3\\lib\\site-packages\\sklearn\\base.py:1474: DataConversionWarning: A column-vector y was passed when a 1d array was expected. Please change the shape of y to (n_samples,), for example using ravel().\n",
      "  return fit_method(estimator, *args, **kwargs)\n",
      "C:\\Users\\An_to\\anaconda3\\lib\\site-packages\\sklearn\\base.py:1474: DataConversionWarning: A column-vector y was passed when a 1d array was expected. Please change the shape of y to (n_samples,), for example using ravel().\n",
      "  return fit_method(estimator, *args, **kwargs)\n",
      "C:\\Users\\An_to\\anaconda3\\lib\\site-packages\\sklearn\\base.py:1474: DataConversionWarning: A column-vector y was passed when a 1d array was expected. Please change the shape of y to (n_samples,), for example using ravel().\n",
      "  return fit_method(estimator, *args, **kwargs)\n",
      "C:\\Users\\An_to\\anaconda3\\lib\\site-packages\\sklearn\\base.py:1474: DataConversionWarning: A column-vector y was passed when a 1d array was expected. Please change the shape of y to (n_samples,), for example using ravel().\n",
      "  return fit_method(estimator, *args, **kwargs)\n",
      "C:\\Users\\An_to\\anaconda3\\lib\\site-packages\\sklearn\\base.py:1474: DataConversionWarning: A column-vector y was passed when a 1d array was expected. Please change the shape of y to (n_samples,), for example using ravel().\n",
      "  return fit_method(estimator, *args, **kwargs)\n",
      "C:\\Users\\An_to\\anaconda3\\lib\\site-packages\\sklearn\\base.py:1474: DataConversionWarning: A column-vector y was passed when a 1d array was expected. Please change the shape of y to (n_samples,), for example using ravel().\n",
      "  return fit_method(estimator, *args, **kwargs)\n",
      "C:\\Users\\An_to\\anaconda3\\lib\\site-packages\\sklearn\\base.py:1474: DataConversionWarning: A column-vector y was passed when a 1d array was expected. Please change the shape of y to (n_samples,), for example using ravel().\n",
      "  return fit_method(estimator, *args, **kwargs)\n",
      "C:\\Users\\An_to\\anaconda3\\lib\\site-packages\\sklearn\\base.py:1474: DataConversionWarning: A column-vector y was passed when a 1d array was expected. Please change the shape of y to (n_samples,), for example using ravel().\n",
      "  return fit_method(estimator, *args, **kwargs)\n",
      "C:\\Users\\An_to\\anaconda3\\lib\\site-packages\\sklearn\\base.py:1474: DataConversionWarning: A column-vector y was passed when a 1d array was expected. Please change the shape of y to (n_samples,), for example using ravel().\n",
      "  return fit_method(estimator, *args, **kwargs)\n",
      "C:\\Users\\An_to\\anaconda3\\lib\\site-packages\\sklearn\\base.py:1474: DataConversionWarning: A column-vector y was passed when a 1d array was expected. Please change the shape of y to (n_samples,), for example using ravel().\n",
      "  return fit_method(estimator, *args, **kwargs)\n",
      "C:\\Users\\An_to\\anaconda3\\lib\\site-packages\\sklearn\\base.py:1474: DataConversionWarning: A column-vector y was passed when a 1d array was expected. Please change the shape of y to (n_samples,), for example using ravel().\n",
      "  return fit_method(estimator, *args, **kwargs)\n",
      "C:\\Users\\An_to\\anaconda3\\lib\\site-packages\\sklearn\\base.py:1474: DataConversionWarning: A column-vector y was passed when a 1d array was expected. Please change the shape of y to (n_samples,), for example using ravel().\n",
      "  return fit_method(estimator, *args, **kwargs)\n"
     ]
    },
    {
     "data": {
      "text/html": [
       "<style>#sk-container-id-1 {\n",
       "  /* Definition of color scheme common for light and dark mode */\n",
       "  --sklearn-color-text: black;\n",
       "  --sklearn-color-line: gray;\n",
       "  /* Definition of color scheme for unfitted estimators */\n",
       "  --sklearn-color-unfitted-level-0: #fff5e6;\n",
       "  --sklearn-color-unfitted-level-1: #f6e4d2;\n",
       "  --sklearn-color-unfitted-level-2: #ffe0b3;\n",
       "  --sklearn-color-unfitted-level-3: chocolate;\n",
       "  /* Definition of color scheme for fitted estimators */\n",
       "  --sklearn-color-fitted-level-0: #f0f8ff;\n",
       "  --sklearn-color-fitted-level-1: #d4ebff;\n",
       "  --sklearn-color-fitted-level-2: #b3dbfd;\n",
       "  --sklearn-color-fitted-level-3: cornflowerblue;\n",
       "\n",
       "  /* Specific color for light theme */\n",
       "  --sklearn-color-text-on-default-background: var(--sg-text-color, var(--theme-code-foreground, var(--jp-content-font-color1, black)));\n",
       "  --sklearn-color-background: var(--sg-background-color, var(--theme-background, var(--jp-layout-color0, white)));\n",
       "  --sklearn-color-border-box: var(--sg-text-color, var(--theme-code-foreground, var(--jp-content-font-color1, black)));\n",
       "  --sklearn-color-icon: #696969;\n",
       "\n",
       "  @media (prefers-color-scheme: dark) {\n",
       "    /* Redefinition of color scheme for dark theme */\n",
       "    --sklearn-color-text-on-default-background: var(--sg-text-color, var(--theme-code-foreground, var(--jp-content-font-color1, white)));\n",
       "    --sklearn-color-background: var(--sg-background-color, var(--theme-background, var(--jp-layout-color0, #111)));\n",
       "    --sklearn-color-border-box: var(--sg-text-color, var(--theme-code-foreground, var(--jp-content-font-color1, white)));\n",
       "    --sklearn-color-icon: #878787;\n",
       "  }\n",
       "}\n",
       "\n",
       "#sk-container-id-1 {\n",
       "  color: var(--sklearn-color-text);\n",
       "}\n",
       "\n",
       "#sk-container-id-1 pre {\n",
       "  padding: 0;\n",
       "}\n",
       "\n",
       "#sk-container-id-1 input.sk-hidden--visually {\n",
       "  border: 0;\n",
       "  clip: rect(1px 1px 1px 1px);\n",
       "  clip: rect(1px, 1px, 1px, 1px);\n",
       "  height: 1px;\n",
       "  margin: -1px;\n",
       "  overflow: hidden;\n",
       "  padding: 0;\n",
       "  position: absolute;\n",
       "  width: 1px;\n",
       "}\n",
       "\n",
       "#sk-container-id-1 div.sk-dashed-wrapped {\n",
       "  border: 1px dashed var(--sklearn-color-line);\n",
       "  margin: 0 0.4em 0.5em 0.4em;\n",
       "  box-sizing: border-box;\n",
       "  padding-bottom: 0.4em;\n",
       "  background-color: var(--sklearn-color-background);\n",
       "}\n",
       "\n",
       "#sk-container-id-1 div.sk-container {\n",
       "  /* jupyter's `normalize.less` sets `[hidden] { display: none; }`\n",
       "     but bootstrap.min.css set `[hidden] { display: none !important; }`\n",
       "     so we also need the `!important` here to be able to override the\n",
       "     default hidden behavior on the sphinx rendered scikit-learn.org.\n",
       "     See: https://github.com/scikit-learn/scikit-learn/issues/21755 */\n",
       "  display: inline-block !important;\n",
       "  position: relative;\n",
       "}\n",
       "\n",
       "#sk-container-id-1 div.sk-text-repr-fallback {\n",
       "  display: none;\n",
       "}\n",
       "\n",
       "div.sk-parallel-item,\n",
       "div.sk-serial,\n",
       "div.sk-item {\n",
       "  /* draw centered vertical line to link estimators */\n",
       "  background-image: linear-gradient(var(--sklearn-color-text-on-default-background), var(--sklearn-color-text-on-default-background));\n",
       "  background-size: 2px 100%;\n",
       "  background-repeat: no-repeat;\n",
       "  background-position: center center;\n",
       "}\n",
       "\n",
       "/* Parallel-specific style estimator block */\n",
       "\n",
       "#sk-container-id-1 div.sk-parallel-item::after {\n",
       "  content: \"\";\n",
       "  width: 100%;\n",
       "  border-bottom: 2px solid var(--sklearn-color-text-on-default-background);\n",
       "  flex-grow: 1;\n",
       "}\n",
       "\n",
       "#sk-container-id-1 div.sk-parallel {\n",
       "  display: flex;\n",
       "  align-items: stretch;\n",
       "  justify-content: center;\n",
       "  background-color: var(--sklearn-color-background);\n",
       "  position: relative;\n",
       "}\n",
       "\n",
       "#sk-container-id-1 div.sk-parallel-item {\n",
       "  display: flex;\n",
       "  flex-direction: column;\n",
       "}\n",
       "\n",
       "#sk-container-id-1 div.sk-parallel-item:first-child::after {\n",
       "  align-self: flex-end;\n",
       "  width: 50%;\n",
       "}\n",
       "\n",
       "#sk-container-id-1 div.sk-parallel-item:last-child::after {\n",
       "  align-self: flex-start;\n",
       "  width: 50%;\n",
       "}\n",
       "\n",
       "#sk-container-id-1 div.sk-parallel-item:only-child::after {\n",
       "  width: 0;\n",
       "}\n",
       "\n",
       "/* Serial-specific style estimator block */\n",
       "\n",
       "#sk-container-id-1 div.sk-serial {\n",
       "  display: flex;\n",
       "  flex-direction: column;\n",
       "  align-items: center;\n",
       "  background-color: var(--sklearn-color-background);\n",
       "  padding-right: 1em;\n",
       "  padding-left: 1em;\n",
       "}\n",
       "\n",
       "\n",
       "/* Toggleable style: style used for estimator/Pipeline/ColumnTransformer box that is\n",
       "clickable and can be expanded/collapsed.\n",
       "- Pipeline and ColumnTransformer use this feature and define the default style\n",
       "- Estimators will overwrite some part of the style using the `sk-estimator` class\n",
       "*/\n",
       "\n",
       "/* Pipeline and ColumnTransformer style (default) */\n",
       "\n",
       "#sk-container-id-1 div.sk-toggleable {\n",
       "  /* Default theme specific background. It is overwritten whether we have a\n",
       "  specific estimator or a Pipeline/ColumnTransformer */\n",
       "  background-color: var(--sklearn-color-background);\n",
       "}\n",
       "\n",
       "/* Toggleable label */\n",
       "#sk-container-id-1 label.sk-toggleable__label {\n",
       "  cursor: pointer;\n",
       "  display: block;\n",
       "  width: 100%;\n",
       "  margin-bottom: 0;\n",
       "  padding: 0.5em;\n",
       "  box-sizing: border-box;\n",
       "  text-align: center;\n",
       "}\n",
       "\n",
       "#sk-container-id-1 label.sk-toggleable__label-arrow:before {\n",
       "  /* Arrow on the left of the label */\n",
       "  content: \"▸\";\n",
       "  float: left;\n",
       "  margin-right: 0.25em;\n",
       "  color: var(--sklearn-color-icon);\n",
       "}\n",
       "\n",
       "#sk-container-id-1 label.sk-toggleable__label-arrow:hover:before {\n",
       "  color: var(--sklearn-color-text);\n",
       "}\n",
       "\n",
       "/* Toggleable content - dropdown */\n",
       "\n",
       "#sk-container-id-1 div.sk-toggleable__content {\n",
       "  max-height: 0;\n",
       "  max-width: 0;\n",
       "  overflow: hidden;\n",
       "  text-align: left;\n",
       "  /* unfitted */\n",
       "  background-color: var(--sklearn-color-unfitted-level-0);\n",
       "}\n",
       "\n",
       "#sk-container-id-1 div.sk-toggleable__content.fitted {\n",
       "  /* fitted */\n",
       "  background-color: var(--sklearn-color-fitted-level-0);\n",
       "}\n",
       "\n",
       "#sk-container-id-1 div.sk-toggleable__content pre {\n",
       "  margin: 0.2em;\n",
       "  border-radius: 0.25em;\n",
       "  color: var(--sklearn-color-text);\n",
       "  /* unfitted */\n",
       "  background-color: var(--sklearn-color-unfitted-level-0);\n",
       "}\n",
       "\n",
       "#sk-container-id-1 div.sk-toggleable__content.fitted pre {\n",
       "  /* unfitted */\n",
       "  background-color: var(--sklearn-color-fitted-level-0);\n",
       "}\n",
       "\n",
       "#sk-container-id-1 input.sk-toggleable__control:checked~div.sk-toggleable__content {\n",
       "  /* Expand drop-down */\n",
       "  max-height: 200px;\n",
       "  max-width: 100%;\n",
       "  overflow: auto;\n",
       "}\n",
       "\n",
       "#sk-container-id-1 input.sk-toggleable__control:checked~label.sk-toggleable__label-arrow:before {\n",
       "  content: \"▾\";\n",
       "}\n",
       "\n",
       "/* Pipeline/ColumnTransformer-specific style */\n",
       "\n",
       "#sk-container-id-1 div.sk-label input.sk-toggleable__control:checked~label.sk-toggleable__label {\n",
       "  color: var(--sklearn-color-text);\n",
       "  background-color: var(--sklearn-color-unfitted-level-2);\n",
       "}\n",
       "\n",
       "#sk-container-id-1 div.sk-label.fitted input.sk-toggleable__control:checked~label.sk-toggleable__label {\n",
       "  background-color: var(--sklearn-color-fitted-level-2);\n",
       "}\n",
       "\n",
       "/* Estimator-specific style */\n",
       "\n",
       "/* Colorize estimator box */\n",
       "#sk-container-id-1 div.sk-estimator input.sk-toggleable__control:checked~label.sk-toggleable__label {\n",
       "  /* unfitted */\n",
       "  background-color: var(--sklearn-color-unfitted-level-2);\n",
       "}\n",
       "\n",
       "#sk-container-id-1 div.sk-estimator.fitted input.sk-toggleable__control:checked~label.sk-toggleable__label {\n",
       "  /* fitted */\n",
       "  background-color: var(--sklearn-color-fitted-level-2);\n",
       "}\n",
       "\n",
       "#sk-container-id-1 div.sk-label label.sk-toggleable__label,\n",
       "#sk-container-id-1 div.sk-label label {\n",
       "  /* The background is the default theme color */\n",
       "  color: var(--sklearn-color-text-on-default-background);\n",
       "}\n",
       "\n",
       "/* On hover, darken the color of the background */\n",
       "#sk-container-id-1 div.sk-label:hover label.sk-toggleable__label {\n",
       "  color: var(--sklearn-color-text);\n",
       "  background-color: var(--sklearn-color-unfitted-level-2);\n",
       "}\n",
       "\n",
       "/* Label box, darken color on hover, fitted */\n",
       "#sk-container-id-1 div.sk-label.fitted:hover label.sk-toggleable__label.fitted {\n",
       "  color: var(--sklearn-color-text);\n",
       "  background-color: var(--sklearn-color-fitted-level-2);\n",
       "}\n",
       "\n",
       "/* Estimator label */\n",
       "\n",
       "#sk-container-id-1 div.sk-label label {\n",
       "  font-family: monospace;\n",
       "  font-weight: bold;\n",
       "  display: inline-block;\n",
       "  line-height: 1.2em;\n",
       "}\n",
       "\n",
       "#sk-container-id-1 div.sk-label-container {\n",
       "  text-align: center;\n",
       "}\n",
       "\n",
       "/* Estimator-specific */\n",
       "#sk-container-id-1 div.sk-estimator {\n",
       "  font-family: monospace;\n",
       "  border: 1px dotted var(--sklearn-color-border-box);\n",
       "  border-radius: 0.25em;\n",
       "  box-sizing: border-box;\n",
       "  margin-bottom: 0.5em;\n",
       "  /* unfitted */\n",
       "  background-color: var(--sklearn-color-unfitted-level-0);\n",
       "}\n",
       "\n",
       "#sk-container-id-1 div.sk-estimator.fitted {\n",
       "  /* fitted */\n",
       "  background-color: var(--sklearn-color-fitted-level-0);\n",
       "}\n",
       "\n",
       "/* on hover */\n",
       "#sk-container-id-1 div.sk-estimator:hover {\n",
       "  /* unfitted */\n",
       "  background-color: var(--sklearn-color-unfitted-level-2);\n",
       "}\n",
       "\n",
       "#sk-container-id-1 div.sk-estimator.fitted:hover {\n",
       "  /* fitted */\n",
       "  background-color: var(--sklearn-color-fitted-level-2);\n",
       "}\n",
       "\n",
       "/* Specification for estimator info (e.g. \"i\" and \"?\") */\n",
       "\n",
       "/* Common style for \"i\" and \"?\" */\n",
       "\n",
       ".sk-estimator-doc-link,\n",
       "a:link.sk-estimator-doc-link,\n",
       "a:visited.sk-estimator-doc-link {\n",
       "  float: right;\n",
       "  font-size: smaller;\n",
       "  line-height: 1em;\n",
       "  font-family: monospace;\n",
       "  background-color: var(--sklearn-color-background);\n",
       "  border-radius: 1em;\n",
       "  height: 1em;\n",
       "  width: 1em;\n",
       "  text-decoration: none !important;\n",
       "  margin-left: 1ex;\n",
       "  /* unfitted */\n",
       "  border: var(--sklearn-color-unfitted-level-1) 1pt solid;\n",
       "  color: var(--sklearn-color-unfitted-level-1);\n",
       "}\n",
       "\n",
       ".sk-estimator-doc-link.fitted,\n",
       "a:link.sk-estimator-doc-link.fitted,\n",
       "a:visited.sk-estimator-doc-link.fitted {\n",
       "  /* fitted */\n",
       "  border: var(--sklearn-color-fitted-level-1) 1pt solid;\n",
       "  color: var(--sklearn-color-fitted-level-1);\n",
       "}\n",
       "\n",
       "/* On hover */\n",
       "div.sk-estimator:hover .sk-estimator-doc-link:hover,\n",
       ".sk-estimator-doc-link:hover,\n",
       "div.sk-label-container:hover .sk-estimator-doc-link:hover,\n",
       ".sk-estimator-doc-link:hover {\n",
       "  /* unfitted */\n",
       "  background-color: var(--sklearn-color-unfitted-level-3);\n",
       "  color: var(--sklearn-color-background);\n",
       "  text-decoration: none;\n",
       "}\n",
       "\n",
       "div.sk-estimator.fitted:hover .sk-estimator-doc-link.fitted:hover,\n",
       ".sk-estimator-doc-link.fitted:hover,\n",
       "div.sk-label-container:hover .sk-estimator-doc-link.fitted:hover,\n",
       ".sk-estimator-doc-link.fitted:hover {\n",
       "  /* fitted */\n",
       "  background-color: var(--sklearn-color-fitted-level-3);\n",
       "  color: var(--sklearn-color-background);\n",
       "  text-decoration: none;\n",
       "}\n",
       "\n",
       "/* Span, style for the box shown on hovering the info icon */\n",
       ".sk-estimator-doc-link span {\n",
       "  display: none;\n",
       "  z-index: 9999;\n",
       "  position: relative;\n",
       "  font-weight: normal;\n",
       "  right: .2ex;\n",
       "  padding: .5ex;\n",
       "  margin: .5ex;\n",
       "  width: min-content;\n",
       "  min-width: 20ex;\n",
       "  max-width: 50ex;\n",
       "  color: var(--sklearn-color-text);\n",
       "  box-shadow: 2pt 2pt 4pt #999;\n",
       "  /* unfitted */\n",
       "  background: var(--sklearn-color-unfitted-level-0);\n",
       "  border: .5pt solid var(--sklearn-color-unfitted-level-3);\n",
       "}\n",
       "\n",
       ".sk-estimator-doc-link.fitted span {\n",
       "  /* fitted */\n",
       "  background: var(--sklearn-color-fitted-level-0);\n",
       "  border: var(--sklearn-color-fitted-level-3);\n",
       "}\n",
       "\n",
       ".sk-estimator-doc-link:hover span {\n",
       "  display: block;\n",
       "}\n",
       "\n",
       "/* \"?\"-specific style due to the `<a>` HTML tag */\n",
       "\n",
       "#sk-container-id-1 a.estimator_doc_link {\n",
       "  float: right;\n",
       "  font-size: 1rem;\n",
       "  line-height: 1em;\n",
       "  font-family: monospace;\n",
       "  background-color: var(--sklearn-color-background);\n",
       "  border-radius: 1rem;\n",
       "  height: 1rem;\n",
       "  width: 1rem;\n",
       "  text-decoration: none;\n",
       "  /* unfitted */\n",
       "  color: var(--sklearn-color-unfitted-level-1);\n",
       "  border: var(--sklearn-color-unfitted-level-1) 1pt solid;\n",
       "}\n",
       "\n",
       "#sk-container-id-1 a.estimator_doc_link.fitted {\n",
       "  /* fitted */\n",
       "  border: var(--sklearn-color-fitted-level-1) 1pt solid;\n",
       "  color: var(--sklearn-color-fitted-level-1);\n",
       "}\n",
       "\n",
       "/* On hover */\n",
       "#sk-container-id-1 a.estimator_doc_link:hover {\n",
       "  /* unfitted */\n",
       "  background-color: var(--sklearn-color-unfitted-level-3);\n",
       "  color: var(--sklearn-color-background);\n",
       "  text-decoration: none;\n",
       "}\n",
       "\n",
       "#sk-container-id-1 a.estimator_doc_link.fitted:hover {\n",
       "  /* fitted */\n",
       "  background-color: var(--sklearn-color-fitted-level-3);\n",
       "}\n",
       "</style><div id=\"sk-container-id-1\" class=\"sk-top-container\"><div class=\"sk-text-repr-fallback\"><pre>GridSearchCV(cv=5, estimator=RandomForestRegressor(),\n",
       "             param_grid={&#x27;max_depth&#x27;: [2, 5, 7, 10],\n",
       "                         &#x27;n_estimators&#x27;: [10, 20, 30]})</pre><b>In a Jupyter environment, please rerun this cell to show the HTML representation or trust the notebook. <br />On GitHub, the HTML representation is unable to render, please try loading this page with nbviewer.org.</b></div><div class=\"sk-container\" hidden><div class=\"sk-item sk-dashed-wrapped\"><div class=\"sk-label-container\"><div class=\"sk-label fitted sk-toggleable\"><input class=\"sk-toggleable__control sk-hidden--visually\" id=\"sk-estimator-id-1\" type=\"checkbox\" ><label for=\"sk-estimator-id-1\" class=\"sk-toggleable__label fitted sk-toggleable__label-arrow fitted\">&nbsp;&nbsp;GridSearchCV<a class=\"sk-estimator-doc-link fitted\" rel=\"noreferrer\" target=\"_blank\" href=\"https://scikit-learn.org/1.4/modules/generated/sklearn.model_selection.GridSearchCV.html\">?<span>Documentation for GridSearchCV</span></a><span class=\"sk-estimator-doc-link fitted\">i<span>Fitted</span></span></label><div class=\"sk-toggleable__content fitted\"><pre>GridSearchCV(cv=5, estimator=RandomForestRegressor(),\n",
       "             param_grid={&#x27;max_depth&#x27;: [2, 5, 7, 10],\n",
       "                         &#x27;n_estimators&#x27;: [10, 20, 30]})</pre></div> </div></div><div class=\"sk-parallel\"><div class=\"sk-parallel-item\"><div class=\"sk-item\"><div class=\"sk-label-container\"><div class=\"sk-label fitted sk-toggleable\"><input class=\"sk-toggleable__control sk-hidden--visually\" id=\"sk-estimator-id-2\" type=\"checkbox\" ><label for=\"sk-estimator-id-2\" class=\"sk-toggleable__label fitted sk-toggleable__label-arrow fitted\">estimator: RandomForestRegressor</label><div class=\"sk-toggleable__content fitted\"><pre>RandomForestRegressor()</pre></div> </div></div><div class=\"sk-serial\"><div class=\"sk-item\"><div class=\"sk-estimator fitted sk-toggleable\"><input class=\"sk-toggleable__control sk-hidden--visually\" id=\"sk-estimator-id-3\" type=\"checkbox\" ><label for=\"sk-estimator-id-3\" class=\"sk-toggleable__label fitted sk-toggleable__label-arrow fitted\">&nbsp;RandomForestRegressor<a class=\"sk-estimator-doc-link fitted\" rel=\"noreferrer\" target=\"_blank\" href=\"https://scikit-learn.org/1.4/modules/generated/sklearn.ensemble.RandomForestRegressor.html\">?<span>Documentation for RandomForestRegressor</span></a></label><div class=\"sk-toggleable__content fitted\"><pre>RandomForestRegressor()</pre></div> </div></div></div></div></div></div></div></div></div>"
      ],
      "text/plain": [
       "GridSearchCV(cv=5, estimator=RandomForestRegressor(),\n",
       "             param_grid={'max_depth': [2, 5, 7, 10],\n",
       "                         'n_estimators': [10, 20, 30]})"
      ]
     },
     "execution_count": 370,
     "metadata": {},
     "output_type": "execute_result"
    }
   ],
   "source": [
    "grid_search_cv_clf.fit(train_X, train_y)"
   ]
  },
  {
   "cell_type": "code",
   "execution_count": 371,
   "id": "201556ba",
   "metadata": {},
   "outputs": [],
   "source": [
    "best_clf = grid_search_cv_clf.best_estimator_"
   ]
  },
  {
   "cell_type": "code",
   "execution_count": 372,
   "id": "44b40849",
   "metadata": {},
   "outputs": [
    {
     "data": {
      "text/plain": [
       "0.82269511470657"
      ]
     },
     "execution_count": 372,
     "metadata": {},
     "output_type": "execute_result"
    }
   ],
   "source": [
    "best_clf.score(test_X, test_y)"
   ]
  },
  {
   "cell_type": "code",
   "execution_count": 373,
   "id": "f37151c1",
   "metadata": {},
   "outputs": [
    {
     "name": "stdout",
     "output_type": "stream",
     "text": [
      "R2: 0.82269511470657\n",
      "MSE: 72243.2184603152\n"
     ]
    }
   ],
   "source": [
    "predictions = best_clf.predict(test_X)\n",
    "\n",
    "print(f'R2: {r2_score(test_y, predictions)}')\n",
    "print(f'MSE: {mean_squared_error(test_y, predictions)}')"
   ]
  },
  {
   "cell_type": "markdown",
   "id": "5fdc0199",
   "metadata": {},
   "source": [
    "Данный метод оказался самым лучшим из всех использованных. При нем получается самый высокий коэффициент детерминации <b>0,82</b> и самая маленькая средняя квадратическая ошибка <b>72243,22</b>"
   ]
  },
  {
   "cell_type": "markdown",
   "id": "4859b5b5",
   "metadata": {},
   "source": [
    "Таким образом, были использованы разные методы построения линейной регрессии. При использовании обычной линейной регресси наилучший результат был получен при отчистике данных от выбросов и применении метода главных компонент.Результат еще лучше получился при построении регрессии RIdge на отчищенных от выбросов данных. Наилучший прогноз дал метод случайного дерева, так как данный метод явялется более мощным по сравнению с другими методами."
   ]
  }
 ],
 "metadata": {
  "kernelspec": {
   "display_name": "Python 3 (ipykernel)",
   "language": "python",
   "name": "python3"
  },
  "language_info": {
   "codemirror_mode": {
    "name": "ipython",
    "version": 3
   },
   "file_extension": ".py",
   "mimetype": "text/x-python",
   "name": "python",
   "nbconvert_exporter": "python",
   "pygments_lexer": "ipython3",
   "version": "3.9.13"
  }
 },
 "nbformat": 4,
 "nbformat_minor": 5
}
