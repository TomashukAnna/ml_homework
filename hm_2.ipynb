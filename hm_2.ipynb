{
 "cells": [
  {
   "cell_type": "code",
   "execution_count": 1,
   "id": "d6f21652-af89-4349-8aea-ef11a02e3bf0",
   "metadata": {
    "id": "d6f21652-af89-4349-8aea-ef11a02e3bf0"
   },
   "outputs": [],
   "source": [
    "import numpy as np\n",
    "import pandas as pd\n",
    "import matplotlib.pyplot as plt\n",
    "import seaborn as sns\n",
    "\n",
    "%matplotlib inline"
   ]
  },
  {
   "cell_type": "markdown",
   "id": "8d76a186-b98e-42d6-b25d-ba8a4695d61d",
   "metadata": {
    "id": "8d76a186-b98e-42d6-b25d-ba8a4695d61d"
   },
   "source": [
    "# Удаление дубликатов в данных"
   ]
  },
  {
   "cell_type": "code",
   "execution_count": 144,
   "id": "98d48bd8-57a1-4930-b5c1-8d332d471f64",
   "metadata": {
    "id": "98d48bd8-57a1-4930-b5c1-8d332d471f64",
    "outputId": "dcd7f65d-f181-4e08-ffc6-603a2d634583"
   },
   "outputs": [
    {
     "data": {
      "text/html": [
       "<div>\n",
       "<style scoped>\n",
       "    .dataframe tbody tr th:only-of-type {\n",
       "        vertical-align: middle;\n",
       "    }\n",
       "\n",
       "    .dataframe tbody tr th {\n",
       "        vertical-align: top;\n",
       "    }\n",
       "\n",
       "    .dataframe thead th {\n",
       "        text-align: right;\n",
       "    }\n",
       "</style>\n",
       "<table border=\"1\" class=\"dataframe\">\n",
       "  <thead>\n",
       "    <tr style=\"text-align: right;\">\n",
       "      <th></th>\n",
       "      <th>k1</th>\n",
       "      <th>k2</th>\n",
       "      <th>k3</th>\n",
       "      <th>k4</th>\n",
       "    </tr>\n",
       "  </thead>\n",
       "  <tbody>\n",
       "    <tr>\n",
       "      <th>0</th>\n",
       "      <td>one</td>\n",
       "      <td>1</td>\n",
       "      <td>1</td>\n",
       "      <td>1</td>\n",
       "    </tr>\n",
       "    <tr>\n",
       "      <th>1</th>\n",
       "      <td>two</td>\n",
       "      <td>1</td>\n",
       "      <td>1</td>\n",
       "      <td>1</td>\n",
       "    </tr>\n",
       "    <tr>\n",
       "      <th>2</th>\n",
       "      <td>one</td>\n",
       "      <td>2</td>\n",
       "      <td>2</td>\n",
       "      <td>1</td>\n",
       "    </tr>\n",
       "    <tr>\n",
       "      <th>3</th>\n",
       "      <td>two</td>\n",
       "      <td>3</td>\n",
       "      <td>3</td>\n",
       "      <td>1</td>\n",
       "    </tr>\n",
       "    <tr>\n",
       "      <th>4</th>\n",
       "      <td>one</td>\n",
       "      <td>3</td>\n",
       "      <td>3</td>\n",
       "      <td>1</td>\n",
       "    </tr>\n",
       "    <tr>\n",
       "      <th>5</th>\n",
       "      <td>two</td>\n",
       "      <td>4</td>\n",
       "      <td>4</td>\n",
       "      <td>1</td>\n",
       "    </tr>\n",
       "    <tr>\n",
       "      <th>6</th>\n",
       "      <td>two</td>\n",
       "      <td>4</td>\n",
       "      <td>4</td>\n",
       "      <td>1</td>\n",
       "    </tr>\n",
       "  </tbody>\n",
       "</table>\n",
       "</div>"
      ],
      "text/plain": [
       "    k1  k2  k3  k4\n",
       "0  one   1   1   1\n",
       "1  two   1   1   1\n",
       "2  one   2   2   1\n",
       "3  two   3   3   1\n",
       "4  one   3   3   1\n",
       "5  two   4   4   1\n",
       "6  two   4   4   1"
      ]
     },
     "execution_count": 144,
     "metadata": {},
     "output_type": "execute_result"
    }
   ],
   "source": [
    "data = pd.DataFrame({\"k1\": [\"one\", \"two\"] * 3 + [\"two\"], \"k2\": [1, 1, 2, 3, 3, 4, 4],\n",
    "                     \"k3\": [1, 1, 2, 3, 3, 4, 4], \"k4\":[1, 1, 1, 1, 1, 1, 1]})\n",
    "data"
   ]
  },
  {
   "cell_type": "code",
   "execution_count": 145,
   "id": "bb74a899-e100-4b5b-8739-d4d3588d8b26",
   "metadata": {
    "id": "bb74a899-e100-4b5b-8739-d4d3588d8b26",
    "outputId": "f4ce64d1-818e-48ed-c7e3-dad06e1e78c7"
   },
   "outputs": [
    {
     "data": {
      "text/plain": [
       "0    False\n",
       "1    False\n",
       "2    False\n",
       "3    False\n",
       "4    False\n",
       "5    False\n",
       "6     True\n",
       "dtype: bool"
      ]
     },
     "execution_count": 145,
     "metadata": {},
     "output_type": "execute_result"
    }
   ],
   "source": [
    "data.duplicated()"
   ]
  },
  {
   "cell_type": "code",
   "execution_count": 146,
   "id": "cef50624-aac3-4f64-b835-e47931da670e",
   "metadata": {
    "id": "cef50624-aac3-4f64-b835-e47931da670e",
    "outputId": "ab3dd197-9498-47ed-ca3b-f00ac0a5e0e2"
   },
   "outputs": [
    {
     "data": {
      "text/html": [
       "<div>\n",
       "<style scoped>\n",
       "    .dataframe tbody tr th:only-of-type {\n",
       "        vertical-align: middle;\n",
       "    }\n",
       "\n",
       "    .dataframe tbody tr th {\n",
       "        vertical-align: top;\n",
       "    }\n",
       "\n",
       "    .dataframe thead th {\n",
       "        text-align: right;\n",
       "    }\n",
       "</style>\n",
       "<table border=\"1\" class=\"dataframe\">\n",
       "  <thead>\n",
       "    <tr style=\"text-align: right;\">\n",
       "      <th></th>\n",
       "      <th>k1</th>\n",
       "      <th>k2</th>\n",
       "      <th>k3</th>\n",
       "      <th>k4</th>\n",
       "    </tr>\n",
       "  </thead>\n",
       "  <tbody>\n",
       "    <tr>\n",
       "      <th>0</th>\n",
       "      <td>one</td>\n",
       "      <td>1</td>\n",
       "      <td>1</td>\n",
       "      <td>1</td>\n",
       "    </tr>\n",
       "    <tr>\n",
       "      <th>1</th>\n",
       "      <td>two</td>\n",
       "      <td>1</td>\n",
       "      <td>1</td>\n",
       "      <td>1</td>\n",
       "    </tr>\n",
       "    <tr>\n",
       "      <th>2</th>\n",
       "      <td>one</td>\n",
       "      <td>2</td>\n",
       "      <td>2</td>\n",
       "      <td>1</td>\n",
       "    </tr>\n",
       "    <tr>\n",
       "      <th>3</th>\n",
       "      <td>two</td>\n",
       "      <td>3</td>\n",
       "      <td>3</td>\n",
       "      <td>1</td>\n",
       "    </tr>\n",
       "    <tr>\n",
       "      <th>4</th>\n",
       "      <td>one</td>\n",
       "      <td>3</td>\n",
       "      <td>3</td>\n",
       "      <td>1</td>\n",
       "    </tr>\n",
       "    <tr>\n",
       "      <th>5</th>\n",
       "      <td>two</td>\n",
       "      <td>4</td>\n",
       "      <td>4</td>\n",
       "      <td>1</td>\n",
       "    </tr>\n",
       "  </tbody>\n",
       "</table>\n",
       "</div>"
      ],
      "text/plain": [
       "    k1  k2  k3  k4\n",
       "0  one   1   1   1\n",
       "1  two   1   1   1\n",
       "2  one   2   2   1\n",
       "3  two   3   3   1\n",
       "4  one   3   3   1\n",
       "5  two   4   4   1"
      ]
     },
     "execution_count": 146,
     "metadata": {},
     "output_type": "execute_result"
    }
   ],
   "source": [
    "data.drop_duplicates()"
   ]
  },
  {
   "cell_type": "code",
   "execution_count": 147,
   "id": "00f18e5b-97d2-4728-8993-fb28590196a2",
   "metadata": {
    "id": "00f18e5b-97d2-4728-8993-fb28590196a2",
    "outputId": "1fef5085-5e95-46ba-a82e-fb4d18fe9395"
   },
   "outputs": [
    {
     "data": {
      "text/html": [
       "<div>\n",
       "<style scoped>\n",
       "    .dataframe tbody tr th:only-of-type {\n",
       "        vertical-align: middle;\n",
       "    }\n",
       "\n",
       "    .dataframe tbody tr th {\n",
       "        vertical-align: top;\n",
       "    }\n",
       "\n",
       "    .dataframe thead th {\n",
       "        text-align: right;\n",
       "    }\n",
       "</style>\n",
       "<table border=\"1\" class=\"dataframe\">\n",
       "  <thead>\n",
       "    <tr style=\"text-align: right;\">\n",
       "      <th></th>\n",
       "      <th>k1</th>\n",
       "      <th>k2</th>\n",
       "      <th>k4</th>\n",
       "    </tr>\n",
       "  </thead>\n",
       "  <tbody>\n",
       "    <tr>\n",
       "      <th>0</th>\n",
       "      <td>one</td>\n",
       "      <td>1</td>\n",
       "      <td>1</td>\n",
       "    </tr>\n",
       "    <tr>\n",
       "      <th>1</th>\n",
       "      <td>two</td>\n",
       "      <td>1</td>\n",
       "      <td>1</td>\n",
       "    </tr>\n",
       "    <tr>\n",
       "      <th>2</th>\n",
       "      <td>one</td>\n",
       "      <td>2</td>\n",
       "      <td>1</td>\n",
       "    </tr>\n",
       "    <tr>\n",
       "      <th>3</th>\n",
       "      <td>two</td>\n",
       "      <td>3</td>\n",
       "      <td>1</td>\n",
       "    </tr>\n",
       "    <tr>\n",
       "      <th>4</th>\n",
       "      <td>one</td>\n",
       "      <td>3</td>\n",
       "      <td>1</td>\n",
       "    </tr>\n",
       "    <tr>\n",
       "      <th>5</th>\n",
       "      <td>two</td>\n",
       "      <td>4</td>\n",
       "      <td>1</td>\n",
       "    </tr>\n",
       "    <tr>\n",
       "      <th>6</th>\n",
       "      <td>two</td>\n",
       "      <td>4</td>\n",
       "      <td>1</td>\n",
       "    </tr>\n",
       "  </tbody>\n",
       "</table>\n",
       "</div>"
      ],
      "text/plain": [
       "    k1 k2 k4\n",
       "0  one  1  1\n",
       "1  two  1  1\n",
       "2  one  2  1\n",
       "3  two  3  1\n",
       "4  one  3  1\n",
       "5  two  4  1\n",
       "6  two  4  1"
      ]
     },
     "execution_count": 147,
     "metadata": {},
     "output_type": "execute_result"
    }
   ],
   "source": [
    "data.T.drop_duplicates().T"
   ]
  },
  {
   "cell_type": "code",
   "execution_count": 148,
   "id": "82e65c60-6af0-4531-b097-c70fe60a8fae",
   "metadata": {
    "id": "82e65c60-6af0-4531-b097-c70fe60a8fae",
    "outputId": "34ef7eda-4f9f-4ce5-bb93-d4af5b5f728e"
   },
   "outputs": [
    {
     "data": {
      "text/html": [
       "<div>\n",
       "<style scoped>\n",
       "    .dataframe tbody tr th:only-of-type {\n",
       "        vertical-align: middle;\n",
       "    }\n",
       "\n",
       "    .dataframe tbody tr th {\n",
       "        vertical-align: top;\n",
       "    }\n",
       "\n",
       "    .dataframe thead th {\n",
       "        text-align: right;\n",
       "    }\n",
       "</style>\n",
       "<table border=\"1\" class=\"dataframe\">\n",
       "  <thead>\n",
       "    <tr style=\"text-align: right;\">\n",
       "      <th></th>\n",
       "      <th>k1</th>\n",
       "      <th>k2</th>\n",
       "      <th>k3</th>\n",
       "    </tr>\n",
       "  </thead>\n",
       "  <tbody>\n",
       "    <tr>\n",
       "      <th>0</th>\n",
       "      <td>one</td>\n",
       "      <td>1</td>\n",
       "      <td>1</td>\n",
       "    </tr>\n",
       "    <tr>\n",
       "      <th>1</th>\n",
       "      <td>two</td>\n",
       "      <td>1</td>\n",
       "      <td>1</td>\n",
       "    </tr>\n",
       "    <tr>\n",
       "      <th>2</th>\n",
       "      <td>one</td>\n",
       "      <td>2</td>\n",
       "      <td>2</td>\n",
       "    </tr>\n",
       "    <tr>\n",
       "      <th>3</th>\n",
       "      <td>two</td>\n",
       "      <td>3</td>\n",
       "      <td>3</td>\n",
       "    </tr>\n",
       "    <tr>\n",
       "      <th>4</th>\n",
       "      <td>one</td>\n",
       "      <td>3</td>\n",
       "      <td>3</td>\n",
       "    </tr>\n",
       "    <tr>\n",
       "      <th>5</th>\n",
       "      <td>two</td>\n",
       "      <td>4</td>\n",
       "      <td>4</td>\n",
       "    </tr>\n",
       "    <tr>\n",
       "      <th>6</th>\n",
       "      <td>two</td>\n",
       "      <td>4</td>\n",
       "      <td>4</td>\n",
       "    </tr>\n",
       "  </tbody>\n",
       "</table>\n",
       "</div>"
      ],
      "text/plain": [
       "    k1  k2  k3\n",
       "0  one   1   1\n",
       "1  two   1   1\n",
       "2  one   2   2\n",
       "3  two   3   3\n",
       "4  one   3   3\n",
       "5  two   4   4\n",
       "6  two   4   4"
      ]
     },
     "execution_count": 148,
     "metadata": {},
     "output_type": "execute_result"
    }
   ],
   "source": [
    "data.drop(data.columns[data.nunique() == 1], axis=1)"
   ]
  },
  {
   "cell_type": "markdown",
   "id": "f86cc3cf-80d7-4654-965a-19ab2a28c23a",
   "metadata": {
    "id": "f86cc3cf-80d7-4654-965a-19ab2a28c23a"
   },
   "source": [
    "# Заполнение пропусков в данных"
   ]
  },
  {
   "cell_type": "markdown",
   "id": "113ff682-faec-4756-9583-89508f76d3a1",
   "metadata": {
    "id": "113ff682-faec-4756-9583-89508f76d3a1"
   },
   "source": [
    "Nan - маркер отсутствия данных."
   ]
  },
  {
   "cell_type": "code",
   "execution_count": 149,
   "id": "0d21c1b4-3c74-44b4-90dd-5979bb3b3678",
   "metadata": {
    "id": "0d21c1b4-3c74-44b4-90dd-5979bb3b3678",
    "outputId": "ba044c4e-ad40-4607-ba74-df71288af609"
   },
   "outputs": [
    {
     "data": {
      "text/plain": [
       "0    1.2\n",
       "1   -3.5\n",
       "2    NaN\n",
       "3    0.0\n",
       "dtype: float64"
      ]
     },
     "execution_count": 149,
     "metadata": {},
     "output_type": "execute_result"
    }
   ],
   "source": [
    "float_data = pd.Series([1.2, -3.5, np.nan, 0])\n",
    "float_data"
   ]
  },
  {
   "cell_type": "code",
   "execution_count": 150,
   "id": "b4a12528-8045-4fb7-8df0-a310b3f0460d",
   "metadata": {
    "id": "b4a12528-8045-4fb7-8df0-a310b3f0460d",
    "outputId": "e3af421b-b135-4516-8069-4bcfdbd20d52"
   },
   "outputs": [
    {
     "data": {
      "text/plain": [
       "0    False\n",
       "1    False\n",
       "2     True\n",
       "3    False\n",
       "dtype: bool"
      ]
     },
     "execution_count": 150,
     "metadata": {},
     "output_type": "execute_result"
    }
   ],
   "source": [
    "float_data.isna()"
   ]
  },
  {
   "cell_type": "code",
   "execution_count": 151,
   "id": "46e16862-037d-447b-be6a-cc499dd36c90",
   "metadata": {
    "id": "46e16862-037d-447b-be6a-cc499dd36c90",
    "outputId": "9fc7cff3-2ed6-473f-e8ab-6424be934468"
   },
   "outputs": [
    {
     "data": {
      "text/plain": [
       "0     True\n",
       "1     True\n",
       "2    False\n",
       "3     True\n",
       "dtype: bool"
      ]
     },
     "execution_count": 151,
     "metadata": {},
     "output_type": "execute_result"
    }
   ],
   "source": [
    "float_data.notna()"
   ]
  },
  {
   "cell_type": "markdown",
   "id": "6870fbfb-24ef-4ead-9ee8-ca78d77f3af9",
   "metadata": {
    "id": "6870fbfb-24ef-4ead-9ee8-ca78d77f3af9"
   },
   "source": [
    "Удаление данных с пропусками"
   ]
  },
  {
   "cell_type": "code",
   "execution_count": 152,
   "id": "f93e2d65-3c75-4968-863f-453a93229ec0",
   "metadata": {
    "id": "f93e2d65-3c75-4968-863f-453a93229ec0",
    "outputId": "624467a5-d4d5-4c7d-df27-ea16d272edce"
   },
   "outputs": [
    {
     "data": {
      "text/html": [
       "<div>\n",
       "<style scoped>\n",
       "    .dataframe tbody tr th:only-of-type {\n",
       "        vertical-align: middle;\n",
       "    }\n",
       "\n",
       "    .dataframe tbody tr th {\n",
       "        vertical-align: top;\n",
       "    }\n",
       "\n",
       "    .dataframe thead th {\n",
       "        text-align: right;\n",
       "    }\n",
       "</style>\n",
       "<table border=\"1\" class=\"dataframe\">\n",
       "  <thead>\n",
       "    <tr style=\"text-align: right;\">\n",
       "      <th></th>\n",
       "      <th>0</th>\n",
       "      <th>1</th>\n",
       "      <th>2</th>\n",
       "      <th>3</th>\n",
       "    </tr>\n",
       "  </thead>\n",
       "  <tbody>\n",
       "    <tr>\n",
       "      <th>0</th>\n",
       "      <td>1.0</td>\n",
       "      <td>6.5</td>\n",
       "      <td>3.0</td>\n",
       "      <td>NaN</td>\n",
       "    </tr>\n",
       "    <tr>\n",
       "      <th>1</th>\n",
       "      <td>1.0</td>\n",
       "      <td>NaN</td>\n",
       "      <td>NaN</td>\n",
       "      <td>NaN</td>\n",
       "    </tr>\n",
       "    <tr>\n",
       "      <th>2</th>\n",
       "      <td>NaN</td>\n",
       "      <td>NaN</td>\n",
       "      <td>NaN</td>\n",
       "      <td>NaN</td>\n",
       "    </tr>\n",
       "    <tr>\n",
       "      <th>3</th>\n",
       "      <td>NaN</td>\n",
       "      <td>6.5</td>\n",
       "      <td>3.0</td>\n",
       "      <td>NaN</td>\n",
       "    </tr>\n",
       "  </tbody>\n",
       "</table>\n",
       "</div>"
      ],
      "text/plain": [
       "     0    1    2   3\n",
       "0  1.0  6.5  3.0 NaN\n",
       "1  1.0  NaN  NaN NaN\n",
       "2  NaN  NaN  NaN NaN\n",
       "3  NaN  6.5  3.0 NaN"
      ]
     },
     "execution_count": 152,
     "metadata": {},
     "output_type": "execute_result"
    }
   ],
   "source": [
    "data = pd.DataFrame([[1., 6.5, 3., np.nan], [1., np.nan, np.nan, np.nan], [np.nan, np.nan, np.nan, np.nan],\n",
    "                     [np.nan, 6.5, 3., np.nan]])\n",
    "data"
   ]
  },
  {
   "cell_type": "code",
   "execution_count": 153,
   "id": "a29a6793-8569-4091-a442-aeffa6aed226",
   "metadata": {
    "id": "a29a6793-8569-4091-a442-aeffa6aed226",
    "outputId": "dfcc1a17-92ab-4960-fa2b-5f62aedc6072"
   },
   "outputs": [
    {
     "data": {
      "text/html": [
       "<div>\n",
       "<style scoped>\n",
       "    .dataframe tbody tr th:only-of-type {\n",
       "        vertical-align: middle;\n",
       "    }\n",
       "\n",
       "    .dataframe tbody tr th {\n",
       "        vertical-align: top;\n",
       "    }\n",
       "\n",
       "    .dataframe thead th {\n",
       "        text-align: right;\n",
       "    }\n",
       "</style>\n",
       "<table border=\"1\" class=\"dataframe\">\n",
       "  <thead>\n",
       "    <tr style=\"text-align: right;\">\n",
       "      <th></th>\n",
       "      <th>0</th>\n",
       "      <th>1</th>\n",
       "      <th>2</th>\n",
       "      <th>3</th>\n",
       "    </tr>\n",
       "  </thead>\n",
       "  <tbody>\n",
       "  </tbody>\n",
       "</table>\n",
       "</div>"
      ],
      "text/plain": [
       "Empty DataFrame\n",
       "Columns: [0, 1, 2, 3]\n",
       "Index: []"
      ]
     },
     "execution_count": 153,
     "metadata": {},
     "output_type": "execute_result"
    }
   ],
   "source": [
    "data.dropna()"
   ]
  },
  {
   "cell_type": "code",
   "execution_count": 154,
   "id": "edd894b5-d32d-455f-a293-edd7c8b2fa26",
   "metadata": {
    "id": "edd894b5-d32d-455f-a293-edd7c8b2fa26",
    "outputId": "6e2ade96-a2bf-4682-d981-43d276268c92"
   },
   "outputs": [
    {
     "data": {
      "text/html": [
       "<div>\n",
       "<style scoped>\n",
       "    .dataframe tbody tr th:only-of-type {\n",
       "        vertical-align: middle;\n",
       "    }\n",
       "\n",
       "    .dataframe tbody tr th {\n",
       "        vertical-align: top;\n",
       "    }\n",
       "\n",
       "    .dataframe thead th {\n",
       "        text-align: right;\n",
       "    }\n",
       "</style>\n",
       "<table border=\"1\" class=\"dataframe\">\n",
       "  <thead>\n",
       "    <tr style=\"text-align: right;\">\n",
       "      <th></th>\n",
       "      <th>0</th>\n",
       "      <th>1</th>\n",
       "      <th>2</th>\n",
       "      <th>3</th>\n",
       "    </tr>\n",
       "  </thead>\n",
       "  <tbody>\n",
       "    <tr>\n",
       "      <th>0</th>\n",
       "      <td>1.0</td>\n",
       "      <td>6.5</td>\n",
       "      <td>3.0</td>\n",
       "      <td>NaN</td>\n",
       "    </tr>\n",
       "    <tr>\n",
       "      <th>1</th>\n",
       "      <td>1.0</td>\n",
       "      <td>NaN</td>\n",
       "      <td>NaN</td>\n",
       "      <td>NaN</td>\n",
       "    </tr>\n",
       "    <tr>\n",
       "      <th>3</th>\n",
       "      <td>NaN</td>\n",
       "      <td>6.5</td>\n",
       "      <td>3.0</td>\n",
       "      <td>NaN</td>\n",
       "    </tr>\n",
       "  </tbody>\n",
       "</table>\n",
       "</div>"
      ],
      "text/plain": [
       "     0    1    2   3\n",
       "0  1.0  6.5  3.0 NaN\n",
       "1  1.0  NaN  NaN NaN\n",
       "3  NaN  6.5  3.0 NaN"
      ]
     },
     "execution_count": 154,
     "metadata": {},
     "output_type": "execute_result"
    }
   ],
   "source": [
    "data.dropna(how=\"all\")"
   ]
  },
  {
   "cell_type": "code",
   "execution_count": 155,
   "id": "e00385ee-c272-46b0-9ef7-6fd73ba4b441",
   "metadata": {
    "id": "e00385ee-c272-46b0-9ef7-6fd73ba4b441",
    "outputId": "f9ceda33-1ff7-481b-966d-7c00e6c32de3"
   },
   "outputs": [
    {
     "data": {
      "text/html": [
       "<div>\n",
       "<style scoped>\n",
       "    .dataframe tbody tr th:only-of-type {\n",
       "        vertical-align: middle;\n",
       "    }\n",
       "\n",
       "    .dataframe tbody tr th {\n",
       "        vertical-align: top;\n",
       "    }\n",
       "\n",
       "    .dataframe thead th {\n",
       "        text-align: right;\n",
       "    }\n",
       "</style>\n",
       "<table border=\"1\" class=\"dataframe\">\n",
       "  <thead>\n",
       "    <tr style=\"text-align: right;\">\n",
       "      <th></th>\n",
       "      <th>0</th>\n",
       "      <th>1</th>\n",
       "      <th>2</th>\n",
       "    </tr>\n",
       "  </thead>\n",
       "  <tbody>\n",
       "    <tr>\n",
       "      <th>0</th>\n",
       "      <td>1.0</td>\n",
       "      <td>6.5</td>\n",
       "      <td>3.0</td>\n",
       "    </tr>\n",
       "    <tr>\n",
       "      <th>1</th>\n",
       "      <td>1.0</td>\n",
       "      <td>NaN</td>\n",
       "      <td>NaN</td>\n",
       "    </tr>\n",
       "    <tr>\n",
       "      <th>2</th>\n",
       "      <td>NaN</td>\n",
       "      <td>NaN</td>\n",
       "      <td>NaN</td>\n",
       "    </tr>\n",
       "    <tr>\n",
       "      <th>3</th>\n",
       "      <td>NaN</td>\n",
       "      <td>6.5</td>\n",
       "      <td>3.0</td>\n",
       "    </tr>\n",
       "  </tbody>\n",
       "</table>\n",
       "</div>"
      ],
      "text/plain": [
       "     0    1    2\n",
       "0  1.0  6.5  3.0\n",
       "1  1.0  NaN  NaN\n",
       "2  NaN  NaN  NaN\n",
       "3  NaN  6.5  3.0"
      ]
     },
     "execution_count": 155,
     "metadata": {},
     "output_type": "execute_result"
    }
   ],
   "source": [
    "data.dropna(axis=\"columns\", how=\"all\")"
   ]
  },
  {
   "cell_type": "code",
   "execution_count": 156,
   "id": "6c821de0-5430-412b-9a5d-caaa2e4dfcee",
   "metadata": {
    "id": "6c821de0-5430-412b-9a5d-caaa2e4dfcee",
    "outputId": "eecc3593-ee7c-4868-e6c7-a8215be17df8"
   },
   "outputs": [
    {
     "data": {
      "text/html": [
       "<div>\n",
       "<style scoped>\n",
       "    .dataframe tbody tr th:only-of-type {\n",
       "        vertical-align: middle;\n",
       "    }\n",
       "\n",
       "    .dataframe tbody tr th {\n",
       "        vertical-align: top;\n",
       "    }\n",
       "\n",
       "    .dataframe thead th {\n",
       "        text-align: right;\n",
       "    }\n",
       "</style>\n",
       "<table border=\"1\" class=\"dataframe\">\n",
       "  <thead>\n",
       "    <tr style=\"text-align: right;\">\n",
       "      <th></th>\n",
       "      <th>0</th>\n",
       "      <th>1</th>\n",
       "      <th>2</th>\n",
       "      <th>3</th>\n",
       "    </tr>\n",
       "  </thead>\n",
       "  <tbody>\n",
       "    <tr>\n",
       "      <th>0</th>\n",
       "      <td>1.0</td>\n",
       "      <td>6.5</td>\n",
       "      <td>3.0</td>\n",
       "      <td>NaN</td>\n",
       "    </tr>\n",
       "    <tr>\n",
       "      <th>3</th>\n",
       "      <td>NaN</td>\n",
       "      <td>6.5</td>\n",
       "      <td>3.0</td>\n",
       "      <td>NaN</td>\n",
       "    </tr>\n",
       "  </tbody>\n",
       "</table>\n",
       "</div>"
      ],
      "text/plain": [
       "     0    1    2   3\n",
       "0  1.0  6.5  3.0 NaN\n",
       "3  NaN  6.5  3.0 NaN"
      ]
     },
     "execution_count": 156,
     "metadata": {},
     "output_type": "execute_result"
    }
   ],
   "source": [
    "data.dropna(thresh=2)"
   ]
  },
  {
   "cell_type": "markdown",
   "id": "b925f4eb-7124-46b1-857f-78c523c348b9",
   "metadata": {
    "id": "b925f4eb-7124-46b1-857f-78c523c348b9"
   },
   "source": [
    "Восполнение отсутствующих данных"
   ]
  },
  {
   "cell_type": "code",
   "execution_count": 157,
   "id": "4c424068-b7fd-4d96-bf31-243247781413",
   "metadata": {
    "id": "4c424068-b7fd-4d96-bf31-243247781413",
    "outputId": "dd214564-2641-4367-c097-adf14d7069d4"
   },
   "outputs": [
    {
     "data": {
      "text/html": [
       "<div>\n",
       "<style scoped>\n",
       "    .dataframe tbody tr th:only-of-type {\n",
       "        vertical-align: middle;\n",
       "    }\n",
       "\n",
       "    .dataframe tbody tr th {\n",
       "        vertical-align: top;\n",
       "    }\n",
       "\n",
       "    .dataframe thead th {\n",
       "        text-align: right;\n",
       "    }\n",
       "</style>\n",
       "<table border=\"1\" class=\"dataframe\">\n",
       "  <thead>\n",
       "    <tr style=\"text-align: right;\">\n",
       "      <th></th>\n",
       "      <th>0</th>\n",
       "      <th>1</th>\n",
       "      <th>2</th>\n",
       "    </tr>\n",
       "  </thead>\n",
       "  <tbody>\n",
       "    <tr>\n",
       "      <th>0</th>\n",
       "      <td>1.924601</td>\n",
       "      <td>NaN</td>\n",
       "      <td>NaN</td>\n",
       "    </tr>\n",
       "    <tr>\n",
       "      <th>1</th>\n",
       "      <td>-0.443778</td>\n",
       "      <td>NaN</td>\n",
       "      <td>NaN</td>\n",
       "    </tr>\n",
       "    <tr>\n",
       "      <th>2</th>\n",
       "      <td>-1.279834</td>\n",
       "      <td>NaN</td>\n",
       "      <td>0.487799</td>\n",
       "    </tr>\n",
       "    <tr>\n",
       "      <th>3</th>\n",
       "      <td>0.672669</td>\n",
       "      <td>NaN</td>\n",
       "      <td>-0.179156</td>\n",
       "    </tr>\n",
       "    <tr>\n",
       "      <th>4</th>\n",
       "      <td>-0.708392</td>\n",
       "      <td>1.087898</td>\n",
       "      <td>0.453745</td>\n",
       "    </tr>\n",
       "    <tr>\n",
       "      <th>5</th>\n",
       "      <td>0.673065</td>\n",
       "      <td>-1.409978</td>\n",
       "      <td>0.386448</td>\n",
       "    </tr>\n",
       "    <tr>\n",
       "      <th>6</th>\n",
       "      <td>1.696641</td>\n",
       "      <td>-0.580191</td>\n",
       "      <td>1.163504</td>\n",
       "    </tr>\n",
       "  </tbody>\n",
       "</table>\n",
       "</div>"
      ],
      "text/plain": [
       "          0         1         2\n",
       "0  1.924601       NaN       NaN\n",
       "1 -0.443778       NaN       NaN\n",
       "2 -1.279834       NaN  0.487799\n",
       "3  0.672669       NaN -0.179156\n",
       "4 -0.708392  1.087898  0.453745\n",
       "5  0.673065 -1.409978  0.386448\n",
       "6  1.696641 -0.580191  1.163504"
      ]
     },
     "execution_count": 157,
     "metadata": {},
     "output_type": "execute_result"
    }
   ],
   "source": [
    "df = pd.DataFrame(np.random.standard_normal((7, 3)))\n",
    "df.iloc[:4, 1] = np.nan\n",
    "df.iloc[:2, 2] = np.nan\n",
    "df"
   ]
  },
  {
   "cell_type": "code",
   "execution_count": 158,
   "id": "9bc012b2-2d3d-40aa-9f47-7805574c11f3",
   "metadata": {
    "id": "9bc012b2-2d3d-40aa-9f47-7805574c11f3",
    "outputId": "ad09c64f-839e-45e3-aeb8-5d01c9313b03"
   },
   "outputs": [
    {
     "data": {
      "text/html": [
       "<div>\n",
       "<style scoped>\n",
       "    .dataframe tbody tr th:only-of-type {\n",
       "        vertical-align: middle;\n",
       "    }\n",
       "\n",
       "    .dataframe tbody tr th {\n",
       "        vertical-align: top;\n",
       "    }\n",
       "\n",
       "    .dataframe thead th {\n",
       "        text-align: right;\n",
       "    }\n",
       "</style>\n",
       "<table border=\"1\" class=\"dataframe\">\n",
       "  <thead>\n",
       "    <tr style=\"text-align: right;\">\n",
       "      <th></th>\n",
       "      <th>0</th>\n",
       "      <th>1</th>\n",
       "      <th>2</th>\n",
       "    </tr>\n",
       "  </thead>\n",
       "  <tbody>\n",
       "    <tr>\n",
       "      <th>0</th>\n",
       "      <td>1.924601</td>\n",
       "      <td>0.000000</td>\n",
       "      <td>0.000000</td>\n",
       "    </tr>\n",
       "    <tr>\n",
       "      <th>1</th>\n",
       "      <td>-0.443778</td>\n",
       "      <td>0.000000</td>\n",
       "      <td>0.000000</td>\n",
       "    </tr>\n",
       "    <tr>\n",
       "      <th>2</th>\n",
       "      <td>-1.279834</td>\n",
       "      <td>0.000000</td>\n",
       "      <td>0.487799</td>\n",
       "    </tr>\n",
       "    <tr>\n",
       "      <th>3</th>\n",
       "      <td>0.672669</td>\n",
       "      <td>0.000000</td>\n",
       "      <td>-0.179156</td>\n",
       "    </tr>\n",
       "    <tr>\n",
       "      <th>4</th>\n",
       "      <td>-0.708392</td>\n",
       "      <td>1.087898</td>\n",
       "      <td>0.453745</td>\n",
       "    </tr>\n",
       "    <tr>\n",
       "      <th>5</th>\n",
       "      <td>0.673065</td>\n",
       "      <td>-1.409978</td>\n",
       "      <td>0.386448</td>\n",
       "    </tr>\n",
       "    <tr>\n",
       "      <th>6</th>\n",
       "      <td>1.696641</td>\n",
       "      <td>-0.580191</td>\n",
       "      <td>1.163504</td>\n",
       "    </tr>\n",
       "  </tbody>\n",
       "</table>\n",
       "</div>"
      ],
      "text/plain": [
       "          0         1         2\n",
       "0  1.924601  0.000000  0.000000\n",
       "1 -0.443778  0.000000  0.000000\n",
       "2 -1.279834  0.000000  0.487799\n",
       "3  0.672669  0.000000 -0.179156\n",
       "4 -0.708392  1.087898  0.453745\n",
       "5  0.673065 -1.409978  0.386448\n",
       "6  1.696641 -0.580191  1.163504"
      ]
     },
     "execution_count": 158,
     "metadata": {},
     "output_type": "execute_result"
    }
   ],
   "source": [
    "df.fillna(0)"
   ]
  },
  {
   "cell_type": "code",
   "execution_count": 159,
   "id": "b8312838-7afb-475a-9db6-13aee9113c93",
   "metadata": {
    "id": "b8312838-7afb-475a-9db6-13aee9113c93",
    "outputId": "4275148d-7fda-4637-e7fd-93d3af6818eb"
   },
   "outputs": [
    {
     "data": {
      "text/html": [
       "<div>\n",
       "<style scoped>\n",
       "    .dataframe tbody tr th:only-of-type {\n",
       "        vertical-align: middle;\n",
       "    }\n",
       "\n",
       "    .dataframe tbody tr th {\n",
       "        vertical-align: top;\n",
       "    }\n",
       "\n",
       "    .dataframe thead th {\n",
       "        text-align: right;\n",
       "    }\n",
       "</style>\n",
       "<table border=\"1\" class=\"dataframe\">\n",
       "  <thead>\n",
       "    <tr style=\"text-align: right;\">\n",
       "      <th></th>\n",
       "      <th>0</th>\n",
       "      <th>1</th>\n",
       "      <th>2</th>\n",
       "    </tr>\n",
       "  </thead>\n",
       "  <tbody>\n",
       "    <tr>\n",
       "      <th>0</th>\n",
       "      <td>1.924601</td>\n",
       "      <td>0.500000</td>\n",
       "      <td>0.000000</td>\n",
       "    </tr>\n",
       "    <tr>\n",
       "      <th>1</th>\n",
       "      <td>-0.443778</td>\n",
       "      <td>0.500000</td>\n",
       "      <td>0.000000</td>\n",
       "    </tr>\n",
       "    <tr>\n",
       "      <th>2</th>\n",
       "      <td>-1.279834</td>\n",
       "      <td>0.500000</td>\n",
       "      <td>0.487799</td>\n",
       "    </tr>\n",
       "    <tr>\n",
       "      <th>3</th>\n",
       "      <td>0.672669</td>\n",
       "      <td>0.500000</td>\n",
       "      <td>-0.179156</td>\n",
       "    </tr>\n",
       "    <tr>\n",
       "      <th>4</th>\n",
       "      <td>-0.708392</td>\n",
       "      <td>1.087898</td>\n",
       "      <td>0.453745</td>\n",
       "    </tr>\n",
       "    <tr>\n",
       "      <th>5</th>\n",
       "      <td>0.673065</td>\n",
       "      <td>-1.409978</td>\n",
       "      <td>0.386448</td>\n",
       "    </tr>\n",
       "    <tr>\n",
       "      <th>6</th>\n",
       "      <td>1.696641</td>\n",
       "      <td>-0.580191</td>\n",
       "      <td>1.163504</td>\n",
       "    </tr>\n",
       "  </tbody>\n",
       "</table>\n",
       "</div>"
      ],
      "text/plain": [
       "          0         1         2\n",
       "0  1.924601  0.500000  0.000000\n",
       "1 -0.443778  0.500000  0.000000\n",
       "2 -1.279834  0.500000  0.487799\n",
       "3  0.672669  0.500000 -0.179156\n",
       "4 -0.708392  1.087898  0.453745\n",
       "5  0.673065 -1.409978  0.386448\n",
       "6  1.696641 -0.580191  1.163504"
      ]
     },
     "execution_count": 159,
     "metadata": {},
     "output_type": "execute_result"
    }
   ],
   "source": [
    "df.fillna({1: 0.5, 2: 0})"
   ]
  },
  {
   "cell_type": "code",
   "execution_count": 160,
   "id": "ed02158e-bd5f-46e0-973c-023d6a8aabc1",
   "metadata": {
    "id": "ed02158e-bd5f-46e0-973c-023d6a8aabc1",
    "outputId": "befa1f3b-b333-4164-e574-3779c411ec34"
   },
   "outputs": [
    {
     "data": {
      "text/html": [
       "<div>\n",
       "<style scoped>\n",
       "    .dataframe tbody tr th:only-of-type {\n",
       "        vertical-align: middle;\n",
       "    }\n",
       "\n",
       "    .dataframe tbody tr th {\n",
       "        vertical-align: top;\n",
       "    }\n",
       "\n",
       "    .dataframe thead th {\n",
       "        text-align: right;\n",
       "    }\n",
       "</style>\n",
       "<table border=\"1\" class=\"dataframe\">\n",
       "  <thead>\n",
       "    <tr style=\"text-align: right;\">\n",
       "      <th></th>\n",
       "      <th>0</th>\n",
       "      <th>1</th>\n",
       "      <th>2</th>\n",
       "    </tr>\n",
       "  </thead>\n",
       "  <tbody>\n",
       "    <tr>\n",
       "      <th>0</th>\n",
       "      <td>1.924601</td>\n",
       "      <td>1.087898</td>\n",
       "      <td>0.487799</td>\n",
       "    </tr>\n",
       "    <tr>\n",
       "      <th>1</th>\n",
       "      <td>-0.443778</td>\n",
       "      <td>1.087898</td>\n",
       "      <td>0.487799</td>\n",
       "    </tr>\n",
       "    <tr>\n",
       "      <th>2</th>\n",
       "      <td>-1.279834</td>\n",
       "      <td>1.087898</td>\n",
       "      <td>0.487799</td>\n",
       "    </tr>\n",
       "    <tr>\n",
       "      <th>3</th>\n",
       "      <td>0.672669</td>\n",
       "      <td>1.087898</td>\n",
       "      <td>-0.179156</td>\n",
       "    </tr>\n",
       "    <tr>\n",
       "      <th>4</th>\n",
       "      <td>-0.708392</td>\n",
       "      <td>1.087898</td>\n",
       "      <td>0.453745</td>\n",
       "    </tr>\n",
       "    <tr>\n",
       "      <th>5</th>\n",
       "      <td>0.673065</td>\n",
       "      <td>-1.409978</td>\n",
       "      <td>0.386448</td>\n",
       "    </tr>\n",
       "    <tr>\n",
       "      <th>6</th>\n",
       "      <td>1.696641</td>\n",
       "      <td>-0.580191</td>\n",
       "      <td>1.163504</td>\n",
       "    </tr>\n",
       "  </tbody>\n",
       "</table>\n",
       "</div>"
      ],
      "text/plain": [
       "          0         1         2\n",
       "0  1.924601  1.087898  0.487799\n",
       "1 -0.443778  1.087898  0.487799\n",
       "2 -1.279834  1.087898  0.487799\n",
       "3  0.672669  1.087898 -0.179156\n",
       "4 -0.708392  1.087898  0.453745\n",
       "5  0.673065 -1.409978  0.386448\n",
       "6  1.696641 -0.580191  1.163504"
      ]
     },
     "execution_count": 160,
     "metadata": {},
     "output_type": "execute_result"
    }
   ],
   "source": [
    "df.fillna(method=\"bfill\")"
   ]
  },
  {
   "cell_type": "code",
   "execution_count": 161,
   "id": "ff16c212-310c-4287-8318-81050cb0adcf",
   "metadata": {
    "id": "ff16c212-310c-4287-8318-81050cb0adcf",
    "outputId": "b5c40121-acf2-42c9-edfb-c484c701db31"
   },
   "outputs": [
    {
     "data": {
      "text/html": [
       "<div>\n",
       "<style scoped>\n",
       "    .dataframe tbody tr th:only-of-type {\n",
       "        vertical-align: middle;\n",
       "    }\n",
       "\n",
       "    .dataframe tbody tr th {\n",
       "        vertical-align: top;\n",
       "    }\n",
       "\n",
       "    .dataframe thead th {\n",
       "        text-align: right;\n",
       "    }\n",
       "</style>\n",
       "<table border=\"1\" class=\"dataframe\">\n",
       "  <thead>\n",
       "    <tr style=\"text-align: right;\">\n",
       "      <th></th>\n",
       "      <th>0</th>\n",
       "      <th>1</th>\n",
       "      <th>2</th>\n",
       "    </tr>\n",
       "  </thead>\n",
       "  <tbody>\n",
       "    <tr>\n",
       "      <th>0</th>\n",
       "      <td>1.924601</td>\n",
       "      <td>NaN</td>\n",
       "      <td>0.487799</td>\n",
       "    </tr>\n",
       "    <tr>\n",
       "      <th>1</th>\n",
       "      <td>-0.443778</td>\n",
       "      <td>NaN</td>\n",
       "      <td>0.487799</td>\n",
       "    </tr>\n",
       "    <tr>\n",
       "      <th>2</th>\n",
       "      <td>-1.279834</td>\n",
       "      <td>1.087898</td>\n",
       "      <td>0.487799</td>\n",
       "    </tr>\n",
       "    <tr>\n",
       "      <th>3</th>\n",
       "      <td>0.672669</td>\n",
       "      <td>1.087898</td>\n",
       "      <td>-0.179156</td>\n",
       "    </tr>\n",
       "    <tr>\n",
       "      <th>4</th>\n",
       "      <td>-0.708392</td>\n",
       "      <td>1.087898</td>\n",
       "      <td>0.453745</td>\n",
       "    </tr>\n",
       "    <tr>\n",
       "      <th>5</th>\n",
       "      <td>0.673065</td>\n",
       "      <td>-1.409978</td>\n",
       "      <td>0.386448</td>\n",
       "    </tr>\n",
       "    <tr>\n",
       "      <th>6</th>\n",
       "      <td>1.696641</td>\n",
       "      <td>-0.580191</td>\n",
       "      <td>1.163504</td>\n",
       "    </tr>\n",
       "  </tbody>\n",
       "</table>\n",
       "</div>"
      ],
      "text/plain": [
       "          0         1         2\n",
       "0  1.924601       NaN  0.487799\n",
       "1 -0.443778       NaN  0.487799\n",
       "2 -1.279834  1.087898  0.487799\n",
       "3  0.672669  1.087898 -0.179156\n",
       "4 -0.708392  1.087898  0.453745\n",
       "5  0.673065 -1.409978  0.386448\n",
       "6  1.696641 -0.580191  1.163504"
      ]
     },
     "execution_count": 161,
     "metadata": {},
     "output_type": "execute_result"
    }
   ],
   "source": [
    "df.fillna(method=\"bfill\", limit=2)"
   ]
  },
  {
   "cell_type": "code",
   "execution_count": 162,
   "id": "471c602b-8ebb-4b86-b56c-889bb8d6f88e",
   "metadata": {
    "id": "471c602b-8ebb-4b86-b56c-889bb8d6f88e",
    "outputId": "a125a6d7-d28b-4889-d217-fc53dc60c0c6"
   },
   "outputs": [
    {
     "data": {
      "text/html": [
       "<div>\n",
       "<style scoped>\n",
       "    .dataframe tbody tr th:only-of-type {\n",
       "        vertical-align: middle;\n",
       "    }\n",
       "\n",
       "    .dataframe tbody tr th {\n",
       "        vertical-align: top;\n",
       "    }\n",
       "\n",
       "    .dataframe thead th {\n",
       "        text-align: right;\n",
       "    }\n",
       "</style>\n",
       "<table border=\"1\" class=\"dataframe\">\n",
       "  <thead>\n",
       "    <tr style=\"text-align: right;\">\n",
       "      <th></th>\n",
       "      <th>0</th>\n",
       "      <th>1</th>\n",
       "      <th>2</th>\n",
       "    </tr>\n",
       "  </thead>\n",
       "  <tbody>\n",
       "    <tr>\n",
       "      <th>0</th>\n",
       "      <td>1.924601</td>\n",
       "      <td>6.500000</td>\n",
       "      <td>3.000000</td>\n",
       "    </tr>\n",
       "    <tr>\n",
       "      <th>1</th>\n",
       "      <td>-0.443778</td>\n",
       "      <td>6.500000</td>\n",
       "      <td>3.000000</td>\n",
       "    </tr>\n",
       "    <tr>\n",
       "      <th>2</th>\n",
       "      <td>-1.279834</td>\n",
       "      <td>6.500000</td>\n",
       "      <td>0.487799</td>\n",
       "    </tr>\n",
       "    <tr>\n",
       "      <th>3</th>\n",
       "      <td>0.672669</td>\n",
       "      <td>6.500000</td>\n",
       "      <td>-0.179156</td>\n",
       "    </tr>\n",
       "    <tr>\n",
       "      <th>4</th>\n",
       "      <td>-0.708392</td>\n",
       "      <td>1.087898</td>\n",
       "      <td>0.453745</td>\n",
       "    </tr>\n",
       "    <tr>\n",
       "      <th>5</th>\n",
       "      <td>0.673065</td>\n",
       "      <td>-1.409978</td>\n",
       "      <td>0.386448</td>\n",
       "    </tr>\n",
       "    <tr>\n",
       "      <th>6</th>\n",
       "      <td>1.696641</td>\n",
       "      <td>-0.580191</td>\n",
       "      <td>1.163504</td>\n",
       "    </tr>\n",
       "  </tbody>\n",
       "</table>\n",
       "</div>"
      ],
      "text/plain": [
       "          0         1         2\n",
       "0  1.924601  6.500000  3.000000\n",
       "1 -0.443778  6.500000  3.000000\n",
       "2 -1.279834  6.500000  0.487799\n",
       "3  0.672669  6.500000 -0.179156\n",
       "4 -0.708392  1.087898  0.453745\n",
       "5  0.673065 -1.409978  0.386448\n",
       "6  1.696641 -0.580191  1.163504"
      ]
     },
     "execution_count": 162,
     "metadata": {},
     "output_type": "execute_result"
    }
   ],
   "source": [
    "df.fillna(data.mean())"
   ]
  },
  {
   "cell_type": "code",
   "execution_count": 163,
   "id": "19d916b9-2097-48e9-8cd3-36744c37f8a1",
   "metadata": {
    "id": "19d916b9-2097-48e9-8cd3-36744c37f8a1",
    "outputId": "d4d39b93-c8c6-4b06-c16a-d20f7505902b"
   },
   "outputs": [
    {
     "data": {
      "text/html": [
       "<div>\n",
       "<style scoped>\n",
       "    .dataframe tbody tr th:only-of-type {\n",
       "        vertical-align: middle;\n",
       "    }\n",
       "\n",
       "    .dataframe tbody tr th {\n",
       "        vertical-align: top;\n",
       "    }\n",
       "\n",
       "    .dataframe thead th {\n",
       "        text-align: right;\n",
       "    }\n",
       "</style>\n",
       "<table border=\"1\" class=\"dataframe\">\n",
       "  <thead>\n",
       "    <tr style=\"text-align: right;\">\n",
       "      <th></th>\n",
       "      <th>0</th>\n",
       "      <th>1</th>\n",
       "      <th>2</th>\n",
       "    </tr>\n",
       "  </thead>\n",
       "  <tbody>\n",
       "    <tr>\n",
       "      <th>0</th>\n",
       "      <td>1.924601</td>\n",
       "      <td>6.500000</td>\n",
       "      <td>3.000000</td>\n",
       "    </tr>\n",
       "    <tr>\n",
       "      <th>1</th>\n",
       "      <td>-0.443778</td>\n",
       "      <td>6.500000</td>\n",
       "      <td>3.000000</td>\n",
       "    </tr>\n",
       "    <tr>\n",
       "      <th>2</th>\n",
       "      <td>-1.279834</td>\n",
       "      <td>6.500000</td>\n",
       "      <td>0.487799</td>\n",
       "    </tr>\n",
       "    <tr>\n",
       "      <th>3</th>\n",
       "      <td>0.672669</td>\n",
       "      <td>6.500000</td>\n",
       "      <td>-0.179156</td>\n",
       "    </tr>\n",
       "    <tr>\n",
       "      <th>4</th>\n",
       "      <td>-0.708392</td>\n",
       "      <td>1.087898</td>\n",
       "      <td>0.453745</td>\n",
       "    </tr>\n",
       "    <tr>\n",
       "      <th>5</th>\n",
       "      <td>0.673065</td>\n",
       "      <td>-1.409978</td>\n",
       "      <td>0.386448</td>\n",
       "    </tr>\n",
       "    <tr>\n",
       "      <th>6</th>\n",
       "      <td>1.696641</td>\n",
       "      <td>-0.580191</td>\n",
       "      <td>1.163504</td>\n",
       "    </tr>\n",
       "  </tbody>\n",
       "</table>\n",
       "</div>"
      ],
      "text/plain": [
       "          0         1         2\n",
       "0  1.924601  6.500000  3.000000\n",
       "1 -0.443778  6.500000  3.000000\n",
       "2 -1.279834  6.500000  0.487799\n",
       "3  0.672669  6.500000 -0.179156\n",
       "4 -0.708392  1.087898  0.453745\n",
       "5  0.673065 -1.409978  0.386448\n",
       "6  1.696641 -0.580191  1.163504"
      ]
     },
     "execution_count": 163,
     "metadata": {},
     "output_type": "execute_result"
    }
   ],
   "source": [
    "df.fillna(data.median())"
   ]
  },
  {
   "cell_type": "markdown",
   "id": "f54a6fa0-7850-44c5-ac95-4919c9c34543",
   "metadata": {
    "id": "f54a6fa0-7850-44c5-ac95-4919c9c34543"
   },
   "source": [
    "Медиана более устойчива к выбросам"
   ]
  },
  {
   "cell_type": "code",
   "execution_count": 164,
   "id": "5d3e0083-0e42-4cba-89f2-5a849028bd45",
   "metadata": {
    "id": "5d3e0083-0e42-4cba-89f2-5a849028bd45"
   },
   "outputs": [],
   "source": [
    "data_all = []\n",
    "for i in range(1000):\n",
    "    data = []\n",
    "    for i in range(1000):\n",
    "        if np.random.random() >= 0.90:\n",
    "            data.append(np.random.normal(1, 1, 1)[0])\n",
    "        else:\n",
    "            data.append(np.random.normal(1, 10, 1)[0])\n",
    "    data_all.append(data)\n",
    "\n",
    "data_all = np.array(data_all)"
   ]
  },
  {
   "cell_type": "code",
   "execution_count": 165,
   "id": "0f121112-c46d-4685-b4f0-f740a3f694da",
   "metadata": {
    "id": "0f121112-c46d-4685-b4f0-f740a3f694da",
    "outputId": "8d43c7fc-9781-421b-c38b-fca647374eb1"
   },
   "outputs": [
    {
     "data": {
      "text/plain": [
       "<AxesSubplot:>"
      ]
     },
     "execution_count": 165,
     "metadata": {},
     "output_type": "execute_result"
    },
    {
     "data": {
      "image/png": "[encoded data removed]",
      "text/plain": [
       "<Figure size 640x480 with 1 Axes>"
      ]
     },
     "metadata": {},
     "output_type": "display_data"
    }
   ],
   "source": [
    "res = pd.DataFrame({\"mean\": data_all.mean(axis=1), \"median\": np.median(data_all, axis=1)})\n",
    "res.boxplot()"
   ]
  },
  {
   "cell_type": "markdown",
   "id": "0a66f3df-3654-4e95-b1c3-581b79a03d8e",
   "metadata": {
    "id": "0a66f3df-3654-4e95-b1c3-581b79a03d8e"
   },
   "source": [
    "Создание дополнительного признака"
   ]
  },
  {
   "cell_type": "code",
   "execution_count": 166,
   "id": "f548a616-1c85-4a73-b970-4ab455e92fa9",
   "metadata": {
    "id": "f548a616-1c85-4a73-b970-4ab455e92fa9",
    "outputId": "77710a4e-7ea3-41f8-f5a5-c7d7d2ace492"
   },
   "outputs": [
    {
     "data": {
      "text/html": [
       "<div>\n",
       "<style scoped>\n",
       "    .dataframe tbody tr th:only-of-type {\n",
       "        vertical-align: middle;\n",
       "    }\n",
       "\n",
       "    .dataframe tbody tr th {\n",
       "        vertical-align: top;\n",
       "    }\n",
       "\n",
       "    .dataframe thead th {\n",
       "        text-align: right;\n",
       "    }\n",
       "</style>\n",
       "<table border=\"1\" class=\"dataframe\">\n",
       "  <thead>\n",
       "    <tr style=\"text-align: right;\">\n",
       "      <th></th>\n",
       "      <th>0</th>\n",
       "      <th>1</th>\n",
       "      <th>2</th>\n",
       "      <th>2 is nan</th>\n",
       "    </tr>\n",
       "  </thead>\n",
       "  <tbody>\n",
       "    <tr>\n",
       "      <th>0</th>\n",
       "      <td>1.924601</td>\n",
       "      <td>NaN</td>\n",
       "      <td>NaN</td>\n",
       "      <td>1</td>\n",
       "    </tr>\n",
       "    <tr>\n",
       "      <th>1</th>\n",
       "      <td>-0.443778</td>\n",
       "      <td>NaN</td>\n",
       "      <td>NaN</td>\n",
       "      <td>1</td>\n",
       "    </tr>\n",
       "    <tr>\n",
       "      <th>2</th>\n",
       "      <td>-1.279834</td>\n",
       "      <td>NaN</td>\n",
       "      <td>0.487799</td>\n",
       "      <td>0</td>\n",
       "    </tr>\n",
       "    <tr>\n",
       "      <th>3</th>\n",
       "      <td>0.672669</td>\n",
       "      <td>NaN</td>\n",
       "      <td>-0.179156</td>\n",
       "      <td>0</td>\n",
       "    </tr>\n",
       "    <tr>\n",
       "      <th>4</th>\n",
       "      <td>-0.708392</td>\n",
       "      <td>1.087898</td>\n",
       "      <td>0.453745</td>\n",
       "      <td>0</td>\n",
       "    </tr>\n",
       "    <tr>\n",
       "      <th>5</th>\n",
       "      <td>0.673065</td>\n",
       "      <td>-1.409978</td>\n",
       "      <td>0.386448</td>\n",
       "      <td>0</td>\n",
       "    </tr>\n",
       "    <tr>\n",
       "      <th>6</th>\n",
       "      <td>1.696641</td>\n",
       "      <td>-0.580191</td>\n",
       "      <td>1.163504</td>\n",
       "      <td>0</td>\n",
       "    </tr>\n",
       "  </tbody>\n",
       "</table>\n",
       "</div>"
      ],
      "text/plain": [
       "          0         1         2  2 is nan\n",
       "0  1.924601       NaN       NaN         1\n",
       "1 -0.443778       NaN       NaN         1\n",
       "2 -1.279834       NaN  0.487799         0\n",
       "3  0.672669       NaN -0.179156         0\n",
       "4 -0.708392  1.087898  0.453745         0\n",
       "5  0.673065 -1.409978  0.386448         0\n",
       "6  1.696641 -0.580191  1.163504         0"
      ]
     },
     "execution_count": 166,
     "metadata": {},
     "output_type": "execute_result"
    }
   ],
   "source": [
    "df[\"2 is nan\"] = df[2].isna().astype(np.int32)\n",
    "df"
   ]
  },
  {
   "cell_type": "markdown",
   "id": "dd342e89-1cf2-4e65-8a94-a47d2294ecfa",
   "metadata": {
    "id": "dd342e89-1cf2-4e65-8a94-a47d2294ecfa"
   },
   "source": [
    "Замена значений"
   ]
  },
  {
   "cell_type": "code",
   "execution_count": 167,
   "id": "964206d0-a401-4142-b794-5a96bcabb24b",
   "metadata": {
    "id": "964206d0-a401-4142-b794-5a96bcabb24b",
    "outputId": "51e5d36e-0d19-4433-ade8-46500d1400f9"
   },
   "outputs": [
    {
     "data": {
      "text/plain": [
       "0      1.0\n",
       "1   -999.0\n",
       "2      2.0\n",
       "3   -999.0\n",
       "4      4.0\n",
       "5      3.0\n",
       "dtype: float64"
      ]
     },
     "execution_count": 167,
     "metadata": {},
     "output_type": "execute_result"
    }
   ],
   "source": [
    "data = pd.Series([1., -999., 2., -999., 4., 3.])\n",
    "data"
   ]
  },
  {
   "cell_type": "code",
   "execution_count": 168,
   "id": "211e1cb6-1d23-41b7-bb82-96b75ddef704",
   "metadata": {
    "id": "211e1cb6-1d23-41b7-bb82-96b75ddef704",
    "outputId": "38e52bc6-667a-41a8-adb6-daa0137f5302"
   },
   "outputs": [
    {
     "data": {
      "text/plain": [
       "0    1.0\n",
       "1    NaN\n",
       "2    2.0\n",
       "3    NaN\n",
       "4    4.0\n",
       "5    3.0\n",
       "dtype: float64"
      ]
     },
     "execution_count": 168,
     "metadata": {},
     "output_type": "execute_result"
    }
   ],
   "source": [
    "data.replace(-999, np.nan)"
   ]
  },
  {
   "cell_type": "markdown",
   "id": "ae76bafb-1bea-47af-9887-3b2e7a2cd8b0",
   "metadata": {
    "id": "ae76bafb-1bea-47af-9887-3b2e7a2cd8b0"
   },
   "source": [
    "# Кодирование признаков"
   ]
  },
  {
   "cell_type": "markdown",
   "id": "f7da2248-a7dd-49b4-a211-0541757bdb09",
   "metadata": {
    "id": "f7da2248-a7dd-49b4-a211-0541757bdb09"
   },
   "source": [
    "Бинарные факторы: False == 0, True == 1"
   ]
  },
  {
   "cell_type": "code",
   "execution_count": 169,
   "id": "a8bea040-07c9-4ca3-99c5-ff1cd94051ea",
   "metadata": {
    "id": "a8bea040-07c9-4ca3-99c5-ff1cd94051ea",
    "outputId": "e87ef491-0e74-4e42-d7fe-53342ff3d5df"
   },
   "outputs": [
    {
     "data": {
      "text/plain": [
       "0       male\n",
       "1       male\n",
       "2       male\n",
       "3       male\n",
       "4       male\n",
       "5       male\n",
       "6       male\n",
       "7       male\n",
       "8       male\n",
       "9       male\n",
       "10    female\n",
       "11    female\n",
       "12    female\n",
       "13    female\n",
       "14    female\n",
       "dtype: object"
      ]
     },
     "execution_count": 169,
     "metadata": {},
     "output_type": "execute_result"
    }
   ],
   "source": [
    "data = pd.Series([\"male\"]*10 + [\"female\"]*5)\n",
    "data"
   ]
  },
  {
   "cell_type": "code",
   "execution_count": 170,
   "id": "543531c9-cb85-46bd-8c24-a611bf713d9a",
   "metadata": {
    "id": "543531c9-cb85-46bd-8c24-a611bf713d9a",
    "outputId": "f64128b7-9bf2-4b8f-d795-87fa89c9ecc5"
   },
   "outputs": [
    {
     "data": {
      "text/plain": [
       "0     1\n",
       "1     1\n",
       "2     1\n",
       "3     1\n",
       "4     1\n",
       "5     1\n",
       "6     1\n",
       "7     1\n",
       "8     1\n",
       "9     1\n",
       "10    0\n",
       "11    0\n",
       "12    0\n",
       "13    0\n",
       "14    0\n",
       "dtype: int32"
      ]
     },
     "execution_count": 170,
     "metadata": {},
     "output_type": "execute_result"
    }
   ],
   "source": [
    "(data == \"male\").astype(np.int32)"
   ]
  },
  {
   "cell_type": "markdown",
   "id": "5efd9dd7-1e25-4a32-8715-4b7ab26c302d",
   "metadata": {
    "id": "5efd9dd7-1e25-4a32-8715-4b7ab26c302d"
   },
   "source": [
    "Категориальные факторы: разбиваем по порядку\n"
   ]
  },
  {
   "cell_type": "code",
   "execution_count": 171,
   "id": "df80c7f5-70a3-45a4-9949-a77c9b6bdbcc",
   "metadata": {
    "id": "df80c7f5-70a3-45a4-9949-a77c9b6bdbcc",
    "outputId": "8a33a08e-af89-4aaa-951f-95142900e47a"
   },
   "outputs": [
    {
     "data": {
      "text/html": [
       "<div>\n",
       "<style scoped>\n",
       "    .dataframe tbody tr th:only-of-type {\n",
       "        vertical-align: middle;\n",
       "    }\n",
       "\n",
       "    .dataframe tbody tr th {\n",
       "        vertical-align: top;\n",
       "    }\n",
       "\n",
       "    .dataframe thead th {\n",
       "        text-align: right;\n",
       "    }\n",
       "</style>\n",
       "<table border=\"1\" class=\"dataframe\">\n",
       "  <thead>\n",
       "    <tr style=\"text-align: right;\">\n",
       "      <th></th>\n",
       "      <th>0</th>\n",
       "    </tr>\n",
       "  </thead>\n",
       "  <tbody>\n",
       "    <tr>\n",
       "      <th>0</th>\n",
       "      <td>moscow</td>\n",
       "    </tr>\n",
       "    <tr>\n",
       "      <th>1</th>\n",
       "      <td>spb</td>\n",
       "    </tr>\n",
       "    <tr>\n",
       "      <th>2</th>\n",
       "      <td>moscow</td>\n",
       "    </tr>\n",
       "    <tr>\n",
       "      <th>3</th>\n",
       "      <td>spb</td>\n",
       "    </tr>\n",
       "    <tr>\n",
       "      <th>4</th>\n",
       "      <td>spb</td>\n",
       "    </tr>\n",
       "    <tr>\n",
       "      <th>5</th>\n",
       "      <td>spb</td>\n",
       "    </tr>\n",
       "    <tr>\n",
       "      <th>6</th>\n",
       "      <td>tomsk</td>\n",
       "    </tr>\n",
       "    <tr>\n",
       "      <th>7</th>\n",
       "      <td>novgorod</td>\n",
       "    </tr>\n",
       "    <tr>\n",
       "      <th>8</th>\n",
       "      <td>samara</td>\n",
       "    </tr>\n",
       "    <tr>\n",
       "      <th>9</th>\n",
       "      <td>saratov</td>\n",
       "    </tr>\n",
       "  </tbody>\n",
       "</table>\n",
       "</div>"
      ],
      "text/plain": [
       "          0\n",
       "0    moscow\n",
       "1       spb\n",
       "2    moscow\n",
       "3       spb\n",
       "4       spb\n",
       "5       spb\n",
       "6     tomsk\n",
       "7  novgorod\n",
       "8    samara\n",
       "9   saratov"
      ]
     },
     "execution_count": 171,
     "metadata": {},
     "output_type": "execute_result"
    }
   ],
   "source": [
    "from sklearn.preprocessing import OrdinalEncoder, OneHotEncoder\n",
    "\n",
    "df = pd.DataFrame([\"moscow\", \"spb\", \"moscow\", \"spb\", \"spb\", \"spb\", \"tomsk\", \"novgorod\", \"samara\", \"saratov\"])\n",
    "df"
   ]
  },
  {
   "cell_type": "code",
   "execution_count": 172,
   "id": "5e8c0002-8501-4b74-aeb9-f913b3285e33",
   "metadata": {
    "id": "5e8c0002-8501-4b74-aeb9-f913b3285e33",
    "outputId": "45d70f90-25d5-466b-b538-2e90cebcc1bf"
   },
   "outputs": [
    {
     "data": {
      "text/plain": [
       "array([[0.],\n",
       "       [4.],\n",
       "       [0.],\n",
       "       [4.],\n",
       "       [4.],\n",
       "       [4.],\n",
       "       [5.],\n",
       "       [1.],\n",
       "       [2.],\n",
       "       [3.]])"
      ]
     },
     "execution_count": 172,
     "metadata": {},
     "output_type": "execute_result"
    }
   ],
   "source": [
    "enc = OrdinalEncoder()\n",
    "enc.fit_transform(df)"
   ]
  },
  {
   "cell_type": "code",
   "execution_count": 173,
   "id": "7953eede-b601-4538-8f57-9f50c766e289",
   "metadata": {
    "id": "7953eede-b601-4538-8f57-9f50c766e289",
    "outputId": "1c1f425f-a9b7-469f-b726-1cc163f7b6ba"
   },
   "outputs": [
    {
     "data": {
      "text/plain": [
       "array([[0.],\n",
       "       [4.],\n",
       "       [0.],\n",
       "       [4.],\n",
       "       [4.],\n",
       "       [4.],\n",
       "       [5.],\n",
       "       [1.],\n",
       "       [2.],\n",
       "       [3.]])"
      ]
     },
     "execution_count": 173,
     "metadata": {},
     "output_type": "execute_result"
    }
   ],
   "source": [
    "enc = OrdinalEncoder()\n",
    "enc.fit_transform(df)"
   ]
  },
  {
   "cell_type": "markdown",
   "id": "9e0c4bd5-6a25-42c6-848d-7620991fdf10",
   "metadata": {
    "id": "9e0c4bd5-6a25-42c6-848d-7620991fdf10"
   },
   "source": [
    "Категориальные факторы: разбиваем на много бинарных (one hot encoding)\n",
    "\n",
    "city_is_moscow: 0/1, city_is_spb: 0/1, city_is_tomsk: 0/1 ..."
   ]
  },
  {
   "cell_type": "code",
   "execution_count": 174,
   "id": "06a71c60-938f-4f11-b39a-b654fd367ced",
   "metadata": {
    "id": "06a71c60-938f-4f11-b39a-b654fd367ced",
    "outputId": "ec3ce776-4a2d-40cb-bf72-b65972d18eea"
   },
   "outputs": [
    {
     "data": {
      "text/plain": [
       "[array(['moscow', 'novgorod', 'samara', 'saratov', 'spb', 'tomsk'],\n",
       "       dtype=object)]"
      ]
     },
     "execution_count": 174,
     "metadata": {},
     "output_type": "execute_result"
    }
   ],
   "source": [
    "ohe = OneHotEncoder()\n",
    "ohe.fit(df)\n",
    "ohe.categories_"
   ]
  },
  {
   "cell_type": "code",
   "execution_count": 175,
   "id": "351f24bc-19b1-482e-a25e-f876cd815ec0",
   "metadata": {
    "id": "351f24bc-19b1-482e-a25e-f876cd815ec0",
    "outputId": "c89836f1-041d-4d73-a59f-ff1f9f2c61b9"
   },
   "outputs": [
    {
     "data": {
      "text/html": [
       "<div>\n",
       "<style scoped>\n",
       "    .dataframe tbody tr th:only-of-type {\n",
       "        vertical-align: middle;\n",
       "    }\n",
       "\n",
       "    .dataframe tbody tr th {\n",
       "        vertical-align: top;\n",
       "    }\n",
       "\n",
       "    .dataframe thead tr th {\n",
       "        text-align: left;\n",
       "    }\n",
       "</style>\n",
       "<table border=\"1\" class=\"dataframe\">\n",
       "  <thead>\n",
       "    <tr>\n",
       "      <th></th>\n",
       "      <th>moscow</th>\n",
       "      <th>novgorod</th>\n",
       "      <th>samara</th>\n",
       "      <th>saratov</th>\n",
       "      <th>spb</th>\n",
       "      <th>tomsk</th>\n",
       "    </tr>\n",
       "  </thead>\n",
       "  <tbody>\n",
       "    <tr>\n",
       "      <th>0</th>\n",
       "      <td>1.0</td>\n",
       "      <td>0.0</td>\n",
       "      <td>0.0</td>\n",
       "      <td>0.0</td>\n",
       "      <td>0.0</td>\n",
       "      <td>0.0</td>\n",
       "    </tr>\n",
       "    <tr>\n",
       "      <th>1</th>\n",
       "      <td>0.0</td>\n",
       "      <td>0.0</td>\n",
       "      <td>0.0</td>\n",
       "      <td>0.0</td>\n",
       "      <td>1.0</td>\n",
       "      <td>0.0</td>\n",
       "    </tr>\n",
       "    <tr>\n",
       "      <th>2</th>\n",
       "      <td>1.0</td>\n",
       "      <td>0.0</td>\n",
       "      <td>0.0</td>\n",
       "      <td>0.0</td>\n",
       "      <td>0.0</td>\n",
       "      <td>0.0</td>\n",
       "    </tr>\n",
       "    <tr>\n",
       "      <th>3</th>\n",
       "      <td>0.0</td>\n",
       "      <td>0.0</td>\n",
       "      <td>0.0</td>\n",
       "      <td>0.0</td>\n",
       "      <td>1.0</td>\n",
       "      <td>0.0</td>\n",
       "    </tr>\n",
       "    <tr>\n",
       "      <th>4</th>\n",
       "      <td>0.0</td>\n",
       "      <td>0.0</td>\n",
       "      <td>0.0</td>\n",
       "      <td>0.0</td>\n",
       "      <td>1.0</td>\n",
       "      <td>0.0</td>\n",
       "    </tr>\n",
       "    <tr>\n",
       "      <th>5</th>\n",
       "      <td>0.0</td>\n",
       "      <td>0.0</td>\n",
       "      <td>0.0</td>\n",
       "      <td>0.0</td>\n",
       "      <td>1.0</td>\n",
       "      <td>0.0</td>\n",
       "    </tr>\n",
       "    <tr>\n",
       "      <th>6</th>\n",
       "      <td>0.0</td>\n",
       "      <td>0.0</td>\n",
       "      <td>0.0</td>\n",
       "      <td>0.0</td>\n",
       "      <td>0.0</td>\n",
       "      <td>1.0</td>\n",
       "    </tr>\n",
       "    <tr>\n",
       "      <th>7</th>\n",
       "      <td>0.0</td>\n",
       "      <td>1.0</td>\n",
       "      <td>0.0</td>\n",
       "      <td>0.0</td>\n",
       "      <td>0.0</td>\n",
       "      <td>0.0</td>\n",
       "    </tr>\n",
       "    <tr>\n",
       "      <th>8</th>\n",
       "      <td>0.0</td>\n",
       "      <td>0.0</td>\n",
       "      <td>1.0</td>\n",
       "      <td>0.0</td>\n",
       "      <td>0.0</td>\n",
       "      <td>0.0</td>\n",
       "    </tr>\n",
       "    <tr>\n",
       "      <th>9</th>\n",
       "      <td>0.0</td>\n",
       "      <td>0.0</td>\n",
       "      <td>0.0</td>\n",
       "      <td>1.0</td>\n",
       "      <td>0.0</td>\n",
       "      <td>0.0</td>\n",
       "    </tr>\n",
       "  </tbody>\n",
       "</table>\n",
       "</div>"
      ],
      "text/plain": [
       "  moscow novgorod samara saratov  spb tomsk\n",
       "0    1.0      0.0    0.0     0.0  0.0   0.0\n",
       "1    0.0      0.0    0.0     0.0  1.0   0.0\n",
       "2    1.0      0.0    0.0     0.0  0.0   0.0\n",
       "3    0.0      0.0    0.0     0.0  1.0   0.0\n",
       "4    0.0      0.0    0.0     0.0  1.0   0.0\n",
       "5    0.0      0.0    0.0     0.0  1.0   0.0\n",
       "6    0.0      0.0    0.0     0.0  0.0   1.0\n",
       "7    0.0      1.0    0.0     0.0  0.0   0.0\n",
       "8    0.0      0.0    1.0     0.0  0.0   0.0\n",
       "9    0.0      0.0    0.0     1.0  0.0   0.0"
      ]
     },
     "execution_count": 175,
     "metadata": {},
     "output_type": "execute_result"
    }
   ],
   "source": [
    "pd.DataFrame(ohe.transform(df).toarray(), columns=ohe.categories_)"
   ]
  },
  {
   "cell_type": "code",
   "execution_count": 176,
   "id": "676fc95b-dba2-431c-ba5e-6a816a60c465",
   "metadata": {
    "id": "676fc95b-dba2-431c-ba5e-6a816a60c465",
    "outputId": "82d07013-e6a2-4633-b96d-d7be6ced2d1e"
   },
   "outputs": [
    {
     "data": {
      "text/html": [
       "<div>\n",
       "<style scoped>\n",
       "    .dataframe tbody tr th:only-of-type {\n",
       "        vertical-align: middle;\n",
       "    }\n",
       "\n",
       "    .dataframe tbody tr th {\n",
       "        vertical-align: top;\n",
       "    }\n",
       "\n",
       "    .dataframe thead th {\n",
       "        text-align: right;\n",
       "    }\n",
       "</style>\n",
       "<table border=\"1\" class=\"dataframe\">\n",
       "  <thead>\n",
       "    <tr style=\"text-align: right;\">\n",
       "      <th></th>\n",
       "      <th>0_moscow</th>\n",
       "      <th>0_novgorod</th>\n",
       "      <th>0_samara</th>\n",
       "      <th>0_saratov</th>\n",
       "      <th>0_spb</th>\n",
       "      <th>0_tomsk</th>\n",
       "    </tr>\n",
       "  </thead>\n",
       "  <tbody>\n",
       "    <tr>\n",
       "      <th>0</th>\n",
       "      <td>1</td>\n",
       "      <td>0</td>\n",
       "      <td>0</td>\n",
       "      <td>0</td>\n",
       "      <td>0</td>\n",
       "      <td>0</td>\n",
       "    </tr>\n",
       "    <tr>\n",
       "      <th>1</th>\n",
       "      <td>0</td>\n",
       "      <td>0</td>\n",
       "      <td>0</td>\n",
       "      <td>0</td>\n",
       "      <td>1</td>\n",
       "      <td>0</td>\n",
       "    </tr>\n",
       "    <tr>\n",
       "      <th>2</th>\n",
       "      <td>1</td>\n",
       "      <td>0</td>\n",
       "      <td>0</td>\n",
       "      <td>0</td>\n",
       "      <td>0</td>\n",
       "      <td>0</td>\n",
       "    </tr>\n",
       "    <tr>\n",
       "      <th>3</th>\n",
       "      <td>0</td>\n",
       "      <td>0</td>\n",
       "      <td>0</td>\n",
       "      <td>0</td>\n",
       "      <td>1</td>\n",
       "      <td>0</td>\n",
       "    </tr>\n",
       "    <tr>\n",
       "      <th>4</th>\n",
       "      <td>0</td>\n",
       "      <td>0</td>\n",
       "      <td>0</td>\n",
       "      <td>0</td>\n",
       "      <td>1</td>\n",
       "      <td>0</td>\n",
       "    </tr>\n",
       "    <tr>\n",
       "      <th>5</th>\n",
       "      <td>0</td>\n",
       "      <td>0</td>\n",
       "      <td>0</td>\n",
       "      <td>0</td>\n",
       "      <td>1</td>\n",
       "      <td>0</td>\n",
       "    </tr>\n",
       "    <tr>\n",
       "      <th>6</th>\n",
       "      <td>0</td>\n",
       "      <td>0</td>\n",
       "      <td>0</td>\n",
       "      <td>0</td>\n",
       "      <td>0</td>\n",
       "      <td>1</td>\n",
       "    </tr>\n",
       "    <tr>\n",
       "      <th>7</th>\n",
       "      <td>0</td>\n",
       "      <td>1</td>\n",
       "      <td>0</td>\n",
       "      <td>0</td>\n",
       "      <td>0</td>\n",
       "      <td>0</td>\n",
       "    </tr>\n",
       "    <tr>\n",
       "      <th>8</th>\n",
       "      <td>0</td>\n",
       "      <td>0</td>\n",
       "      <td>1</td>\n",
       "      <td>0</td>\n",
       "      <td>0</td>\n",
       "      <td>0</td>\n",
       "    </tr>\n",
       "    <tr>\n",
       "      <th>9</th>\n",
       "      <td>0</td>\n",
       "      <td>0</td>\n",
       "      <td>0</td>\n",
       "      <td>1</td>\n",
       "      <td>0</td>\n",
       "      <td>0</td>\n",
       "    </tr>\n",
       "  </tbody>\n",
       "</table>\n",
       "</div>"
      ],
      "text/plain": [
       "   0_moscow  0_novgorod  0_samara  0_saratov  0_spb  0_tomsk\n",
       "0         1           0         0          0      0        0\n",
       "1         0           0         0          0      1        0\n",
       "2         1           0         0          0      0        0\n",
       "3         0           0         0          0      1        0\n",
       "4         0           0         0          0      1        0\n",
       "5         0           0         0          0      1        0\n",
       "6         0           0         0          0      0        1\n",
       "7         0           1         0          0      0        0\n",
       "8         0           0         1          0      0        0\n",
       "9         0           0         0          1      0        0"
      ]
     },
     "execution_count": 176,
     "metadata": {},
     "output_type": "execute_result"
    }
   ],
   "source": [
    "pd.get_dummies(df)"
   ]
  },
  {
   "cell_type": "markdown",
   "id": "4ac6376d-7104-47ec-9145-1b990a83ab04",
   "metadata": {
    "id": "4ac6376d-7104-47ec-9145-1b990a83ab04"
   },
   "source": [
    "Цикличные факторы: время дня => позиция на циферблате => sin, cos угла"
   ]
  },
  {
   "cell_type": "markdown",
   "id": "77eaa6ac-9c12-4927-a822-b53bd93fe492",
   "metadata": {
    "id": "77eaa6ac-9c12-4927-a822-b53bd93fe492"
   },
   "source": [
    "# Создание новых признаков"
   ]
  },
  {
   "cell_type": "markdown",
   "id": "e8febd74-ba38-4fbe-ad6a-0b8a0763f3f6",
   "metadata": {
    "id": "e8febd74-ba38-4fbe-ad6a-0b8a0763f3f6"
   },
   "source": [
    "Полиномиальные признаки"
   ]
  },
  {
   "cell_type": "code",
   "execution_count": 177,
   "id": "50f5925c-22c8-4899-9ff5-2dd2abbf8dfe",
   "metadata": {
    "id": "50f5925c-22c8-4899-9ff5-2dd2abbf8dfe"
   },
   "outputs": [],
   "source": [
    "from sklearn.preprocessing import PolynomialFeatures"
   ]
  },
  {
   "cell_type": "code",
   "execution_count": 178,
   "id": "0c66baa7-de9a-449b-9433-2d4cca7b8876",
   "metadata": {
    "id": "0c66baa7-de9a-449b-9433-2d4cca7b8876",
    "outputId": "2895fe97-580c-41c2-d9d2-0232b144e712"
   },
   "outputs": [
    {
     "data": {
      "text/plain": [
       "array([[0, 1],\n",
       "       [2, 3],\n",
       "       [4, 5]])"
      ]
     },
     "execution_count": 178,
     "metadata": {},
     "output_type": "execute_result"
    }
   ],
   "source": [
    "X = np.arange(6).reshape(3, 2)\n",
    "X"
   ]
  },
  {
   "cell_type": "code",
   "execution_count": 179,
   "id": "c86a0668-e323-409d-bd54-8cbdb1947a2e",
   "metadata": {
    "id": "c86a0668-e323-409d-bd54-8cbdb1947a2e",
    "outputId": "45fa7e88-6faa-46b3-98c8-3074cb641550"
   },
   "outputs": [
    {
     "data": {
      "text/plain": [
       "array([[ 1.,  0.,  1.,  0.,  0.,  1.],\n",
       "       [ 1.,  2.,  3.,  4.,  6.,  9.],\n",
       "       [ 1.,  4.,  5., 16., 20., 25.]])"
      ]
     },
     "execution_count": 179,
     "metadata": {},
     "output_type": "execute_result"
    }
   ],
   "source": [
    "poly = PolynomialFeatures(2)\n",
    "poly.fit_transform(X)"
   ]
  },
  {
   "cell_type": "markdown",
   "id": "ac69912d-ee40-457f-b00a-cd27e098bd87",
   "metadata": {
    "id": "ac69912d-ee40-457f-b00a-cd27e098bd87"
   },
   "source": [
    "Другие преобразования: sin x, ln x"
   ]
  },
  {
   "cell_type": "markdown",
   "id": "32aa6592-4735-49b9-8e86-251e90c57ec8",
   "metadata": {
    "id": "32aa6592-4735-49b9-8e86-251e90c57ec8"
   },
   "source": [
    "Дискретизация и группировка по интервалам"
   ]
  },
  {
   "cell_type": "code",
   "execution_count": 180,
   "id": "3aa1155a-4039-4cfd-b688-74e8090b8311",
   "metadata": {
    "id": "3aa1155a-4039-4cfd-b688-74e8090b8311",
    "outputId": "6faed653-be85-4bfe-df29-a2da36ebaa06"
   },
   "outputs": [
    {
     "data": {
      "text/plain": [
       "array([[<AxesSubplot:title={'center':'0'}>]], dtype=object)"
      ]
     },
     "execution_count": 180,
     "metadata": {},
     "output_type": "execute_result"
    },
    {
     "data": {
      "image/png": "[encoded data removed]",
      "text/plain": [
       "<Figure size 640x480 with 1 Axes>"
      ]
     },
     "metadata": {},
     "output_type": "display_data"
    }
   ],
   "source": [
    "ages = [20, 22, 25, 27, 21, 23, 37, 31, 61, 45, 41, 32]\n",
    "pd.DataFrame(ages).hist()"
   ]
  },
  {
   "cell_type": "code",
   "execution_count": 181,
   "id": "dca07e95-cb46-4c96-ac2e-6362f21a2369",
   "metadata": {
    "id": "dca07e95-cb46-4c96-ac2e-6362f21a2369",
    "outputId": "69626adc-6d12-41c7-d4b4-d0b2e73f877a"
   },
   "outputs": [
    {
     "data": {
      "text/plain": [
       "[(18, 25], (18, 25], (18, 25], (25, 35], (18, 25], ..., (25, 35], (60, 100], (35, 60], (35, 60], (25, 35]]\n",
       "Length: 12\n",
       "Categories (4, interval[int64, right]): [(18, 25] < (25, 35] < (35, 60] < (60, 100]]"
      ]
     },
     "execution_count": 181,
     "metadata": {},
     "output_type": "execute_result"
    }
   ],
   "source": [
    "bins = [18, 25, 35, 60, 100]\n",
    "age_categories = pd.cut(ages, bins)\n",
    "age_categories"
   ]
  },
  {
   "cell_type": "code",
   "execution_count": 182,
   "id": "baa240fe-6b8c-448b-b4da-18d031483166",
   "metadata": {
    "id": "baa240fe-6b8c-448b-b4da-18d031483166",
    "outputId": "a8a27c78-e9b9-4aaf-a325-f17fb890b760"
   },
   "outputs": [
    {
     "data": {
      "text/plain": [
       "array([0, 0, 0, 1, 0, 0, 2, 1, 3, 2, 2, 1], dtype=int8)"
      ]
     },
     "execution_count": 182,
     "metadata": {},
     "output_type": "execute_result"
    }
   ],
   "source": [
    "age_categories.codes"
   ]
  },
  {
   "cell_type": "markdown",
   "id": "585a6212-f38e-4075-9e22-4db4f63ff738",
   "metadata": {
    "id": "585a6212-f38e-4075-9e22-4db4f63ff738"
   },
   "source": [
    "# Преобразование данных"
   ]
  },
  {
   "cell_type": "markdown",
   "id": "2d222c6f-ee6e-4041-9e8b-c25a50398a26",
   "metadata": {
    "id": "2d222c6f-ee6e-4041-9e8b-c25a50398a26"
   },
   "source": [
    "Приведение к единой шкале: StandardScaler, MinMaxScaler"
   ]
  },
  {
   "cell_type": "code",
   "execution_count": 183,
   "id": "b92a017c-843a-4bcf-afba-285402875a54",
   "metadata": {
    "id": "b92a017c-843a-4bcf-afba-285402875a54",
    "outputId": "55fd1c42-721b-4b35-f075-1e05e460fc7e"
   },
   "outputs": [
    {
     "data": {
      "text/plain": [
       "array([[0.  , 0.  ],\n",
       "       [0.25, 0.25],\n",
       "       [0.5 , 0.5 ],\n",
       "       [1.  , 1.  ]])"
      ]
     },
     "execution_count": 183,
     "metadata": {},
     "output_type": "execute_result"
    }
   ],
   "source": [
    "from sklearn.preprocessing import MinMaxScaler, StandardScaler\n",
    "data = [[-1, 2], [-0.5, 6], [0, 10], [1, 18]]\n",
    "scaler = MinMaxScaler()\n",
    "scaler.fit_transform(data)"
   ]
  },
  {
   "cell_type": "code",
   "execution_count": 184,
   "id": "ef46712e-8843-4541-be10-8d70f8ecfbaf",
   "metadata": {
    "id": "ef46712e-8843-4541-be10-8d70f8ecfbaf",
    "outputId": "af90028d-4e6e-48bc-f72a-366071878897"
   },
   "outputs": [
    {
     "data": {
      "text/plain": [
       "array([[-1.18321596, -1.18321596],\n",
       "       [-0.50709255, -0.50709255],\n",
       "       [ 0.16903085,  0.16903085],\n",
       "       [ 1.52127766,  1.52127766]])"
      ]
     },
     "execution_count": 184,
     "metadata": {},
     "output_type": "execute_result"
    }
   ],
   "source": [
    "scaler = StandardScaler()\n",
    "scaler.fit_transform(data)"
   ]
  },
  {
   "cell_type": "markdown",
   "id": "6bcbefe2-9c43-49e3-b8df-573e62d6423b",
   "metadata": {
    "id": "6bcbefe2-9c43-49e3-b8df-573e62d6423b"
   },
   "source": [
    "Логарифмирование, преобразование Бокса-Кокса"
   ]
  },
  {
   "cell_type": "code",
   "execution_count": 185,
   "id": "604e42de-1f57-41bf-ab4a-593edeeb7590",
   "metadata": {
    "id": "604e42de-1f57-41bf-ab4a-593edeeb7590",
    "outputId": "bb0f1f43-76c6-4be4-ad18-8669b0626995"
   },
   "outputs": [
    {
     "name": "stderr",
     "output_type": "stream",
     "text": [
      "C:\\Users\\An_to\\anaconda3\\lib\\site-packages\\seaborn\\distributions.py:2619: FutureWarning: `distplot` is a deprecated function and will be removed in a future version. Please adapt your code to use either `displot` (a figure-level function with similar flexibility) or `kdeplot` (an axes-level function for kernel density plots).\n",
      "  warnings.warn(msg, FutureWarning)\n"
     ]
    },
    {
     "data": {
      "text/plain": [
       "<AxesSubplot:ylabel='Density'>"
      ]
     },
     "execution_count": 185,
     "metadata": {},
     "output_type": "execute_result"
    },
    {
     "data": {
      "image/png": "[encoded data removed]",
      "text/plain": [
       "<Figure size 640x480 with 1 Axes>"
      ]
     },
     "metadata": {},
     "output_type": "display_data"
    }
   ],
   "source": [
    "from scipy. stats import boxcox\n",
    "\n",
    "data = np.random.exponential(size= 1000)\n",
    "sns.distplot(data, hist= False, kde= True)"
   ]
  },
  {
   "cell_type": "code",
   "execution_count": 186,
   "id": "96781df3-e5ab-46e9-87bb-22a22e307dbb",
   "metadata": {
    "id": "96781df3-e5ab-46e9-87bb-22a22e307dbb",
    "outputId": "e3a99cfd-2428-4742-f74d-23ffbb37cb0b"
   },
   "outputs": [
    {
     "name": "stderr",
     "output_type": "stream",
     "text": [
      "C:\\Users\\An_to\\anaconda3\\lib\\site-packages\\seaborn\\distributions.py:2619: FutureWarning: `distplot` is a deprecated function and will be removed in a future version. Please adapt your code to use either `displot` (a figure-level function with similar flexibility) or `kdeplot` (an axes-level function for kernel density plots).\n",
      "  warnings.warn(msg, FutureWarning)\n"
     ]
    },
    {
     "data": {
      "text/plain": [
       "<AxesSubplot:ylabel='Density'>"
      ]
     },
     "execution_count": 186,
     "metadata": {},
     "output_type": "execute_result"
    },
    {
     "data": {
      "image/png": "[encoded data removed]",
      "text/plain": [
       "<Figure size 640x480 with 1 Axes>"
      ]
     },
     "metadata": {},
     "output_type": "display_data"
    }
   ],
   "source": [
    "transformed_data = np.log(data)\n",
    "sns.distplot(transformed_data, hist=False, kde=True)"
   ]
  },
  {
   "cell_type": "code",
   "execution_count": 187,
   "id": "9a13da8f-35f1-4d08-bc3a-3fb90b302bc2",
   "metadata": {
    "id": "9a13da8f-35f1-4d08-bc3a-3fb90b302bc2",
    "outputId": "3434475d-e7c9-46dd-e65b-c337d40f5ae3"
   },
   "outputs": [
    {
     "name": "stderr",
     "output_type": "stream",
     "text": [
      "C:\\Users\\An_to\\anaconda3\\lib\\site-packages\\seaborn\\distributions.py:2619: FutureWarning: `distplot` is a deprecated function and will be removed in a future version. Please adapt your code to use either `displot` (a figure-level function with similar flexibility) or `kdeplot` (an axes-level function for kernel density plots).\n",
      "  warnings.warn(msg, FutureWarning)\n"
     ]
    },
    {
     "data": {
      "text/plain": [
       "<AxesSubplot:ylabel='Density'>"
      ]
     },
     "execution_count": 187,
     "metadata": {},
     "output_type": "execute_result"
    },
    {
     "data": {
      "image/png": "[encoded data removed]",
      "text/plain": [
       "<Figure size 640x480 with 1 Axes>"
      ]
     },
     "metadata": {},
     "output_type": "display_data"
    }
   ],
   "source": [
    "transformed_data, best_lambda = boxcox(data)\n",
    "\n",
    "sns.distplot(transformed_data, hist=False , kde=True)"
   ]
  },
  {
   "cell_type": "code",
   "execution_count": 188,
   "id": "e5cdd77b-ad3f-496c-9263-055f4caa1bc9",
   "metadata": {
    "id": "e5cdd77b-ad3f-496c-9263-055f4caa1bc9",
    "outputId": "a79261a9-eb3c-42d5-f46c-c3b43bdb2107"
   },
   "outputs": [
    {
     "data": {
      "text/plain": [
       "0.29645107418588684"
      ]
     },
     "execution_count": 188,
     "metadata": {},
     "output_type": "execute_result"
    }
   ],
   "source": [
    "best_lambda"
   ]
  },
  {
   "cell_type": "markdown",
   "id": "682fe102-6387-40c9-9dd1-51ce07fdf058",
   "metadata": {
    "id": "682fe102-6387-40c9-9dd1-51ce07fdf058"
   },
   "source": [
    "# Домашнее задание"
   ]
  },
  {
   "cell_type": "code",
   "execution_count": 2,
   "id": "b4fde0e8-d4c8-4c23-99d9-2d84a69425a6",
   "metadata": {
    "id": "b4fde0e8-d4c8-4c23-99d9-2d84a69425a6"
   },
   "outputs": [],
   "source": [
    "df = pd.read_csv(\"https://raw.githubusercontent.com/katarina74/ml_lessons/main/lesson_2/data/techparams_train.csv\")"
   ]
  },
  {
   "cell_type": "code",
   "execution_count": 3,
   "id": "2458e2b0-dbac-4061-8c54-6522aad198be",
   "metadata": {
    "id": "2458e2b0-dbac-4061-8c54-6522aad198be",
    "outputId": "5d7021b4-d8be-4e3f-9c8d-0062f01a9f75"
   },
   "outputs": [
    {
     "data": {
      "text/html": [
       "<div>\n",
       "<style scoped>\n",
       "    .dataframe tbody tr th:only-of-type {\n",
       "        vertical-align: middle;\n",
       "    }\n",
       "\n",
       "    .dataframe tbody tr th {\n",
       "        vertical-align: top;\n",
       "    }\n",
       "\n",
       "    .dataframe thead th {\n",
       "        text-align: right;\n",
       "    }\n",
       "</style>\n",
       "<table border=\"1\" class=\"dataframe\">\n",
       "  <thead>\n",
       "    <tr style=\"text-align: right;\">\n",
       "      <th></th>\n",
       "      <th>index</th>\n",
       "      <th>back-suspension</th>\n",
       "      <th>battery-capacity</th>\n",
       "      <th>charge-time</th>\n",
       "      <th>compression</th>\n",
       "      <th>consumption-mixed</th>\n",
       "      <th>cylinders-order</th>\n",
       "      <th>cylinders-value</th>\n",
       "      <th>engine-feeding</th>\n",
       "      <th>engine-start</th>\n",
       "      <th>...</th>\n",
       "      <th>configurations_front-brake</th>\n",
       "      <th>configurations_safety-rating</th>\n",
       "      <th>configurations_seats</th>\n",
       "      <th>configurations_tank-volume</th>\n",
       "      <th>supergen_year-stop</th>\n",
       "      <th>models_country-from</th>\n",
       "      <th>models_group</th>\n",
       "      <th>models_light-and-commercial</th>\n",
       "      <th>models_male</th>\n",
       "      <th>target</th>\n",
       "    </tr>\n",
       "  </thead>\n",
       "  <tbody>\n",
       "    <tr>\n",
       "      <th>0</th>\n",
       "      <td>0</td>\n",
       "      <td>9</td>\n",
       "      <td>-1.0</td>\n",
       "      <td>36457</td>\n",
       "      <td>9.0</td>\n",
       "      <td>4.3</td>\n",
       "      <td>0</td>\n",
       "      <td>3</td>\n",
       "      <td>4</td>\n",
       "      <td>2006</td>\n",
       "      <td>...</td>\n",
       "      <td>1</td>\n",
       "      <td>2</td>\n",
       "      <td>13</td>\n",
       "      <td>40.0</td>\n",
       "      <td>2018.0</td>\n",
       "      <td>16</td>\n",
       "      <td>3</td>\n",
       "      <td>0</td>\n",
       "      <td>1</td>\n",
       "      <td>2360</td>\n",
       "    </tr>\n",
       "    <tr>\n",
       "      <th>1</th>\n",
       "      <td>2</td>\n",
       "      <td>3</td>\n",
       "      <td>-1.0</td>\n",
       "      <td>44872</td>\n",
       "      <td>8.0</td>\n",
       "      <td>-1.0</td>\n",
       "      <td>3</td>\n",
       "      <td>7</td>\n",
       "      <td>4</td>\n",
       "      <td>1982</td>\n",
       "      <td>...</td>\n",
       "      <td>4</td>\n",
       "      <td>2</td>\n",
       "      <td>13</td>\n",
       "      <td>108.0</td>\n",
       "      <td>1993.0</td>\n",
       "      <td>34</td>\n",
       "      <td>3</td>\n",
       "      <td>0</td>\n",
       "      <td>1</td>\n",
       "      <td>3060</td>\n",
       "    </tr>\n",
       "    <tr>\n",
       "      <th>2</th>\n",
       "      <td>4</td>\n",
       "      <td>3</td>\n",
       "      <td>-1.0</td>\n",
       "      <td>55927</td>\n",
       "      <td>16.0</td>\n",
       "      <td>4.2</td>\n",
       "      <td>0</td>\n",
       "      <td>4</td>\n",
       "      <td>5</td>\n",
       "      <td>2014</td>\n",
       "      <td>...</td>\n",
       "      <td>4</td>\n",
       "      <td>2</td>\n",
       "      <td>13</td>\n",
       "      <td>55.0</td>\n",
       "      <td>2019.0</td>\n",
       "      <td>35</td>\n",
       "      <td>3</td>\n",
       "      <td>0</td>\n",
       "      <td>1</td>\n",
       "      <td>2648</td>\n",
       "    </tr>\n",
       "    <tr>\n",
       "      <th>3</th>\n",
       "      <td>5</td>\n",
       "      <td>0</td>\n",
       "      <td>-1.0</td>\n",
       "      <td>41405</td>\n",
       "      <td>10.3</td>\n",
       "      <td>-1.0</td>\n",
       "      <td>0</td>\n",
       "      <td>4</td>\n",
       "      <td>4</td>\n",
       "      <td>2000</td>\n",
       "      <td>...</td>\n",
       "      <td>4</td>\n",
       "      <td>2</td>\n",
       "      <td>13</td>\n",
       "      <td>55.0</td>\n",
       "      <td>2003.0</td>\n",
       "      <td>10</td>\n",
       "      <td>3</td>\n",
       "      <td>0</td>\n",
       "      <td>1</td>\n",
       "      <td>2513</td>\n",
       "    </tr>\n",
       "    <tr>\n",
       "      <th>4</th>\n",
       "      <td>7</td>\n",
       "      <td>8</td>\n",
       "      <td>-1.0</td>\n",
       "      <td>22523</td>\n",
       "      <td>19.0</td>\n",
       "      <td>-1.0</td>\n",
       "      <td>0</td>\n",
       "      <td>4</td>\n",
       "      <td>8</td>\n",
       "      <td>2000</td>\n",
       "      <td>...</td>\n",
       "      <td>4</td>\n",
       "      <td>1</td>\n",
       "      <td>13</td>\n",
       "      <td>62.0</td>\n",
       "      <td>2005.0</td>\n",
       "      <td>10</td>\n",
       "      <td>3</td>\n",
       "      <td>0</td>\n",
       "      <td>1</td>\n",
       "      <td>2703</td>\n",
       "    </tr>\n",
       "    <tr>\n",
       "      <th>...</th>\n",
       "      <td>...</td>\n",
       "      <td>...</td>\n",
       "      <td>...</td>\n",
       "      <td>...</td>\n",
       "      <td>...</td>\n",
       "      <td>...</td>\n",
       "      <td>...</td>\n",
       "      <td>...</td>\n",
       "      <td>...</td>\n",
       "      <td>...</td>\n",
       "      <td>...</td>\n",
       "      <td>...</td>\n",
       "      <td>...</td>\n",
       "      <td>...</td>\n",
       "      <td>...</td>\n",
       "      <td>...</td>\n",
       "      <td>...</td>\n",
       "      <td>...</td>\n",
       "      <td>...</td>\n",
       "      <td>...</td>\n",
       "      <td>...</td>\n",
       "    </tr>\n",
       "    <tr>\n",
       "      <th>43240</th>\n",
       "      <td>61224</td>\n",
       "      <td>9</td>\n",
       "      <td>-1.0</td>\n",
       "      <td>34558</td>\n",
       "      <td>11.2</td>\n",
       "      <td>6.6</td>\n",
       "      <td>0</td>\n",
       "      <td>4</td>\n",
       "      <td>4</td>\n",
       "      <td>2004</td>\n",
       "      <td>...</td>\n",
       "      <td>1</td>\n",
       "      <td>2</td>\n",
       "      <td>13</td>\n",
       "      <td>47.0</td>\n",
       "      <td>2016.0</td>\n",
       "      <td>15</td>\n",
       "      <td>3</td>\n",
       "      <td>0</td>\n",
       "      <td>1</td>\n",
       "      <td>2510</td>\n",
       "    </tr>\n",
       "    <tr>\n",
       "      <th>43241</th>\n",
       "      <td>61225</td>\n",
       "      <td>3</td>\n",
       "      <td>-1.0</td>\n",
       "      <td>38268</td>\n",
       "      <td>9.6</td>\n",
       "      <td>5.8</td>\n",
       "      <td>0</td>\n",
       "      <td>4</td>\n",
       "      <td>2</td>\n",
       "      <td>2013</td>\n",
       "      <td>...</td>\n",
       "      <td>4</td>\n",
       "      <td>2</td>\n",
       "      <td>13</td>\n",
       "      <td>65.0</td>\n",
       "      <td>2015.0</td>\n",
       "      <td>10</td>\n",
       "      <td>3</td>\n",
       "      <td>0</td>\n",
       "      <td>1</td>\n",
       "      <td>2808</td>\n",
       "    </tr>\n",
       "    <tr>\n",
       "      <th>43242</th>\n",
       "      <td>61226</td>\n",
       "      <td>3</td>\n",
       "      <td>-1.0</td>\n",
       "      <td>8958</td>\n",
       "      <td>10.0</td>\n",
       "      <td>9.3</td>\n",
       "      <td>0</td>\n",
       "      <td>4</td>\n",
       "      <td>4</td>\n",
       "      <td>1991</td>\n",
       "      <td>...</td>\n",
       "      <td>4</td>\n",
       "      <td>2</td>\n",
       "      <td>13</td>\n",
       "      <td>55.0</td>\n",
       "      <td>1999.0</td>\n",
       "      <td>16</td>\n",
       "      <td>3</td>\n",
       "      <td>0</td>\n",
       "      <td>1</td>\n",
       "      <td>2520</td>\n",
       "    </tr>\n",
       "    <tr>\n",
       "      <th>43243</th>\n",
       "      <td>61227</td>\n",
       "      <td>3</td>\n",
       "      <td>-1.0</td>\n",
       "      <td>20293</td>\n",
       "      <td>8.5</td>\n",
       "      <td>-1.0</td>\n",
       "      <td>0</td>\n",
       "      <td>5</td>\n",
       "      <td>4</td>\n",
       "      <td>2002</td>\n",
       "      <td>...</td>\n",
       "      <td>1</td>\n",
       "      <td>2</td>\n",
       "      <td>13</td>\n",
       "      <td>70.0</td>\n",
       "      <td>2004.0</td>\n",
       "      <td>28</td>\n",
       "      <td>3</td>\n",
       "      <td>0</td>\n",
       "      <td>1</td>\n",
       "      <td>2755</td>\n",
       "    </tr>\n",
       "    <tr>\n",
       "      <th>43244</th>\n",
       "      <td>61228</td>\n",
       "      <td>10</td>\n",
       "      <td>-1.0</td>\n",
       "      <td>52459</td>\n",
       "      <td>8.6</td>\n",
       "      <td>-1.0</td>\n",
       "      <td>0</td>\n",
       "      <td>4</td>\n",
       "      <td>4</td>\n",
       "      <td>1982</td>\n",
       "      <td>...</td>\n",
       "      <td>1</td>\n",
       "      <td>2</td>\n",
       "      <td>8</td>\n",
       "      <td>-1.0</td>\n",
       "      <td>1987.0</td>\n",
       "      <td>16</td>\n",
       "      <td>3</td>\n",
       "      <td>0</td>\n",
       "      <td>0</td>\n",
       "      <td>2620</td>\n",
       "    </tr>\n",
       "  </tbody>\n",
       "</table>\n",
       "<p>43245 rows × 32 columns</p>\n",
       "</div>"
      ],
      "text/plain": [
       "       index  back-suspension  battery-capacity  charge-time  compression  \\\n",
       "0          0                9              -1.0        36457          9.0   \n",
       "1          2                3              -1.0        44872          8.0   \n",
       "2          4                3              -1.0        55927         16.0   \n",
       "3          5                0              -1.0        41405         10.3   \n",
       "4          7                8              -1.0        22523         19.0   \n",
       "...      ...              ...               ...          ...          ...   \n",
       "43240  61224                9              -1.0        34558         11.2   \n",
       "43241  61225                3              -1.0        38268          9.6   \n",
       "43242  61226                3              -1.0         8958         10.0   \n",
       "43243  61227                3              -1.0        20293          8.5   \n",
       "43244  61228               10              -1.0        52459          8.6   \n",
       "\n",
       "       consumption-mixed  cylinders-order  cylinders-value  engine-feeding  \\\n",
       "0                    4.3                0                3               4   \n",
       "1                   -1.0                3                7               4   \n",
       "2                    4.2                0                4               5   \n",
       "3                   -1.0                0                4               4   \n",
       "4                   -1.0                0                4               8   \n",
       "...                  ...              ...              ...             ...   \n",
       "43240                6.6                0                4               4   \n",
       "43241                5.8                0                4               2   \n",
       "43242                9.3                0                4               4   \n",
       "43243               -1.0                0                5               4   \n",
       "43244               -1.0                0                4               4   \n",
       "\n",
       "       engine-start  ...  configurations_front-brake  \\\n",
       "0              2006  ...                           1   \n",
       "1              1982  ...                           4   \n",
       "2              2014  ...                           4   \n",
       "3              2000  ...                           4   \n",
       "4              2000  ...                           4   \n",
       "...             ...  ...                         ...   \n",
       "43240          2004  ...                           1   \n",
       "43241          2013  ...                           4   \n",
       "43242          1991  ...                           4   \n",
       "43243          2002  ...                           1   \n",
       "43244          1982  ...                           1   \n",
       "\n",
       "       configurations_safety-rating  configurations_seats  \\\n",
       "0                                 2                    13   \n",
       "1                                 2                    13   \n",
       "2                                 2                    13   \n",
       "3                                 2                    13   \n",
       "4                                 1                    13   \n",
       "...                             ...                   ...   \n",
       "43240                             2                    13   \n",
       "43241                             2                    13   \n",
       "43242                             2                    13   \n",
       "43243                             2                    13   \n",
       "43244                             2                     8   \n",
       "\n",
       "       configurations_tank-volume  supergen_year-stop  models_country-from  \\\n",
       "0                            40.0              2018.0                   16   \n",
       "1                           108.0              1993.0                   34   \n",
       "2                            55.0              2019.0                   35   \n",
       "3                            55.0              2003.0                   10   \n",
       "4                            62.0              2005.0                   10   \n",
       "...                           ...                 ...                  ...   \n",
       "43240                        47.0              2016.0                   15   \n",
       "43241                        65.0              2015.0                   10   \n",
       "43242                        55.0              1999.0                   16   \n",
       "43243                        70.0              2004.0                   28   \n",
       "43244                        -1.0              1987.0                   16   \n",
       "\n",
       "       models_group  models_light-and-commercial  models_male  target  \n",
       "0                 3                            0            1    2360  \n",
       "1                 3                            0            1    3060  \n",
       "2                 3                            0            1    2648  \n",
       "3                 3                            0            1    2513  \n",
       "4                 3                            0            1    2703  \n",
       "...             ...                          ...          ...     ...  \n",
       "43240             3                            0            1    2510  \n",
       "43241             3                            0            1    2808  \n",
       "43242             3                            0            1    2520  \n",
       "43243             3                            0            1    2755  \n",
       "43244             3                            0            0    2620  \n",
       "\n",
       "[43245 rows x 32 columns]"
      ]
     },
     "execution_count": 3,
     "metadata": {},
     "output_type": "execute_result"
    }
   ],
   "source": [
    "df"
   ]
  },
  {
   "cell_type": "markdown",
   "id": "fdbe8986-3152-4eee-bc60-a83551afee1e",
   "metadata": {
    "id": "fdbe8986-3152-4eee-bc60-a83551afee1e"
   },
   "source": [
    "Данные: технические характеристики разных конфигураций автомобилей\n",
    "\n",
    "Таргет: длина колесной базы конфигурации (в миллиметрах)."
   ]
  },
  {
   "cell_type": "markdown",
   "id": "bc8d20f3-a6db-4e6c-be0c-d92bfbd393af",
   "metadata": {
    "id": "bc8d20f3-a6db-4e6c-be0c-d92bfbd393af"
   },
   "source": [
    "## Baseline"
   ]
  },
  {
   "cell_type": "code",
   "execution_count": 4,
   "id": "22039f8f-d6d8-4998-8ec1-3b83facf013f",
   "metadata": {
    "id": "22039f8f-d6d8-4998-8ec1-3b83facf013f"
   },
   "outputs": [],
   "source": [
    "from sklearn.model_selection import train_test_split\n",
    "from sklearn.linear_model import LinearRegression\n",
    "from sklearn.metrics import mean_squared_error\n",
    "from sklearn.model_selection import cross_validate"
   ]
  },
  {
   "cell_type": "code",
   "execution_count": 5,
   "id": "261c2445-1dd7-465c-8d43-54556629ff7c",
   "metadata": {
    "id": "261c2445-1dd7-465c-8d43-54556629ff7c"
   },
   "outputs": [],
   "source": [
    "X = df.drop([\"target\"], axis=1)\n",
    "y = df[[\"target\"]]\n",
    "train_X, test_X, train_y, test_y = train_test_split(X, y, test_size=0.33, random_state=42)"
   ]
  },
  {
   "cell_type": "code",
   "execution_count": 6,
   "id": "9b2185ba-3b32-4aa6-bcde-6979aa1f3cdb",
   "metadata": {
    "id": "9b2185ba-3b32-4aa6-bcde-6979aa1f3cdb"
   },
   "outputs": [],
   "source": [
    "reg = LinearRegression().fit(train_X, train_y)"
   ]
  },
  {
   "cell_type": "code",
   "execution_count": 7,
   "id": "0c088b49-4516-4abb-820a-aadaaf26b8c5",
   "metadata": {
    "id": "0c088b49-4516-4abb-820a-aadaaf26b8c5",
    "outputId": "e488be9f-4582-4c44-8f56-cddab7138b27"
   },
   "outputs": [
    {
     "data": {
      "text/plain": [
       "0.4555406785040048"
      ]
     },
     "execution_count": 7,
     "metadata": {},
     "output_type": "execute_result"
    }
   ],
   "source": [
    "reg.score(train_X, train_y)"
   ]
  },
  {
   "cell_type": "code",
   "execution_count": 8,
   "id": "06bd1b1d-3d5a-4c8b-aaf2-db6167e88c38",
   "metadata": {
    "id": "06bd1b1d-3d5a-4c8b-aaf2-db6167e88c38",
    "outputId": "cd7f31e7-0b5a-4ae0-f5aa-6b3b88d6ad44"
   },
   "outputs": [
    {
     "data": {
      "text/plain": [
       "29840.1212508653"
      ]
     },
     "execution_count": 8,
     "metadata": {},
     "output_type": "execute_result"
    }
   ],
   "source": [
    "mean_squared_error(reg.predict(train_X), train_y)"
   ]
  },
  {
   "cell_type": "code",
   "execution_count": 9,
   "id": "c585389b-8f2a-43c2-82bc-54ce4b2567f8",
   "metadata": {
    "id": "c585389b-8f2a-43c2-82bc-54ce4b2567f8"
   },
   "outputs": [],
   "source": [
    "scores = cross_validate(reg, train_X, train_y, cv=3,\n",
    "                        scoring=('neg_mean_squared_error'))"
   ]
  },
  {
   "cell_type": "code",
   "execution_count": 10,
   "id": "270f6960-1a6b-40f7-b096-8c1a6f28d1e1",
   "metadata": {
    "id": "270f6960-1a6b-40f7-b096-8c1a6f28d1e1",
    "outputId": "9a071f4e-77a1-4ee1-e7a9-c56c6b3dcf06"
   },
   "outputs": [
    {
     "data": {
      "text/plain": [
       "{'fit_time': array([0.02002668, 0.01801705, 0.01800346]),\n",
       " 'score_time': array([0.00400138, 0.00398993, 0.00300145]),\n",
       " 'test_score': array([-29836.8590711 , -29618.75539267, -30344.6536926 ])}"
      ]
     },
     "execution_count": 10,
     "metadata": {},
     "output_type": "execute_result"
    }
   ],
   "source": [
    "scores"
   ]
  },
  {
   "cell_type": "code",
   "execution_count": 11,
   "id": "5d643c2b-41f4-47c8-8eb8-3c2d8aba6a33",
   "metadata": {
    "id": "5d643c2b-41f4-47c8-8eb8-3c2d8aba6a33",
    "outputId": "77c0fc25-d2b7-46f2-f717-7ea9cf819799"
   },
   "outputs": [
    {
     "data": {
      "text/plain": [
       "31021.02439985445"
      ]
     },
     "execution_count": 11,
     "metadata": {},
     "output_type": "execute_result"
    }
   ],
   "source": [
    "mean_squared_error(reg.predict(test_X), test_y)"
   ]
  },
  {
   "cell_type": "markdown",
   "id": "b13d4dfa",
   "metadata": {
    "id": "0a52517d-4ce1-49da-97af-4bfcfa996382"
   },
   "source": [
    "Такая большая ошибка объяснена тем, что в модель включены все факторы из датасета. Отберем факторы, которые наиболее связаны с target"
   ]
  },
  {
   "cell_type": "code",
   "execution_count": 12,
   "id": "8e5b7cba",
   "metadata": {},
   "outputs": [
    {
     "data": {
      "text/plain": [
       "target                            1.000000\n",
       "configurations_tank-volume        0.472369\n",
       "configurations_back-wheel-base    0.460047\n",
       "weight                            0.435184\n",
       "cylinders-value                   0.398461\n",
       "cylinders-order                   0.281705\n",
       "configurations_seats              0.246602\n",
       "max-speed                         0.200088\n",
       "configurations_front-brake        0.194505\n",
       "engine-start                      0.187190\n",
       "consumption-mixed                 0.123697\n",
       "models_male                       0.093034\n",
       "charge-time                       0.087876\n",
       "configurations_auto-premiere      0.086189\n",
       "engine-stop                       0.083905\n",
       "supergen_year-stop                0.074642\n",
       "compression                       0.074231\n",
       "luxury                            0.069948\n",
       "models_light-and-commercial       0.058547\n",
       "gear-type                         0.056948\n",
       "supply-system                     0.050004\n",
       "engine-feeding                    0.046324\n",
       "power-electro-kw                  0.035067\n",
       "models_country-from               0.034861\n",
       "battery-capacity                  0.024277\n",
       "valves                            0.022279\n",
       "index                             0.001583\n",
       "models_group                      0.000348\n",
       "configurations_safety-rating     -0.037453\n",
       "valvetrain                       -0.039575\n",
       "engine-type                      -0.124811\n",
       "back-suspension                  -0.144988\n",
       "Name: target, dtype: float64"
      ]
     },
     "execution_count": 12,
     "metadata": {},
     "output_type": "execute_result"
    }
   ],
   "source": [
    "df.corr(method='kendall')['target'].sort_values(ascending=False)"
   ]
  },
  {
   "cell_type": "markdown",
   "id": "95b6daea",
   "metadata": {},
   "source": [
    "Был использован коэффициент корреляции Кендалла, так как он устойчив к выбросам и распределению. Результирующий фактор тесно связан со следующими показателями: configurations_tank-volume, configurations_back-wheel-base, weight, cylinders-value. Именно эти факторы будут включены в будущую модель."
   ]
  },
  {
   "cell_type": "code",
   "execution_count": 13,
   "id": "81866f64",
   "metadata": {},
   "outputs": [
    {
     "data": {
      "text/html": [
       "<div>\n",
       "<style scoped>\n",
       "    .dataframe tbody tr th:only-of-type {\n",
       "        vertical-align: middle;\n",
       "    }\n",
       "\n",
       "    .dataframe tbody tr th {\n",
       "        vertical-align: top;\n",
       "    }\n",
       "\n",
       "    .dataframe thead th {\n",
       "        text-align: right;\n",
       "    }\n",
       "</style>\n",
       "<table border=\"1\" class=\"dataframe\">\n",
       "  <thead>\n",
       "    <tr style=\"text-align: right;\">\n",
       "      <th></th>\n",
       "      <th>target</th>\n",
       "      <th>configurations_tank-volume</th>\n",
       "      <th>configurations_back-wheel-base</th>\n",
       "      <th>weight</th>\n",
       "      <th>cylinders-value</th>\n",
       "    </tr>\n",
       "  </thead>\n",
       "  <tbody>\n",
       "    <tr>\n",
       "      <th>0</th>\n",
       "      <td>2360</td>\n",
       "      <td>40.0</td>\n",
       "      <td>1300.0</td>\n",
       "      <td>820.0</td>\n",
       "      <td>3</td>\n",
       "    </tr>\n",
       "    <tr>\n",
       "      <th>1</th>\n",
       "      <td>3060</td>\n",
       "      <td>108.0</td>\n",
       "      <td>1555.0</td>\n",
       "      <td>2350.0</td>\n",
       "      <td>7</td>\n",
       "    </tr>\n",
       "    <tr>\n",
       "      <th>2</th>\n",
       "      <td>2648</td>\n",
       "      <td>55.0</td>\n",
       "      <td>1534.0</td>\n",
       "      <td>1350.0</td>\n",
       "      <td>4</td>\n",
       "    </tr>\n",
       "    <tr>\n",
       "      <th>3</th>\n",
       "      <td>2513</td>\n",
       "      <td>55.0</td>\n",
       "      <td>1495.0</td>\n",
       "      <td>1090.0</td>\n",
       "      <td>4</td>\n",
       "    </tr>\n",
       "    <tr>\n",
       "      <th>4</th>\n",
       "      <td>2703</td>\n",
       "      <td>62.0</td>\n",
       "      <td>1515.0</td>\n",
       "      <td>1410.0</td>\n",
       "      <td>4</td>\n",
       "    </tr>\n",
       "    <tr>\n",
       "      <th>...</th>\n",
       "      <td>...</td>\n",
       "      <td>...</td>\n",
       "      <td>...</td>\n",
       "      <td>...</td>\n",
       "      <td>...</td>\n",
       "    </tr>\n",
       "    <tr>\n",
       "      <th>43240</th>\n",
       "      <td>2510</td>\n",
       "      <td>47.0</td>\n",
       "      <td>1425.0</td>\n",
       "      <td>-1.0</td>\n",
       "      <td>4</td>\n",
       "    </tr>\n",
       "    <tr>\n",
       "      <th>43241</th>\n",
       "      <td>2808</td>\n",
       "      <td>65.0</td>\n",
       "      <td>1551.0</td>\n",
       "      <td>1545.0</td>\n",
       "      <td>4</td>\n",
       "    </tr>\n",
       "    <tr>\n",
       "      <th>43242</th>\n",
       "      <td>2520</td>\n",
       "      <td>55.0</td>\n",
       "      <td>1460.0</td>\n",
       "      <td>1210.0</td>\n",
       "      <td>4</td>\n",
       "    </tr>\n",
       "    <tr>\n",
       "      <th>43243</th>\n",
       "      <td>2755</td>\n",
       "      <td>70.0</td>\n",
       "      <td>1548.0</td>\n",
       "      <td>1660.0</td>\n",
       "      <td>5</td>\n",
       "    </tr>\n",
       "    <tr>\n",
       "      <th>43244</th>\n",
       "      <td>2620</td>\n",
       "      <td>-1.0</td>\n",
       "      <td>1415.0</td>\n",
       "      <td>-1.0</td>\n",
       "      <td>4</td>\n",
       "    </tr>\n",
       "  </tbody>\n",
       "</table>\n",
       "<p>43245 rows × 5 columns</p>\n",
       "</div>"
      ],
      "text/plain": [
       "       target  configurations_tank-volume  configurations_back-wheel-base  \\\n",
       "0        2360                        40.0                          1300.0   \n",
       "1        3060                       108.0                          1555.0   \n",
       "2        2648                        55.0                          1534.0   \n",
       "3        2513                        55.0                          1495.0   \n",
       "4        2703                        62.0                          1515.0   \n",
       "...       ...                         ...                             ...   \n",
       "43240    2510                        47.0                          1425.0   \n",
       "43241    2808                        65.0                          1551.0   \n",
       "43242    2520                        55.0                          1460.0   \n",
       "43243    2755                        70.0                          1548.0   \n",
       "43244    2620                        -1.0                          1415.0   \n",
       "\n",
       "       weight  cylinders-value  \n",
       "0       820.0                3  \n",
       "1      2350.0                7  \n",
       "2      1350.0                4  \n",
       "3      1090.0                4  \n",
       "4      1410.0                4  \n",
       "...       ...              ...  \n",
       "43240    -1.0                4  \n",
       "43241  1545.0                4  \n",
       "43242  1210.0                4  \n",
       "43243  1660.0                5  \n",
       "43244    -1.0                4  \n",
       "\n",
       "[43245 rows x 5 columns]"
      ]
     },
     "execution_count": 13,
     "metadata": {},
     "output_type": "execute_result"
    }
   ],
   "source": [
    "# создадим новый датасет с фактором-результатом и факторами-признаками\n",
    "df_new = df[['target', 'configurations_tank-volume', 'configurations_back-wheel-base', 'weight', 'cylinders-value']]\n",
    "df_new"
   ]
  },
  {
   "cell_type": "code",
   "execution_count": 14,
   "id": "2b5b62fd",
   "metadata": {},
   "outputs": [
    {
     "name": "stdout",
     "output_type": "stream",
     "text": [
      "<class 'pandas.core.frame.DataFrame'>\n",
      "RangeIndex: 43245 entries, 0 to 43244\n",
      "Data columns (total 5 columns):\n",
      " #   Column                          Non-Null Count  Dtype  \n",
      "---  ------                          --------------  -----  \n",
      " 0   target                          43245 non-null  int64  \n",
      " 1   configurations_tank-volume      43245 non-null  float64\n",
      " 2   configurations_back-wheel-base  43245 non-null  float64\n",
      " 3   weight                          43245 non-null  float64\n",
      " 4   cylinders-value                 43245 non-null  int64  \n",
      "dtypes: float64(3), int64(2)\n",
      "memory usage: 1.6 MB\n"
     ]
    }
   ],
   "source": [
    "df_new.info()"
   ]
  },
  {
   "cell_type": "markdown",
   "id": "64a0d7ac",
   "metadata": {},
   "source": [
    "Пропусков нет, посмотрим на выбросы и распределение."
   ]
  },
  {
   "cell_type": "code",
   "execution_count": 15,
   "id": "907cb0d9",
   "metadata": {
    "scrolled": false
   },
   "outputs": [
    {
     "data": {
      "image/png": "[encoded data removed]",
      "text/plain": [
       "<Figure size 640x480 with 1 Axes>"
      ]
     },
     "metadata": {},
     "output_type": "display_data"
    },
    {
     "data": {
      "image/png": "[encoded data removed]",
      "text/plain": [
       "<Figure size 640x480 with 1 Axes>"
      ]
     },
     "metadata": {},
     "output_type": "display_data"
    },
    {
     "data": {
      "image/png": "[encoded data removed]",
      "text/plain": [
       "<Figure size 640x480 with 1 Axes>"
      ]
     },
     "metadata": {},
     "output_type": "display_data"
    },
    {
     "data": {
      "image/png": "[encoded data removed]",
      "text/plain": [
       "<Figure size 640x480 with 1 Axes>"
      ]
     },
     "metadata": {},
     "output_type": "display_data"
    },
    {
     "data": {
      "image/png": "[encoded data removed]",
      "text/plain": [
       "<Figure size 640x480 with 1 Axes>"
      ]
     },
     "metadata": {},
     "output_type": "display_data"
    }
   ],
   "source": [
    "for i in df_new.columns:\n",
    "    plt.figure()\n",
    "    sns.boxplot(data=df_new[i])\n",
    "    plt.title(i)\n",
    "    plt.show()"
   ]
  },
  {
   "cell_type": "code",
   "execution_count": 16,
   "id": "ad024c2c",
   "metadata": {
    "scrolled": false
   },
   "outputs": [
    {
     "data": {
      "image/png": "[encoded data removed]",
      "text/plain": [
       "<Figure size 640x480 with 1 Axes>"
      ]
     },
     "metadata": {},
     "output_type": "display_data"
    },
    {
     "data": {
      "image/png": "[encoded data removed]",
      "text/plain": [
       "<Figure size 640x480 with 1 Axes>"
      ]
     },
     "metadata": {},
     "output_type": "display_data"
    },
    {
     "data": {
      "image/png": "[encoded data removed]",
      "text/plain": [
       "<Figure size 640x480 with 1 Axes>"
      ]
     },
     "metadata": {},
     "output_type": "display_data"
    },
    {
     "data": {
      "image/png": "[encoded data removed]",
      "text/plain": [
       "<Figure size 640x480 with 1 Axes>"
      ]
     },
     "metadata": {},
     "output_type": "display_data"
    },
    {
     "data": {
      "image/png": "[encoded data removed]",
      "text/plain": [
       "<Figure size 640x480 with 1 Axes>"
      ]
     },
     "metadata": {},
     "output_type": "display_data"
    }
   ],
   "source": [
    "for i in df_new.columns:\n",
    "    plt.figure()\n",
    "    sns.kdeplot(data=df_new[i])\n",
    "    plt.title(i)\n",
    "    plt.show()"
   ]
  },
  {
   "cell_type": "markdown",
   "id": "da8d744c",
   "metadata": {},
   "source": [
    "В каждом столбце много выбросов, а распределение не напоминает нормальное. Попробуем с этим что-то сделать, применив стандартизацию и регулязацию."
   ]
  },
  {
   "cell_type": "code",
   "execution_count": 32,
   "id": "c76f9cf8",
   "metadata": {},
   "outputs": [],
   "source": [
    "# импортируем библиотеки\n",
    "from sklearn.preprocessing import StandardScaler\n",
    "from sklearn.linear_model import Ridge"
   ]
  },
  {
   "cell_type": "code",
   "execution_count": 33,
   "id": "5008e0f5",
   "metadata": {},
   "outputs": [],
   "source": [
    "# разбиваем данные на факторы-признаки и фактор-результат\n",
    "X = df_new.drop([\"target\"], axis=1)\n",
    "y = df_new[[\"target\"]]\n",
    "train_X, test_X, train_y, test_y = train_test_split(X, y, test_size=0.33, random_state=42)"
   ]
  },
  {
   "cell_type": "code",
   "execution_count": 34,
   "id": "8bc5980a",
   "metadata": {},
   "outputs": [],
   "source": [
    "# стандартизация\n",
    "scaler = StandardScaler()\n",
    "x_train_st = scaler.fit_transform(train_X)\n",
    "x_test_st = scaler.fit_transform(test_X)"
   ]
  },
  {
   "cell_type": "code",
   "execution_count": 45,
   "id": "41b851c1",
   "metadata": {},
   "outputs": [
    {
     "name": "stdout",
     "output_type": "stream",
     "text": [
      "[[ 63.82503323 -28.55345844  36.30425831  82.93406166]] [2659.80976047]\n",
      "R2 Score 0.33584989094313433\n",
      "RMSE: 196.16968930740956\n"
     ]
    }
   ],
   "source": [
    "from sklearn.linear_model import LinearRegression\n",
    "from scipy.stats import linregress\n",
    "from sklearn import metrics\n",
    "\n",
    "# создадим модель линейной регрессии\n",
    "model = Ridge()\n",
    "\n",
    "# обучим нашу модель\n",
    "model.fit(x_train_st, train_y)\n",
    "\n",
    "print(model.coef_, model.intercept_)\n",
    "\n",
    "# делаем прогнозы\n",
    "predictions = model.predict(x_test_st)\n",
    "\n",
    "from sklearn.metrics import mean_squared_error, mean_absolute_error, r2_score\n",
    "print(f'R2 Score {r2_score(test_y, predictions)}')\n",
    "print(f'RMSE: {np.sqrt(metrics.mean_squared_error(test_y, predictions))}')"
   ]
  },
  {
   "cell_type": "markdown",
   "id": "d2377069",
   "metadata": {},
   "source": [
    "Коэффициент детерминации всё еще очень низкий. Среднеквадратическая ошибка хоть и уменьшилась по сравнению с прошлыми результатами, но всё еще очень высока. Попробуем использовать другие методы."
   ]
  },
  {
   "cell_type": "markdown",
   "id": "67d503c0",
   "metadata": {},
   "source": [
    "##### Дерево решений\n",
    "Используем дерево регрессии для решения задачи регрессии, так как наш фактор-результат непрерывный. "
   ]
  },
  {
   "cell_type": "code",
   "execution_count": 88,
   "id": "d4f185df",
   "metadata": {},
   "outputs": [],
   "source": [
    "# испортируем библиотеку\n",
    "from sklearn.tree import DecisionTreeRegressor"
   ]
  },
  {
   "cell_type": "code",
   "execution_count": 89,
   "id": "0c0bc864",
   "metadata": {},
   "outputs": [],
   "source": [
    "dtree = DecisionTreeRegressor(random_state=101)"
   ]
  },
  {
   "cell_type": "code",
   "execution_count": 90,
   "id": "9ff13004",
   "metadata": {},
   "outputs": [],
   "source": [
    "# обучаем\n",
    "dtree = dtree.fit(train_X,train_y)"
   ]
  },
  {
   "cell_type": "code",
   "execution_count": 91,
   "id": "2ffcef32",
   "metadata": {},
   "outputs": [
    {
     "name": "stdout",
     "output_type": "stream",
     "text": [
      "RMSE :  113.30975089740508\n",
      "R2 Score :  0.778416708461606\n"
     ]
    }
   ],
   "source": [
    "predictions_train = dtree.predict(test_X)\n",
    "print('RMSE : ', np.sqrt(metrics.mean_squared_error(test_y,predictions_train)))\n",
    "print('R2 Score : ', r2_score(test_y,predictions_train))"
   ]
  },
  {
   "cell_type": "markdown",
   "id": "3d7ef31c",
   "metadata": {},
   "source": [
    "Коэффициент детерминации намного улучшился, модель достаточно качественная, если судить по RMSE и R2. Попробуем еще один спосов - метод случайного дерева."
   ]
  },
  {
   "cell_type": "code",
   "execution_count": 92,
   "id": "124c12aa",
   "metadata": {},
   "outputs": [],
   "source": [
    "# испортируем библиотеки\n",
    "from sklearn.ensemble import RandomForestRegressor\n",
    "from sklearn.model_selection import GridSearchCV"
   ]
  },
  {
   "cell_type": "code",
   "execution_count": 93,
   "id": "1bcfe330",
   "metadata": {},
   "outputs": [],
   "source": [
    "clf_rf = RandomForestRegressor()\n",
    "parameters = {'n_estimators': [10, 20, 30], 'max_depth': [2, 5, 7, 10]}"
   ]
  },
  {
   "cell_type": "code",
   "execution_count": 94,
   "id": "ec0f4f27",
   "metadata": {},
   "outputs": [],
   "source": [
    "grid_search_cv_clf = GridSearchCV(clf_rf, parameters, cv=5)"
   ]
  },
  {
   "cell_type": "code",
   "execution_count": 95,
   "id": "ddb6455c",
   "metadata": {},
   "outputs": [
    {
     "name": "stderr",
     "output_type": "stream",
     "text": [
      "C:\\Users\\An_to\\anaconda3\\lib\\site-packages\\sklearn\\model_selection\\_validation.py:680: DataConversionWarning: A column-vector y was passed when a 1d array was expected. Please change the shape of y to (n_samples,), for example using ravel().\n",
      "  estimator.fit(X_train, y_train, **fit_params)\n",
      "C:\\Users\\An_to\\anaconda3\\lib\\site-packages\\sklearn\\model_selection\\_validation.py:680: DataConversionWarning: A column-vector y was passed when a 1d array was expected. Please change the shape of y to (n_samples,), for example using ravel().\n",
      "  estimator.fit(X_train, y_train, **fit_params)\n",
      "C:\\Users\\An_to\\anaconda3\\lib\\site-packages\\sklearn\\model_selection\\_validation.py:680: DataConversionWarning: A column-vector y was passed when a 1d array was expected. Please change the shape of y to (n_samples,), for example using ravel().\n",
      "  estimator.fit(X_train, y_train, **fit_params)\n",
      "C:\\Users\\An_to\\anaconda3\\lib\\site-packages\\sklearn\\model_selection\\_validation.py:680: DataConversionWarning: A column-vector y was passed when a 1d array was expected. Please change the shape of y to (n_samples,), for example using ravel().\n",
      "  estimator.fit(X_train, y_train, **fit_params)\n",
      "C:\\Users\\An_to\\anaconda3\\lib\\site-packages\\sklearn\\model_selection\\_validation.py:680: DataConversionWarning: A column-vector y was passed when a 1d array was expected. Please change the shape of y to (n_samples,), for example using ravel().\n",
      "  estimator.fit(X_train, y_train, **fit_params)\n",
      "C:\\Users\\An_to\\anaconda3\\lib\\site-packages\\sklearn\\model_selection\\_validation.py:680: DataConversionWarning: A column-vector y was passed when a 1d array was expected. Please change the shape of y to (n_samples,), for example using ravel().\n",
      "  estimator.fit(X_train, y_train, **fit_params)\n",
      "C:\\Users\\An_to\\anaconda3\\lib\\site-packages\\sklearn\\model_selection\\_validation.py:680: DataConversionWarning: A column-vector y was passed when a 1d array was expected. Please change the shape of y to (n_samples,), for example using ravel().\n",
      "  estimator.fit(X_train, y_train, **fit_params)\n",
      "C:\\Users\\An_to\\anaconda3\\lib\\site-packages\\sklearn\\model_selection\\_validation.py:680: DataConversionWarning: A column-vector y was passed when a 1d array was expected. Please change the shape of y to (n_samples,), for example using ravel().\n",
      "  estimator.fit(X_train, y_train, **fit_params)\n",
      "C:\\Users\\An_to\\anaconda3\\lib\\site-packages\\sklearn\\model_selection\\_validation.py:680: DataConversionWarning: A column-vector y was passed when a 1d array was expected. Please change the shape of y to (n_samples,), for example using ravel().\n",
      "  estimator.fit(X_train, y_train, **fit_params)\n",
      "C:\\Users\\An_to\\anaconda3\\lib\\site-packages\\sklearn\\model_selection\\_validation.py:680: DataConversionWarning: A column-vector y was passed when a 1d array was expected. Please change the shape of y to (n_samples,), for example using ravel().\n",
      "  estimator.fit(X_train, y_train, **fit_params)\n",
      "C:\\Users\\An_to\\anaconda3\\lib\\site-packages\\sklearn\\model_selection\\_validation.py:680: DataConversionWarning: A column-vector y was passed when a 1d array was expected. Please change the shape of y to (n_samples,), for example using ravel().\n",
      "  estimator.fit(X_train, y_train, **fit_params)\n",
      "C:\\Users\\An_to\\anaconda3\\lib\\site-packages\\sklearn\\model_selection\\_validation.py:680: DataConversionWarning: A column-vector y was passed when a 1d array was expected. Please change the shape of y to (n_samples,), for example using ravel().\n",
      "  estimator.fit(X_train, y_train, **fit_params)\n",
      "C:\\Users\\An_to\\anaconda3\\lib\\site-packages\\sklearn\\model_selection\\_validation.py:680: DataConversionWarning: A column-vector y was passed when a 1d array was expected. Please change the shape of y to (n_samples,), for example using ravel().\n",
      "  estimator.fit(X_train, y_train, **fit_params)\n",
      "C:\\Users\\An_to\\anaconda3\\lib\\site-packages\\sklearn\\model_selection\\_validation.py:680: DataConversionWarning: A column-vector y was passed when a 1d array was expected. Please change the shape of y to (n_samples,), for example using ravel().\n",
      "  estimator.fit(X_train, y_train, **fit_params)\n",
      "C:\\Users\\An_to\\anaconda3\\lib\\site-packages\\sklearn\\model_selection\\_validation.py:680: DataConversionWarning: A column-vector y was passed when a 1d array was expected. Please change the shape of y to (n_samples,), for example using ravel().\n",
      "  estimator.fit(X_train, y_train, **fit_params)\n",
      "C:\\Users\\An_to\\anaconda3\\lib\\site-packages\\sklearn\\model_selection\\_validation.py:680: DataConversionWarning: A column-vector y was passed when a 1d array was expected. Please change the shape of y to (n_samples,), for example using ravel().\n",
      "  estimator.fit(X_train, y_train, **fit_params)\n",
      "C:\\Users\\An_to\\anaconda3\\lib\\site-packages\\sklearn\\model_selection\\_validation.py:680: DataConversionWarning: A column-vector y was passed when a 1d array was expected. Please change the shape of y to (n_samples,), for example using ravel().\n",
      "  estimator.fit(X_train, y_train, **fit_params)\n",
      "C:\\Users\\An_to\\anaconda3\\lib\\site-packages\\sklearn\\model_selection\\_validation.py:680: DataConversionWarning: A column-vector y was passed when a 1d array was expected. Please change the shape of y to (n_samples,), for example using ravel().\n",
      "  estimator.fit(X_train, y_train, **fit_params)\n",
      "C:\\Users\\An_to\\anaconda3\\lib\\site-packages\\sklearn\\model_selection\\_validation.py:680: DataConversionWarning: A column-vector y was passed when a 1d array was expected. Please change the shape of y to (n_samples,), for example using ravel().\n",
      "  estimator.fit(X_train, y_train, **fit_params)\n",
      "C:\\Users\\An_to\\anaconda3\\lib\\site-packages\\sklearn\\model_selection\\_validation.py:680: DataConversionWarning: A column-vector y was passed when a 1d array was expected. Please change the shape of y to (n_samples,), for example using ravel().\n",
      "  estimator.fit(X_train, y_train, **fit_params)\n",
      "C:\\Users\\An_to\\anaconda3\\lib\\site-packages\\sklearn\\model_selection\\_validation.py:680: DataConversionWarning: A column-vector y was passed when a 1d array was expected. Please change the shape of y to (n_samples,), for example using ravel().\n",
      "  estimator.fit(X_train, y_train, **fit_params)\n",
      "C:\\Users\\An_to\\anaconda3\\lib\\site-packages\\sklearn\\model_selection\\_validation.py:680: DataConversionWarning: A column-vector y was passed when a 1d array was expected. Please change the shape of y to (n_samples,), for example using ravel().\n",
      "  estimator.fit(X_train, y_train, **fit_params)\n",
      "C:\\Users\\An_to\\anaconda3\\lib\\site-packages\\sklearn\\model_selection\\_validation.py:680: DataConversionWarning: A column-vector y was passed when a 1d array was expected. Please change the shape of y to (n_samples,), for example using ravel().\n",
      "  estimator.fit(X_train, y_train, **fit_params)\n",
      "C:\\Users\\An_to\\anaconda3\\lib\\site-packages\\sklearn\\model_selection\\_validation.py:680: DataConversionWarning: A column-vector y was passed when a 1d array was expected. Please change the shape of y to (n_samples,), for example using ravel().\n",
      "  estimator.fit(X_train, y_train, **fit_params)\n",
      "C:\\Users\\An_to\\anaconda3\\lib\\site-packages\\sklearn\\model_selection\\_validation.py:680: DataConversionWarning: A column-vector y was passed when a 1d array was expected. Please change the shape of y to (n_samples,), for example using ravel().\n",
      "  estimator.fit(X_train, y_train, **fit_params)\n",
      "C:\\Users\\An_to\\anaconda3\\lib\\site-packages\\sklearn\\model_selection\\_validation.py:680: DataConversionWarning: A column-vector y was passed when a 1d array was expected. Please change the shape of y to (n_samples,), for example using ravel().\n",
      "  estimator.fit(X_train, y_train, **fit_params)\n",
      "C:\\Users\\An_to\\anaconda3\\lib\\site-packages\\sklearn\\model_selection\\_validation.py:680: DataConversionWarning: A column-vector y was passed when a 1d array was expected. Please change the shape of y to (n_samples,), for example using ravel().\n",
      "  estimator.fit(X_train, y_train, **fit_params)\n",
      "C:\\Users\\An_to\\anaconda3\\lib\\site-packages\\sklearn\\model_selection\\_validation.py:680: DataConversionWarning: A column-vector y was passed when a 1d array was expected. Please change the shape of y to (n_samples,), for example using ravel().\n",
      "  estimator.fit(X_train, y_train, **fit_params)\n",
      "C:\\Users\\An_to\\anaconda3\\lib\\site-packages\\sklearn\\model_selection\\_validation.py:680: DataConversionWarning: A column-vector y was passed when a 1d array was expected. Please change the shape of y to (n_samples,), for example using ravel().\n",
      "  estimator.fit(X_train, y_train, **fit_params)\n",
      "C:\\Users\\An_to\\anaconda3\\lib\\site-packages\\sklearn\\model_selection\\_validation.py:680: DataConversionWarning: A column-vector y was passed when a 1d array was expected. Please change the shape of y to (n_samples,), for example using ravel().\n",
      "  estimator.fit(X_train, y_train, **fit_params)\n",
      "C:\\Users\\An_to\\anaconda3\\lib\\site-packages\\sklearn\\model_selection\\_validation.py:680: DataConversionWarning: A column-vector y was passed when a 1d array was expected. Please change the shape of y to (n_samples,), for example using ravel().\n",
      "  estimator.fit(X_train, y_train, **fit_params)\n",
      "C:\\Users\\An_to\\anaconda3\\lib\\site-packages\\sklearn\\model_selection\\_validation.py:680: DataConversionWarning: A column-vector y was passed when a 1d array was expected. Please change the shape of y to (n_samples,), for example using ravel().\n",
      "  estimator.fit(X_train, y_train, **fit_params)\n",
      "C:\\Users\\An_to\\anaconda3\\lib\\site-packages\\sklearn\\model_selection\\_validation.py:680: DataConversionWarning: A column-vector y was passed when a 1d array was expected. Please change the shape of y to (n_samples,), for example using ravel().\n",
      "  estimator.fit(X_train, y_train, **fit_params)\n",
      "C:\\Users\\An_to\\anaconda3\\lib\\site-packages\\sklearn\\model_selection\\_validation.py:680: DataConversionWarning: A column-vector y was passed when a 1d array was expected. Please change the shape of y to (n_samples,), for example using ravel().\n",
      "  estimator.fit(X_train, y_train, **fit_params)\n",
      "C:\\Users\\An_to\\anaconda3\\lib\\site-packages\\sklearn\\model_selection\\_validation.py:680: DataConversionWarning: A column-vector y was passed when a 1d array was expected. Please change the shape of y to (n_samples,), for example using ravel().\n",
      "  estimator.fit(X_train, y_train, **fit_params)\n",
      "C:\\Users\\An_to\\anaconda3\\lib\\site-packages\\sklearn\\model_selection\\_validation.py:680: DataConversionWarning: A column-vector y was passed when a 1d array was expected. Please change the shape of y to (n_samples,), for example using ravel().\n",
      "  estimator.fit(X_train, y_train, **fit_params)\n",
      "C:\\Users\\An_to\\anaconda3\\lib\\site-packages\\sklearn\\model_selection\\_validation.py:680: DataConversionWarning: A column-vector y was passed when a 1d array was expected. Please change the shape of y to (n_samples,), for example using ravel().\n",
      "  estimator.fit(X_train, y_train, **fit_params)\n",
      "C:\\Users\\An_to\\anaconda3\\lib\\site-packages\\sklearn\\model_selection\\_validation.py:680: DataConversionWarning: A column-vector y was passed when a 1d array was expected. Please change the shape of y to (n_samples,), for example using ravel().\n",
      "  estimator.fit(X_train, y_train, **fit_params)\n",
      "C:\\Users\\An_to\\anaconda3\\lib\\site-packages\\sklearn\\model_selection\\_validation.py:680: DataConversionWarning: A column-vector y was passed when a 1d array was expected. Please change the shape of y to (n_samples,), for example using ravel().\n",
      "  estimator.fit(X_train, y_train, **fit_params)\n",
      "C:\\Users\\An_to\\anaconda3\\lib\\site-packages\\sklearn\\model_selection\\_validation.py:680: DataConversionWarning: A column-vector y was passed when a 1d array was expected. Please change the shape of y to (n_samples,), for example using ravel().\n",
      "  estimator.fit(X_train, y_train, **fit_params)\n",
      "C:\\Users\\An_to\\anaconda3\\lib\\site-packages\\sklearn\\model_selection\\_validation.py:680: DataConversionWarning: A column-vector y was passed when a 1d array was expected. Please change the shape of y to (n_samples,), for example using ravel().\n",
      "  estimator.fit(X_train, y_train, **fit_params)\n",
      "C:\\Users\\An_to\\anaconda3\\lib\\site-packages\\sklearn\\model_selection\\_validation.py:680: DataConversionWarning: A column-vector y was passed when a 1d array was expected. Please change the shape of y to (n_samples,), for example using ravel().\n",
      "  estimator.fit(X_train, y_train, **fit_params)\n",
      "C:\\Users\\An_to\\anaconda3\\lib\\site-packages\\sklearn\\model_selection\\_validation.py:680: DataConversionWarning: A column-vector y was passed when a 1d array was expected. Please change the shape of y to (n_samples,), for example using ravel().\n",
      "  estimator.fit(X_train, y_train, **fit_params)\n",
      "C:\\Users\\An_to\\anaconda3\\lib\\site-packages\\sklearn\\model_selection\\_validation.py:680: DataConversionWarning: A column-vector y was passed when a 1d array was expected. Please change the shape of y to (n_samples,), for example using ravel().\n",
      "  estimator.fit(X_train, y_train, **fit_params)\n",
      "C:\\Users\\An_to\\anaconda3\\lib\\site-packages\\sklearn\\model_selection\\_validation.py:680: DataConversionWarning: A column-vector y was passed when a 1d array was expected. Please change the shape of y to (n_samples,), for example using ravel().\n",
      "  estimator.fit(X_train, y_train, **fit_params)\n",
      "C:\\Users\\An_to\\anaconda3\\lib\\site-packages\\sklearn\\model_selection\\_validation.py:680: DataConversionWarning: A column-vector y was passed when a 1d array was expected. Please change the shape of y to (n_samples,), for example using ravel().\n",
      "  estimator.fit(X_train, y_train, **fit_params)\n",
      "C:\\Users\\An_to\\anaconda3\\lib\\site-packages\\sklearn\\model_selection\\_validation.py:680: DataConversionWarning: A column-vector y was passed when a 1d array was expected. Please change the shape of y to (n_samples,), for example using ravel().\n",
      "  estimator.fit(X_train, y_train, **fit_params)\n",
      "C:\\Users\\An_to\\anaconda3\\lib\\site-packages\\sklearn\\model_selection\\_validation.py:680: DataConversionWarning: A column-vector y was passed when a 1d array was expected. Please change the shape of y to (n_samples,), for example using ravel().\n",
      "  estimator.fit(X_train, y_train, **fit_params)\n",
      "C:\\Users\\An_to\\anaconda3\\lib\\site-packages\\sklearn\\model_selection\\_validation.py:680: DataConversionWarning: A column-vector y was passed when a 1d array was expected. Please change the shape of y to (n_samples,), for example using ravel().\n",
      "  estimator.fit(X_train, y_train, **fit_params)\n",
      "C:\\Users\\An_to\\anaconda3\\lib\\site-packages\\sklearn\\model_selection\\_validation.py:680: DataConversionWarning: A column-vector y was passed when a 1d array was expected. Please change the shape of y to (n_samples,), for example using ravel().\n",
      "  estimator.fit(X_train, y_train, **fit_params)\n",
      "C:\\Users\\An_to\\anaconda3\\lib\\site-packages\\sklearn\\model_selection\\_validation.py:680: DataConversionWarning: A column-vector y was passed when a 1d array was expected. Please change the shape of y to (n_samples,), for example using ravel().\n",
      "  estimator.fit(X_train, y_train, **fit_params)\n",
      "C:\\Users\\An_to\\anaconda3\\lib\\site-packages\\sklearn\\model_selection\\_validation.py:680: DataConversionWarning: A column-vector y was passed when a 1d array was expected. Please change the shape of y to (n_samples,), for example using ravel().\n",
      "  estimator.fit(X_train, y_train, **fit_params)\n",
      "C:\\Users\\An_to\\anaconda3\\lib\\site-packages\\sklearn\\model_selection\\_validation.py:680: DataConversionWarning: A column-vector y was passed when a 1d array was expected. Please change the shape of y to (n_samples,), for example using ravel().\n",
      "  estimator.fit(X_train, y_train, **fit_params)\n",
      "C:\\Users\\An_to\\anaconda3\\lib\\site-packages\\sklearn\\model_selection\\_validation.py:680: DataConversionWarning: A column-vector y was passed when a 1d array was expected. Please change the shape of y to (n_samples,), for example using ravel().\n",
      "  estimator.fit(X_train, y_train, **fit_params)\n",
      "C:\\Users\\An_to\\anaconda3\\lib\\site-packages\\sklearn\\model_selection\\_validation.py:680: DataConversionWarning: A column-vector y was passed when a 1d array was expected. Please change the shape of y to (n_samples,), for example using ravel().\n",
      "  estimator.fit(X_train, y_train, **fit_params)\n",
      "C:\\Users\\An_to\\anaconda3\\lib\\site-packages\\sklearn\\model_selection\\_validation.py:680: DataConversionWarning: A column-vector y was passed when a 1d array was expected. Please change the shape of y to (n_samples,), for example using ravel().\n",
      "  estimator.fit(X_train, y_train, **fit_params)\n",
      "C:\\Users\\An_to\\anaconda3\\lib\\site-packages\\sklearn\\model_selection\\_validation.py:680: DataConversionWarning: A column-vector y was passed when a 1d array was expected. Please change the shape of y to (n_samples,), for example using ravel().\n",
      "  estimator.fit(X_train, y_train, **fit_params)\n",
      "C:\\Users\\An_to\\anaconda3\\lib\\site-packages\\sklearn\\model_selection\\_validation.py:680: DataConversionWarning: A column-vector y was passed when a 1d array was expected. Please change the shape of y to (n_samples,), for example using ravel().\n",
      "  estimator.fit(X_train, y_train, **fit_params)\n",
      "C:\\Users\\An_to\\anaconda3\\lib\\site-packages\\sklearn\\model_selection\\_validation.py:680: DataConversionWarning: A column-vector y was passed when a 1d array was expected. Please change the shape of y to (n_samples,), for example using ravel().\n",
      "  estimator.fit(X_train, y_train, **fit_params)\n",
      "C:\\Users\\An_to\\anaconda3\\lib\\site-packages\\sklearn\\model_selection\\_validation.py:680: DataConversionWarning: A column-vector y was passed when a 1d array was expected. Please change the shape of y to (n_samples,), for example using ravel().\n",
      "  estimator.fit(X_train, y_train, **fit_params)\n",
      "C:\\Users\\An_to\\anaconda3\\lib\\site-packages\\sklearn\\model_selection\\_search.py:926: DataConversionWarning: A column-vector y was passed when a 1d array was expected. Please change the shape of y to (n_samples,), for example using ravel().\n",
      "  self.best_estimator_.fit(X, y, **fit_params)\n"
     ]
    },
    {
     "data": {
      "text/plain": [
       "GridSearchCV(cv=5, estimator=RandomForestRegressor(),\n",
       "             param_grid={'max_depth': [2, 5, 7, 10],\n",
       "                         'n_estimators': [10, 20, 30]})"
      ]
     },
     "execution_count": 95,
     "metadata": {},
     "output_type": "execute_result"
    }
   ],
   "source": [
    "grid_search_cv_clf.fit(train_X, train_y)"
   ]
  },
  {
   "cell_type": "code",
   "execution_count": 96,
   "id": "2a39a10a",
   "metadata": {},
   "outputs": [],
   "source": [
    "best_clf = grid_search_cv_clf.best_estimator_"
   ]
  },
  {
   "cell_type": "code",
   "execution_count": 97,
   "id": "cc46963e",
   "metadata": {},
   "outputs": [
    {
     "data": {
      "text/plain": [
       "0.761526140597212"
      ]
     },
     "execution_count": 97,
     "metadata": {},
     "output_type": "execute_result"
    }
   ],
   "source": [
    "best_clf.score(test_X, test_y)"
   ]
  },
  {
   "cell_type": "code",
   "execution_count": 103,
   "id": "736ef9de",
   "metadata": {},
   "outputs": [
    {
     "name": "stdout",
     "output_type": "stream",
     "text": [
      "RMSE: 117.54906261767997\n",
      "R2 Score: 0.761526140597212\n"
     ]
    }
   ],
   "source": [
    "predictions = best_clf.predict(test_X)\n",
    "\n",
    "print(f'RMSE: {np.sqrt(metrics.mean_squared_error(test_y, predictions))}')\n",
    "print('R2 Score:', r2_score(test_y, predictions))"
   ]
  },
  {
   "cell_type": "markdown",
   "id": "a8c9da1c",
   "metadata": {},
   "source": [
    "При этом методе коэф-т детерминации получился чуть меньше, а среднеквадратическая ошибка - больше. Из всех вариантов лучшим оказался метод **регрессионной модели дерева решений.**"
   ]
  }
 ],
 "metadata": {
  "colab": {
   "provenance": []
  },
  "kernelspec": {
   "display_name": "Python 3 (ipykernel)",
   "language": "python",
   "name": "python3"
  },
  "language_info": {
   "codemirror_mode": {
    "name": "ipython",
    "version": 3
   },
   "file_extension": ".py",
   "mimetype": "text/x-python",
   "name": "python",
   "nbconvert_exporter": "python",
   "pygments_lexer": "ipython3",
   "version": "3.9.13"
  }
 },
 "nbformat": 4,
 "nbformat_minor": 5
}
