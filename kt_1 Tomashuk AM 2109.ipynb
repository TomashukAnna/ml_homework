{
 "cells": [
  {
   "cell_type": "markdown",
   "id": "3d7f3dcd",
   "metadata": {},
   "source": [
    "# КТ-1"
   ]
  },
  {
   "cell_type": "markdown",
   "id": "0306d248",
   "metadata": {},
   "source": [
    "Томашук Анна Э-2109"
   ]
  },
  {
   "cell_type": "code",
   "execution_count": 46,
   "id": "38eed92b",
   "metadata": {},
   "outputs": [],
   "source": [
    "import pandas as pd\n",
    "import numpy as np\n",
    "\n",
    "from sklearn.linear_model import LinearRegression\n",
    "from sklearn.model_selection import train_test_split\n",
    "from sklearn.metrics import r2_score, mean_squared_error"
   ]
  },
  {
   "cell_type": "code",
   "execution_count": 68,
   "id": "85659f1e",
   "metadata": {},
   "outputs": [],
   "source": [
    "df = pd.read_csv('city_united.csv')"
   ]
  },
  {
   "cell_type": "code",
   "execution_count": 69,
   "id": "65ebd4bf",
   "metadata": {
    "scrolled": true
   },
   "outputs": [
    {
     "data": {
      "text/html": [
       "<div>\n",
       "<style scoped>\n",
       "    .dataframe tbody tr th:only-of-type {\n",
       "        vertical-align: middle;\n",
       "    }\n",
       "\n",
       "    .dataframe tbody tr th {\n",
       "        vertical-align: top;\n",
       "    }\n",
       "\n",
       "    .dataframe thead th {\n",
       "        text-align: right;\n",
       "    }\n",
       "</style>\n",
       "<table border=\"1\" class=\"dataframe\">\n",
       "  <thead>\n",
       "    <tr style=\"text-align: right;\">\n",
       "      <th></th>\n",
       "      <th>UA_Name</th>\n",
       "      <th>UA_Country</th>\n",
       "      <th>UA_Continent</th>\n",
       "      <th>Housing</th>\n",
       "      <th>Cost of Living</th>\n",
       "      <th>Startups</th>\n",
       "      <th>Venture Capital</th>\n",
       "      <th>Travel Connectivity</th>\n",
       "      <th>Commute</th>\n",
       "      <th>Business Freedom</th>\n",
       "      <th>...</th>\n",
       "      <th>Healthcare</th>\n",
       "      <th>Education</th>\n",
       "      <th>Environmental Quality</th>\n",
       "      <th>Economy</th>\n",
       "      <th>Taxation</th>\n",
       "      <th>Internet Access</th>\n",
       "      <th>Leisure &amp; Culture</th>\n",
       "      <th>Tolerance</th>\n",
       "      <th>Outdoors</th>\n",
       "      <th>Quality of Life Index</th>\n",
       "    </tr>\n",
       "  </thead>\n",
       "  <tbody>\n",
       "    <tr>\n",
       "      <th>0</th>\n",
       "      <td>Adelaide</td>\n",
       "      <td>Australia</td>\n",
       "      <td>Oceania</td>\n",
       "      <td>6.3095</td>\n",
       "      <td>4.692</td>\n",
       "      <td>3.1365</td>\n",
       "      <td>2.640</td>\n",
       "      <td>1.7765</td>\n",
       "      <td>5.33625</td>\n",
       "      <td>9.399667</td>\n",
       "      <td>...</td>\n",
       "      <td>7.936667</td>\n",
       "      <td>5.1420</td>\n",
       "      <td>8.33075</td>\n",
       "      <td>6.0695</td>\n",
       "      <td>4.5885</td>\n",
       "      <td>4.3410</td>\n",
       "      <td>4.3285</td>\n",
       "      <td>7.8220</td>\n",
       "      <td>5.5310</td>\n",
       "      <td>200.03</td>\n",
       "    </tr>\n",
       "    <tr>\n",
       "      <th>1</th>\n",
       "      <td>Raleigh</td>\n",
       "      <td>North Carolina</td>\n",
       "      <td>North America</td>\n",
       "      <td>6.1285</td>\n",
       "      <td>5.610</td>\n",
       "      <td>5.4970</td>\n",
       "      <td>5.157</td>\n",
       "      <td>1.7570</td>\n",
       "      <td>4.78425</td>\n",
       "      <td>8.671000</td>\n",
       "      <td>...</td>\n",
       "      <td>6.677333</td>\n",
       "      <td>7.1165</td>\n",
       "      <td>8.58375</td>\n",
       "      <td>6.5145</td>\n",
       "      <td>4.0620</td>\n",
       "      <td>7.9515</td>\n",
       "      <td>6.6130</td>\n",
       "      <td>7.5620</td>\n",
       "      <td>3.3905</td>\n",
       "      <td>197.30</td>\n",
       "    </tr>\n",
       "    <tr>\n",
       "      <th>2</th>\n",
       "      <td>Zurich</td>\n",
       "      <td>Switzerland</td>\n",
       "      <td>Europe</td>\n",
       "      <td>1.4730</td>\n",
       "      <td>1.000</td>\n",
       "      <td>6.2035</td>\n",
       "      <td>3.872</td>\n",
       "      <td>7.7335</td>\n",
       "      <td>5.83950</td>\n",
       "      <td>8.888000</td>\n",
       "      <td>...</td>\n",
       "      <td>7.670333</td>\n",
       "      <td>7.2875</td>\n",
       "      <td>8.64300</td>\n",
       "      <td>6.5520</td>\n",
       "      <td>6.4285</td>\n",
       "      <td>7.2675</td>\n",
       "      <td>4.9655</td>\n",
       "      <td>8.7845</td>\n",
       "      <td>5.4010</td>\n",
       "      <td>194.41</td>\n",
       "    </tr>\n",
       "    <tr>\n",
       "      <th>3</th>\n",
       "      <td>Wellington</td>\n",
       "      <td>New Zealand</td>\n",
       "      <td>Oceania</td>\n",
       "      <td>5.1345</td>\n",
       "      <td>5.161</td>\n",
       "      <td>2.4715</td>\n",
       "      <td>1.753</td>\n",
       "      <td>0.8525</td>\n",
       "      <td>6.03975</td>\n",
       "      <td>10.000000</td>\n",
       "      <td>...</td>\n",
       "      <td>8.078333</td>\n",
       "      <td>4.7560</td>\n",
       "      <td>9.60925</td>\n",
       "      <td>5.5055</td>\n",
       "      <td>5.9315</td>\n",
       "      <td>5.1745</td>\n",
       "      <td>4.5990</td>\n",
       "      <td>8.1160</td>\n",
       "      <td>6.3970</td>\n",
       "      <td>193.89</td>\n",
       "    </tr>\n",
       "    <tr>\n",
       "      <th>4</th>\n",
       "      <td>Charlotte</td>\n",
       "      <td>North Carolina</td>\n",
       "      <td>North America</td>\n",
       "      <td>5.5490</td>\n",
       "      <td>4.987</td>\n",
       "      <td>6.2480</td>\n",
       "      <td>2.878</td>\n",
       "      <td>3.6790</td>\n",
       "      <td>4.13400</td>\n",
       "      <td>8.671000</td>\n",
       "      <td>...</td>\n",
       "      <td>6.432333</td>\n",
       "      <td>3.6245</td>\n",
       "      <td>8.00925</td>\n",
       "      <td>6.5145</td>\n",
       "      <td>4.0620</td>\n",
       "      <td>6.3870</td>\n",
       "      <td>5.6060</td>\n",
       "      <td>6.7895</td>\n",
       "      <td>1.3115</td>\n",
       "      <td>193.30</td>\n",
       "    </tr>\n",
       "  </tbody>\n",
       "</table>\n",
       "<p>5 rows × 21 columns</p>\n",
       "</div>"
      ],
      "text/plain": [
       "      UA_Name       UA_Country   UA_Continent  Housing  Cost of Living  \\\n",
       "0    Adelaide        Australia        Oceania   6.3095           4.692   \n",
       "1     Raleigh   North Carolina  North America   6.1285           5.610   \n",
       "2      Zurich      Switzerland         Europe   1.4730           1.000   \n",
       "3  Wellington      New Zealand        Oceania   5.1345           5.161   \n",
       "4   Charlotte   North Carolina  North America   5.5490           4.987   \n",
       "\n",
       "   Startups  Venture Capital  Travel Connectivity  Commute  Business Freedom  \\\n",
       "0    3.1365            2.640               1.7765  5.33625          9.399667   \n",
       "1    5.4970            5.157               1.7570  4.78425          8.671000   \n",
       "2    6.2035            3.872               7.7335  5.83950          8.888000   \n",
       "3    2.4715            1.753               0.8525  6.03975         10.000000   \n",
       "4    6.2480            2.878               3.6790  4.13400          8.671000   \n",
       "\n",
       "   ...  Healthcare  Education  Environmental Quality  Economy  Taxation  \\\n",
       "0  ...    7.936667     5.1420                8.33075   6.0695    4.5885   \n",
       "1  ...    6.677333     7.1165                8.58375   6.5145    4.0620   \n",
       "2  ...    7.670333     7.2875                8.64300   6.5520    6.4285   \n",
       "3  ...    8.078333     4.7560                9.60925   5.5055    5.9315   \n",
       "4  ...    6.432333     3.6245                8.00925   6.5145    4.0620   \n",
       "\n",
       "   Internet Access  Leisure & Culture  Tolerance  Outdoors  \\\n",
       "0           4.3410             4.3285     7.8220    5.5310   \n",
       "1           7.9515             6.6130     7.5620    3.3905   \n",
       "2           7.2675             4.9655     8.7845    5.4010   \n",
       "3           5.1745             4.5990     8.1160    6.3970   \n",
       "4           6.3870             5.6060     6.7895    1.3115   \n",
       "\n",
       "   Quality of Life Index  \n",
       "0                 200.03  \n",
       "1                 197.30  \n",
       "2                 194.41  \n",
       "3                 193.89  \n",
       "4                 193.30  \n",
       "\n",
       "[5 rows x 21 columns]"
      ]
     },
     "execution_count": 69,
     "metadata": {},
     "output_type": "execute_result"
    }
   ],
   "source": [
    "df.head()"
   ]
  },
  {
   "cell_type": "markdown",
   "id": "b064aaf9",
   "metadata": {},
   "source": [
    "Признак-результат (у): Quality of Life Index\n",
    "Признаки-факторы (Х): остальные столбцы"
   ]
  },
  {
   "cell_type": "code",
   "execution_count": 73,
   "id": "15bfe9fa",
   "metadata": {},
   "outputs": [
    {
     "data": {
      "text/plain": [
       "0"
      ]
     },
     "execution_count": 73,
     "metadata": {},
     "output_type": "execute_result"
    }
   ],
   "source": [
    "# первым шагом проверим дубликаты\n",
    "df.duplicated().sum()"
   ]
  },
  {
   "cell_type": "markdown",
   "id": "e362ebd9",
   "metadata": {},
   "source": [
    "Их нет, идем дальше"
   ]
  },
  {
   "cell_type": "code",
   "execution_count": 74,
   "id": "7b6b5ff8",
   "metadata": {},
   "outputs": [
    {
     "data": {
      "text/plain": [
       "UA_Name                  0\n",
       "UA_Country               0\n",
       "UA_Continent             0\n",
       "Housing                  0\n",
       "Cost of Living           0\n",
       "Startups                 0\n",
       "Venture Capital          0\n",
       "Travel Connectivity      0\n",
       "Commute                  0\n",
       "Business Freedom         0\n",
       "Safety                   0\n",
       "Healthcare               0\n",
       "Education                0\n",
       "Environmental Quality    0\n",
       "Economy                  0\n",
       "Taxation                 0\n",
       "Internet Access          0\n",
       "Leisure & Culture        0\n",
       "Tolerance                0\n",
       "Outdoors                 0\n",
       "Quality of Life Index    0\n",
       "dtype: int64"
      ]
     },
     "execution_count": 74,
     "metadata": {},
     "output_type": "execute_result"
    }
   ],
   "source": [
    "# посмотрим на пропущенные значения\n",
    "df.isna().sum()"
   ]
  },
  {
   "cell_type": "markdown",
   "id": "1d2c760b",
   "metadata": {},
   "source": [
    "Пропущенные значения также отсутствуют. Перейдем к кодировки категориальных переменных. Для этого выясним, какие переменные у нас количественные, а какие - категориальные."
   ]
  },
  {
   "cell_type": "code",
   "execution_count": 75,
   "id": "e3ffc809",
   "metadata": {},
   "outputs": [
    {
     "data": {
      "text/plain": [
       "UA_Name                   object\n",
       "UA_Country                object\n",
       "UA_Continent              object\n",
       "Housing                  float64\n",
       "Cost of Living           float64\n",
       "Startups                 float64\n",
       "Venture Capital          float64\n",
       "Travel Connectivity      float64\n",
       "Commute                  float64\n",
       "Business Freedom         float64\n",
       "Safety                   float64\n",
       "Healthcare               float64\n",
       "Education                float64\n",
       "Environmental Quality    float64\n",
       "Economy                  float64\n",
       "Taxation                 float64\n",
       "Internet Access          float64\n",
       "Leisure & Culture        float64\n",
       "Tolerance                float64\n",
       "Outdoors                 float64\n",
       "Quality of Life Index    float64\n",
       "dtype: object"
      ]
     },
     "execution_count": 75,
     "metadata": {},
     "output_type": "execute_result"
    }
   ],
   "source": [
    "df.dtypes"
   ]
  },
  {
   "cell_type": "code",
   "execution_count": 76,
   "id": "00ecd7dd",
   "metadata": {},
   "outputs": [],
   "source": [
    "# разобьем \n",
    "catigorial = ['UA_Name','UA_Country','UA_Continent']\n",
    "numerical = [value for value in df.columns if value not in catigorial]"
   ]
  },
  {
   "cell_type": "code",
   "execution_count": 77,
   "id": "c1933ab4",
   "metadata": {},
   "outputs": [
    {
     "data": {
      "text/plain": [
       "184"
      ]
     },
     "execution_count": 77,
     "metadata": {},
     "output_type": "execute_result"
    }
   ],
   "source": [
    "len(df['UA_Name'].unique())"
   ]
  },
  {
   "cell_type": "code",
   "execution_count": 78,
   "id": "6ed2462b",
   "metadata": {},
   "outputs": [
    {
     "data": {
      "text/plain": [
       "111"
      ]
     },
     "execution_count": 78,
     "metadata": {},
     "output_type": "execute_result"
    }
   ],
   "source": [
    "len(df['UA_Country'].unique())"
   ]
  },
  {
   "cell_type": "code",
   "execution_count": 79,
   "id": "56ebff1f",
   "metadata": {},
   "outputs": [
    {
     "data": {
      "text/plain": [
       "6"
      ]
     },
     "execution_count": 79,
     "metadata": {},
     "output_type": "execute_result"
    }
   ],
   "source": [
    "len(df['UA_Continent'].unique())"
   ]
  },
  {
   "cell_type": "markdown",
   "id": "34844ff3",
   "metadata": {},
   "source": [
    "Так как уникальных значений по категориальным переменным немного, что используем метод One-hot encoding, который создаст для каждого уникального значения столбец, заполненный 0 или 1. или просто воспользуемся get_dummies, результаты будут одинаковыми."
   ]
  },
  {
   "cell_type": "code",
   "execution_count": 80,
   "id": "2ca131ad",
   "metadata": {
    "scrolled": true
   },
   "outputs": [
    {
     "data": {
      "text/html": [
       "<div>\n",
       "<style scoped>\n",
       "    .dataframe tbody tr th:only-of-type {\n",
       "        vertical-align: middle;\n",
       "    }\n",
       "\n",
       "    .dataframe tbody tr th {\n",
       "        vertical-align: top;\n",
       "    }\n",
       "\n",
       "    .dataframe thead th {\n",
       "        text-align: right;\n",
       "    }\n",
       "</style>\n",
       "<table border=\"1\" class=\"dataframe\">\n",
       "  <thead>\n",
       "    <tr style=\"text-align: right;\">\n",
       "      <th></th>\n",
       "      <th>Housing</th>\n",
       "      <th>Cost of Living</th>\n",
       "      <th>Startups</th>\n",
       "      <th>Venture Capital</th>\n",
       "      <th>Travel Connectivity</th>\n",
       "      <th>Commute</th>\n",
       "      <th>Business Freedom</th>\n",
       "      <th>Safety</th>\n",
       "      <th>Healthcare</th>\n",
       "      <th>Education</th>\n",
       "      <th>...</th>\n",
       "      <th>UA_Country_ Vietnam</th>\n",
       "      <th>UA_Country_ Virginia</th>\n",
       "      <th>UA_Country_ Washington</th>\n",
       "      <th>UA_Country_ Wisconsin</th>\n",
       "      <th>UA_Continent_Africa</th>\n",
       "      <th>UA_Continent_Asia</th>\n",
       "      <th>UA_Continent_Europe</th>\n",
       "      <th>UA_Continent_North America</th>\n",
       "      <th>UA_Continent_Oceania</th>\n",
       "      <th>UA_Continent_South America</th>\n",
       "    </tr>\n",
       "  </thead>\n",
       "  <tbody>\n",
       "    <tr>\n",
       "      <th>0</th>\n",
       "      <td>6.3095</td>\n",
       "      <td>4.692</td>\n",
       "      <td>3.1365</td>\n",
       "      <td>2.640</td>\n",
       "      <td>1.7765</td>\n",
       "      <td>5.33625</td>\n",
       "      <td>9.399667</td>\n",
       "      <td>7.9260</td>\n",
       "      <td>7.936667</td>\n",
       "      <td>5.1420</td>\n",
       "      <td>...</td>\n",
       "      <td>0</td>\n",
       "      <td>0</td>\n",
       "      <td>0</td>\n",
       "      <td>0</td>\n",
       "      <td>0</td>\n",
       "      <td>0</td>\n",
       "      <td>0</td>\n",
       "      <td>0</td>\n",
       "      <td>1</td>\n",
       "      <td>0</td>\n",
       "    </tr>\n",
       "    <tr>\n",
       "      <th>1</th>\n",
       "      <td>6.1285</td>\n",
       "      <td>5.610</td>\n",
       "      <td>5.4970</td>\n",
       "      <td>5.157</td>\n",
       "      <td>1.7570</td>\n",
       "      <td>4.78425</td>\n",
       "      <td>8.671000</td>\n",
       "      <td>6.5225</td>\n",
       "      <td>6.677333</td>\n",
       "      <td>7.1165</td>\n",
       "      <td>...</td>\n",
       "      <td>0</td>\n",
       "      <td>0</td>\n",
       "      <td>0</td>\n",
       "      <td>0</td>\n",
       "      <td>0</td>\n",
       "      <td>0</td>\n",
       "      <td>0</td>\n",
       "      <td>1</td>\n",
       "      <td>0</td>\n",
       "      <td>0</td>\n",
       "    </tr>\n",
       "    <tr>\n",
       "      <th>2</th>\n",
       "      <td>1.4730</td>\n",
       "      <td>1.000</td>\n",
       "      <td>6.2035</td>\n",
       "      <td>3.872</td>\n",
       "      <td>7.7335</td>\n",
       "      <td>5.83950</td>\n",
       "      <td>8.888000</td>\n",
       "      <td>9.0665</td>\n",
       "      <td>7.670333</td>\n",
       "      <td>7.2875</td>\n",
       "      <td>...</td>\n",
       "      <td>0</td>\n",
       "      <td>0</td>\n",
       "      <td>0</td>\n",
       "      <td>0</td>\n",
       "      <td>0</td>\n",
       "      <td>0</td>\n",
       "      <td>1</td>\n",
       "      <td>0</td>\n",
       "      <td>0</td>\n",
       "      <td>0</td>\n",
       "    </tr>\n",
       "    <tr>\n",
       "      <th>3</th>\n",
       "      <td>5.1345</td>\n",
       "      <td>5.161</td>\n",
       "      <td>2.4715</td>\n",
       "      <td>1.753</td>\n",
       "      <td>0.8525</td>\n",
       "      <td>6.03975</td>\n",
       "      <td>10.000000</td>\n",
       "      <td>8.2230</td>\n",
       "      <td>8.078333</td>\n",
       "      <td>4.7560</td>\n",
       "      <td>...</td>\n",
       "      <td>0</td>\n",
       "      <td>0</td>\n",
       "      <td>0</td>\n",
       "      <td>0</td>\n",
       "      <td>0</td>\n",
       "      <td>0</td>\n",
       "      <td>0</td>\n",
       "      <td>0</td>\n",
       "      <td>1</td>\n",
       "      <td>0</td>\n",
       "    </tr>\n",
       "    <tr>\n",
       "      <th>4</th>\n",
       "      <td>5.5490</td>\n",
       "      <td>4.987</td>\n",
       "      <td>6.2480</td>\n",
       "      <td>2.878</td>\n",
       "      <td>3.6790</td>\n",
       "      <td>4.13400</td>\n",
       "      <td>8.671000</td>\n",
       "      <td>5.3475</td>\n",
       "      <td>6.432333</td>\n",
       "      <td>3.6245</td>\n",
       "      <td>...</td>\n",
       "      <td>0</td>\n",
       "      <td>0</td>\n",
       "      <td>0</td>\n",
       "      <td>0</td>\n",
       "      <td>0</td>\n",
       "      <td>0</td>\n",
       "      <td>0</td>\n",
       "      <td>1</td>\n",
       "      <td>0</td>\n",
       "      <td>0</td>\n",
       "    </tr>\n",
       "  </tbody>\n",
       "</table>\n",
       "<p>5 rows × 319 columns</p>\n",
       "</div>"
      ],
      "text/plain": [
       "   Housing  Cost of Living  Startups  Venture Capital  Travel Connectivity  \\\n",
       "0   6.3095           4.692    3.1365            2.640               1.7765   \n",
       "1   6.1285           5.610    5.4970            5.157               1.7570   \n",
       "2   1.4730           1.000    6.2035            3.872               7.7335   \n",
       "3   5.1345           5.161    2.4715            1.753               0.8525   \n",
       "4   5.5490           4.987    6.2480            2.878               3.6790   \n",
       "\n",
       "   Commute  Business Freedom  Safety  Healthcare  Education  ...  \\\n",
       "0  5.33625          9.399667  7.9260    7.936667     5.1420  ...   \n",
       "1  4.78425          8.671000  6.5225    6.677333     7.1165  ...   \n",
       "2  5.83950          8.888000  9.0665    7.670333     7.2875  ...   \n",
       "3  6.03975         10.000000  8.2230    8.078333     4.7560  ...   \n",
       "4  4.13400          8.671000  5.3475    6.432333     3.6245  ...   \n",
       "\n",
       "   UA_Country_ Vietnam  UA_Country_ Virginia  UA_Country_ Washington  \\\n",
       "0                    0                     0                       0   \n",
       "1                    0                     0                       0   \n",
       "2                    0                     0                       0   \n",
       "3                    0                     0                       0   \n",
       "4                    0                     0                       0   \n",
       "\n",
       "   UA_Country_ Wisconsin  UA_Continent_Africa  UA_Continent_Asia  \\\n",
       "0                      0                    0                  0   \n",
       "1                      0                    0                  0   \n",
       "2                      0                    0                  0   \n",
       "3                      0                    0                  0   \n",
       "4                      0                    0                  0   \n",
       "\n",
       "   UA_Continent_Europe  UA_Continent_North America  UA_Continent_Oceania  \\\n",
       "0                    0                           0                     1   \n",
       "1                    0                           1                     0   \n",
       "2                    1                           0                     0   \n",
       "3                    0                           0                     1   \n",
       "4                    0                           1                     0   \n",
       "\n",
       "   UA_Continent_South America  \n",
       "0                           0  \n",
       "1                           0  \n",
       "2                           0  \n",
       "3                           0  \n",
       "4                           0  \n",
       "\n",
       "[5 rows x 319 columns]"
      ]
     },
     "execution_count": 80,
     "metadata": {},
     "output_type": "execute_result"
    }
   ],
   "source": [
    "df = pd.get_dummies(df)\n",
    "df.head()"
   ]
  },
  {
   "cell_type": "markdown",
   "id": "42a90019",
   "metadata": {},
   "source": [
    "Посмотрим на качество на данном этапе"
   ]
  },
  {
   "cell_type": "code",
   "execution_count": 142,
   "id": "15548271",
   "metadata": {},
   "outputs": [],
   "source": [
    "X = df.drop([\"Quality of Life Index\"], axis=1)\n",
    "y = df[[\"Quality of Life Index\"]]\n",
    "\n",
    "train_X, test_X, train_y, test_y = train_test_split(X, y, test_size=0.33, random_state=42)"
   ]
  },
  {
   "cell_type": "code",
   "execution_count": 143,
   "id": "b8421c0d",
   "metadata": {},
   "outputs": [],
   "source": [
    "reg = LinearRegression().fit(train_X, train_y)"
   ]
  },
  {
   "cell_type": "code",
   "execution_count": 144,
   "id": "e4678c41",
   "metadata": {},
   "outputs": [
    {
     "data": {
      "text/plain": [
       "0.986690568040988"
      ]
     },
     "execution_count": 144,
     "metadata": {},
     "output_type": "execute_result"
    }
   ],
   "source": [
    "reg.score(train_X, train_y)"
   ]
  },
  {
   "cell_type": "code",
   "execution_count": 145,
   "id": "32dec66c",
   "metadata": {},
   "outputs": [
    {
     "data": {
      "text/plain": [
       "-3.3185738146912247e+23"
      ]
     },
     "execution_count": 145,
     "metadata": {},
     "output_type": "execute_result"
    }
   ],
   "source": [
    "reg.score(test_X, test_y)"
   ]
  },
  {
   "cell_type": "markdown",
   "id": "7a7323ef",
   "metadata": {},
   "source": [
    "Предыдущие преобразования несильно улучшили наши данные. Продолжим работу"
   ]
  },
  {
   "cell_type": "markdown",
   "id": "623d6385",
   "metadata": {},
   "source": [
    "Создадим полиномиальные признаки 2ого порядка для наших данных и нормализуем их"
   ]
  },
  {
   "cell_type": "code",
   "execution_count": 146,
   "id": "abf3d7b6",
   "metadata": {},
   "outputs": [],
   "source": [
    "from sklearn.preprocessing import PolynomialFeatures\n",
    "\n",
    "poly = PolynomialFeatures(2)\n",
    "poly.fit_transform(X)\n",
    "\n",
    "train_X = pd.DataFrame(poly.fit_transform(train_X), columns=poly.get_feature_names_out())\n",
    "test_X = pd.DataFrame(poly.fit_transform(test_X), columns=poly.get_feature_names_out())"
   ]
  },
  {
   "cell_type": "code",
   "execution_count": 147,
   "id": "9775008e",
   "metadata": {},
   "outputs": [],
   "source": [
    "from sklearn.preprocessing import StandardScaler\n",
    "\n",
    "scaler = StandardScaler()\n",
    "train_X_st = scaler.fit_transform(train_X)\n",
    "test_X_st = scaler.fit_transform(test_X)"
   ]
  },
  {
   "cell_type": "code",
   "execution_count": 148,
   "id": "9f7fd355",
   "metadata": {},
   "outputs": [],
   "source": [
    "reg = LinearRegression().fit(train_X_st, train_y)"
   ]
  },
  {
   "cell_type": "code",
   "execution_count": 149,
   "id": "b0326f74",
   "metadata": {},
   "outputs": [
    {
     "data": {
      "text/plain": [
       "-5.725145080566852e+24"
      ]
     },
     "execution_count": 149,
     "metadata": {},
     "output_type": "execute_result"
    }
   ],
   "source": [
    "reg.score(test_X_st, test_y)"
   ]
  },
  {
   "cell_type": "markdown",
   "id": "fcf395a8",
   "metadata": {},
   "source": [
    "Попробуем отобрать признаки, используя F-тест."
   ]
  },
  {
   "cell_type": "code",
   "execution_count": 150,
   "id": "080933b4",
   "metadata": {},
   "outputs": [
    {
     "name": "stderr",
     "output_type": "stream",
     "text": [
      "C:\\Users\\An_to\\anaconda3\\lib\\site-packages\\sklearn\\utils\\validation.py:993: DataConversionWarning: A column-vector y was passed when a 1d array was expected. Please change the shape of y to (n_samples, ), for example using ravel().\n",
      "  y = column_or_1d(y, warn=True)\n",
      "C:\\Users\\An_to\\anaconda3\\lib\\site-packages\\sklearn\\feature_selection\\_univariate_selection.py:289: RuntimeWarning: invalid value encountered in true_divide\n",
      "  correlation_coefficient /= X_norms\n"
     ]
    }
   ],
   "source": [
    "from sklearn.feature_selection import f_regression, SelectKBest\n",
    "\n",
    "f_statistic, p_values = f_regression(train_X_st, train_y)"
   ]
  },
  {
   "cell_type": "code",
   "execution_count": 163,
   "id": "de856319",
   "metadata": {},
   "outputs": [
    {
     "name": "stderr",
     "output_type": "stream",
     "text": [
      "C:\\Users\\An_to\\anaconda3\\lib\\site-packages\\sklearn\\utils\\validation.py:993: DataConversionWarning: A column-vector y was passed when a 1d array was expected. Please change the shape of y to (n_samples, ), for example using ravel().\n",
      "  y = column_or_1d(y, warn=True)\n",
      "C:\\Users\\An_to\\anaconda3\\lib\\site-packages\\sklearn\\feature_selection\\_univariate_selection.py:289: RuntimeWarning: invalid value encountered in true_divide\n",
      "  correlation_coefficient /= X_norms\n"
     ]
    }
   ],
   "source": [
    "selector = SelectKBest(f_regression, k=10)\n",
    "\n",
    "train_X = pd.DataFrame(selector.fit_transform(train_X_st, train_y), columns = selector.get_feature_names_out())\n",
    "test_X = pd.DataFrame(selector.transform(test_X_st), columns = selector.get_feature_names_out())"
   ]
  },
  {
   "cell_type": "code",
   "execution_count": 164,
   "id": "760d4913",
   "metadata": {},
   "outputs": [],
   "source": [
    "reg = LinearRegression().fit(train_X, train_y)"
   ]
  },
  {
   "cell_type": "code",
   "execution_count": 166,
   "id": "45dc79a6",
   "metadata": {},
   "outputs": [
    {
     "data": {
      "text/plain": [
       "0.807156309142693"
      ]
     },
     "execution_count": 166,
     "metadata": {},
     "output_type": "execute_result"
    }
   ],
   "source": [
    "reg.score(train_X, train_y)"
   ]
  },
  {
   "cell_type": "code",
   "execution_count": 165,
   "id": "eae79691",
   "metadata": {},
   "outputs": [
    {
     "data": {
      "text/plain": [
       "0.822850208043471"
      ]
     },
     "execution_count": 165,
     "metadata": {},
     "output_type": "execute_result"
    }
   ],
   "source": [
    "reg.score(test_X, test_y)"
   ]
  },
  {
   "cell_type": "markdown",
   "id": "41c182c5",
   "metadata": {},
   "source": [
    "Получили достаточно высокий коэффициент детерминации - 0.823."
   ]
  },
  {
   "cell_type": "code",
   "execution_count": 167,
   "id": "69593658",
   "metadata": {},
   "outputs": [
    {
     "name": "stdout",
     "output_type": "stream",
     "text": [
      "MSE: 222.70960695267186\n",
      "R2 Score: 0.822850208043471\n"
     ]
    }
   ],
   "source": [
    "predictions = reg.predict(test_X)\n",
    "\n",
    "print(f'MSE: {mean_squared_error(test_y, predictions)}')\n",
    "print('R2 Score:', r2_score(test_y, predictions))"
   ]
  },
  {
   "cell_type": "markdown",
   "id": "137e2818",
   "metadata": {},
   "source": [
    "* Была идея посмотреть распределение получившихся данных. Если логнормальное, то может прологарифмировать и применить преобразование Бокса-Кокса. Это могло бы улучшить качество модели."
   ]
  },
  {
   "cell_type": "code",
   "execution_count": 170,
   "id": "4348dbf0",
   "metadata": {},
   "outputs": [],
   "source": [
    "import matplotlib.pyplot as plt\n",
    "import seaborn as sns"
   ]
  },
  {
   "cell_type": "code",
   "execution_count": 172,
   "id": "6007034a",
   "metadata": {},
   "outputs": [],
   "source": [
    "X = train_X + test_X"
   ]
  },
  {
   "cell_type": "code",
   "execution_count": 174,
   "id": "b40acae3",
   "metadata": {},
   "outputs": [
    {
     "data": {
      "text/plain": [
       "array([[<AxesSubplot:title={'center':'x7'}>,\n",
       "        <AxesSubplot:title={'center':'x11'}>,\n",
       "        <AxesSubplot:title={'center':'x2212'}>],\n",
       "       [<AxesSubplot:title={'center':'x2214'}>,\n",
       "        <AxesSubplot:title={'center':'x2216'}>,\n",
       "        <AxesSubplot:title={'center':'x2221'}>],\n",
       "       [<AxesSubplot:title={'center':'x2837'}>,\n",
       "        <AxesSubplot:title={'center':'x3454'}>,\n",
       "        <AxesSubplot:title={'center':'x3455'}>],\n",
       "       [<AxesSubplot:title={'center':'x3459'}>, <AxesSubplot:>,\n",
       "        <AxesSubplot:>]], dtype=object)"
      ]
     },
     "execution_count": 174,
     "metadata": {},
     "output_type": "execute_result"
    },
    {
     "data": {
      "image/png": "[encoded data removed]",
      "text/plain": [
       "<Figure size 640x480 with 12 Axes>"
      ]
     },
     "metadata": {},
     "output_type": "display_data"
    }
   ],
   "source": [
    "X.hist()"
   ]
  },
  {
   "cell_type": "markdown",
   "id": "b97332e4",
   "metadata": {},
   "source": [
    "Как видно из графиков ни одно распределение не напоминает логнормальное. Почти все графики больше напоминают нормальное, а значит - не требуют преобразований."
   ]
  },
  {
   "cell_type": "markdown",
   "id": "00bb335e",
   "metadata": {},
   "source": [
    "### Таким образом, было получено максимальное качество на тестовых данных (0.823)"
   ]
  }
 ],
 "metadata": {
  "kernelspec": {
   "display_name": "Python 3 (ipykernel)",
   "language": "python",
   "name": "python3"
  },
  "language_info": {
   "codemirror_mode": {
    "name": "ipython",
    "version": 3
   },
   "file_extension": ".py",
   "mimetype": "text/x-python",
   "name": "python",
   "nbconvert_exporter": "python",
   "pygments_lexer": "ipython3",
   "version": "3.9.13"
  }
 },
 "nbformat": 4,
 "nbformat_minor": 5
}
